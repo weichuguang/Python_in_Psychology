{
 "cells": [
  {
   "cell_type": "markdown",
   "id": "be6fc8b8-a0c6-40f5-b11d-bc4d1b0698c8",
   "metadata": {},
   "source": [
    "# 第三章NumPy基础"
   ]
  },
  {
   "cell_type": "code",
   "execution_count": null,
   "id": "505e0f7b-407f-4ae4-88eb-5489bd87604d",
   "metadata": {},
   "outputs": [],
   "source": [
    "\"\"\"\n",
    "本代码为《Python心理学应用》一书第三章NumPy基础中的全部代码\n",
    "建议结合书本内容进行实操练习，以增进理解\n",
    "魏楚光，weicg@psych.ac.cn \n",
    "8-Dec-2024\n",
    "\"\"\""
   ]
  },
  {
   "cell_type": "markdown",
   "id": "1ac44ec8-f39a-4948-b5ff-4a10344077a9",
   "metadata": {},
   "source": [
    "### 代码2.1"
   ]
  },
  {
   "cell_type": "code",
   "execution_count": null,
   "id": "efcd84a7-55d2-4971-b258-0be419f2ddcc",
   "metadata": {},
   "outputs": [],
   "source": [
    "#导入numpy,并使用np缩写来代表numpy\n",
    "import numpy as np\n",
    "#调用array()方法创建numpy数组实例\n",
    "one_day_data=np.array([5,4])\n",
    "week_data=np.array([[5,4],[5,6],[3,5],[2,5],[4,5],[3,4],[4,4]])\n",
    "tow_case_data=np.array([[[5,4],[5,6],[3,5],[2,5],[4,5],[3,4],[4,4]],[[4,5],[2,3],[3,4],[2,4],[4,3],[3,3],[4,2]]])\n",
    "#分别查看一日数据，一周数据，多个被试数据的维数、形状、大小和数据类型\n",
    "print(\"one_day_data的维数：\",one_day_data.ndim) #返回维度数\n",
    "print(\"one_day_data的形状：\",one_day_data.shape) #返回形状元组\n",
    "print(\"one_day_data的大小：\",one_day_data.size) #返回元素总数\n",
    "print(\"one_day_data的类型：\",one_day_data.dtype) #返回元素数据类型\n",
    "print(one_day_data)\n",
    "print(\"week_data的维数:\",week_data.ndim)\n",
    "print(\"week_data的形状:\",week_data.shape)\n",
    "print(\"week_data的大小:\",week_data.size)\n",
    "print(\"week_data的类型:\",week_data.dtype)\n",
    "print(week_data)\n",
    "print( \"tow_case_data的维数：\" ,tow_case_data.ndim)\n",
    "print( \"tow_case_data形状：\" ,tow_case_data.shape)\n",
    "print(\"tow_case_data的大小:\",tow_case_data.size)\n",
    "print(\"tow_case_data的类型:\",tow_case_data.dtype)\n",
    "print(tow_case_data)"
   ]
  },
  {
   "cell_type": "markdown",
   "id": "7ec98ed1-ea98-4456-995f-dc965d0ce4ae",
   "metadata": {},
   "source": [
    "### 代码2.2"
   ]
  },
  {
   "cell_type": "code",
   "execution_count": null,
   "id": "bd34dc30-8d5c-4833-9713-7fbc6c505fbb",
   "metadata": {},
   "outputs": [],
   "source": [
    "import numpy as np\n",
    "# 创建一个形状为(3, 4)的全零浮点数数组\n",
    "arr_zeros = np.zeros((3, 4), dtype=float)\n",
    "print(arr_zeros)\n",
    "# 创建一个形状为(4, 3)的全一整数数组\n",
    "arr_ones = np.ones((4, 3), dtype=int)\n",
    "print(arr_ones)\n",
    "# 创建一个形状为(5, 5)的未初始化数组\n",
    "arr_empty = np.empty((5, 5))\n",
    "print(arr_empty)\n",
    "# 创建一个从0开始，到10（不包括10）结束，步长为2的整数数组\n",
    "arr_arange = np.arange(0, 10, 2)\n",
    "print(arr_arange)"
   ]
  },
  {
   "cell_type": "markdown",
   "id": "c22e0bfd-39b0-413f-bb11-c360208d01be",
   "metadata": {},
   "source": [
    "### 代码2.3"
   ]
  },
  {
   "cell_type": "code",
   "execution_count": null,
   "id": "4d5cf20c-e058-4541-a4f1-8c9e226b52c5",
   "metadata": {},
   "outputs": [],
   "source": [
    "import numpy as np\n",
    "#创建一个从0开始，到1结束，包含5个元素的等差数列数组\n",
    "arr_linspace = np.linspace(0, 1, 5)\n",
    "print(arr_linspace)"
   ]
  },
  {
   "cell_type": "markdown",
   "id": "f0e2de38-a6f1-4b21-af2e-812a3df23a25",
   "metadata": {},
   "source": [
    "### 代码2.4"
   ]
  },
  {
   "cell_type": "code",
   "execution_count": null,
   "id": "72fc8fc7-acd5-46dd-9dec-f82ec9cb3e1b",
   "metadata": {},
   "outputs": [],
   "source": [
    "import numpy as np\n",
    "# 创建一个形状为(3, 4)的数组，所有元素都为7\n",
    "arr_full = np.full((3, 4), 7)\n",
    "print(arr_full)"
   ]
  },
  {
   "cell_type": "code",
   "execution_count": null,
   "id": "f5cd1fa9-af61-463b-80ac-f42eef835c48",
   "metadata": {},
   "outputs": [],
   "source": [
    "import numpy as np\n",
    "#创建一个三维数组实例，并且给数组贴上data标签，方便后面调用\n",
    "data=np.array([[[5,4],[5,6],[3,5],[2,5],[4,5],[3,4],[4,4]],[[4,5],[2,3],[3,4],[2,4],[4,3],[3,3],[4,2]]])\n",
    "#用切片[]选择数据\n",
    "print(\"1号楼的所有数据：\",data[1]) #选择1号楼的所有数据，1是楼的索引号\n",
    "print(\"1号楼6层的所有数据：\",data[1][6]) #选择1号楼6层的数据，6是楼层的索引号\n",
    "print(\"1号楼6层0室的数据：\",data[1][6][0])#选择1号楼6层的0室的数据，0是房间的索引号"
   ]
  },
  {
   "cell_type": "markdown",
   "id": "d65af247-5712-4694-9c1e-69eacc4cf357",
   "metadata": {},
   "source": [
    "### 代码2.6"
   ]
  },
  {
   "cell_type": "code",
   "execution_count": null,
   "id": "79be8e54-3009-458c-bb0d-92c63c71dd13",
   "metadata": {},
   "outputs": [],
   "source": [
    "import numpy as np\n",
    "arr=np.arange(10)\n",
    "print(\"修改之前的数组：\",arr)\n",
    "#使用切片选择数组某些元素，然后做新的赋值\n",
    "arr[3]=100\n",
    "print(\"修改索引为3的元素：\",arr)\n",
    "arr[4:8]=20\n",
    "print(\"修改索引值在4-8之间的元素：\",arr)"
   ]
  },
  {
   "cell_type": "markdown",
   "id": "63742da3-5193-4b6d-9bfb-50f8b6719677",
   "metadata": {},
   "source": [
    "### 代码2.7"
   ]
  },
  {
   "cell_type": "code",
   "execution_count": null,
   "id": "8d9756e5-f096-4c0d-8c21-16c234a8b5c0",
   "metadata": {},
   "outputs": [],
   "source": [
    "import numpy as np\n",
    "arr=np.arange(10)\n",
    "print(\"修改之前的数组：\",arr)\n",
    "#使用切片选择数组某些元素，然后做新的赋值\n",
    "arr[3]=100\n",
    "print(\"修改索引为3的元素：\",arr)\n",
    "arr[4:8]=20\n",
    "print(\"修改索引值在4-8之间的元素：\",arr)"
   ]
  },
  {
   "cell_type": "markdown",
   "id": "6cd0ae76-f644-4ffc-ba7c-5090315cc3c1",
   "metadata": {},
   "source": [
    "### 代码2.8"
   ]
  },
  {
   "cell_type": "code",
   "execution_count": null,
   "id": "f0dd80b0-366e-46c7-9c3e-1b63f46d95ff",
   "metadata": {},
   "outputs": [],
   "source": [
    "import numpy as np\n",
    "arr=np.zeros((3,5))\n",
    "print(\"全零数组：\",arr)\n",
    "num=1\n",
    "for i in range(3):\n",
    "    for j in range(5):\n",
    "        arr[i,j]=num\n",
    "        num+=1\n",
    "print(\"填充数据后的数组：\",arr)"
   ]
  },
  {
   "cell_type": "markdown",
   "id": "8593f5cc-0709-4f21-9579-0aff95b5e549",
   "metadata": {},
   "source": [
    "### 代码2.9"
   ]
  },
  {
   "cell_type": "code",
   "execution_count": null,
   "id": "12bfd6c3-825d-4071-af4d-f88f5648d793",
   "metadata": {},
   "outputs": [],
   "source": [
    "import numpy as np\n",
    "arr=np.arange(12)\n",
    "print(\"原始数组：\",arr)\n",
    "arr_reshape=arr.reshape(3,4)\n",
    "print(\"使用reshape后的原始数组：\",arr)\n",
    "print(\"reshape函数返回的新数组：\",arr_reshape)\n",
    "#修改原始数组的元素值,reshape函数返回的新数组也会跟着改变\n",
    "arr[3]=100\n",
    "print(\"修改3号元素后的数组：\",arr)\n",
    "print(\"reshape函数返回的新数组：\",arr_reshape)"
   ]
  },
  {
   "cell_type": "markdown",
   "id": "6f8be350-f53f-44be-b255-db647a9c9576",
   "metadata": {},
   "source": [
    "### 代码2.10 "
   ]
  },
  {
   "cell_type": "code",
   "execution_count": null,
   "id": "c735e6c0-91b0-4ecc-bbf0-89a7906b2820",
   "metadata": {},
   "outputs": [],
   "source": [
    "import numpy as np\n",
    "arr=np.arange(12)\n",
    "print(\"原始数组：\",arr)\n",
    "arr.resize(3,4)#原地修改arr数组\n",
    "print(\"使用resize修改形状后的数组：\",arr)\n",
    "arr.resize(3,3)#原地修改arr数组的形状，并缩小arr\n",
    "print(\"使用resize修改形状和缩小后的数组：\",arr)\n",
    "arr.resize(3,5)#原地修改arr数组的形状，并扩大arr\n",
    "print(\"使用resize修改形状和扩大后的数组：\",arr)"
   ]
  },
  {
   "cell_type": "markdown",
   "id": "73e654d3-d987-48a9-a658-f8f06a9de950",
   "metadata": {},
   "source": [
    "### 代码2.11"
   ]
  },
  {
   "cell_type": "code",
   "execution_count": null,
   "id": "4dda935b-4d16-4b9b-a7a6-b028b4daab9d",
   "metadata": {},
   "outputs": [],
   "source": [
    "import numpy as np\n",
    "arr1 = np.array([1, 2, 3])\n",
    "arr2 = np.array([4, 5, 6])\n",
    "combined_horizontal = np.hstack((arr1, arr2))\n",
    "print(\"横向组合结果：\",combined_horizontal)\n",
    "combined_vertical = np.vstack((arr1, arr2))\n",
    "print(\"纵向组合结果：\",combined_vertical)"
   ]
  },
  {
   "cell_type": "markdown",
   "id": "f432d9b2-20b9-47e2-9ca7-0b8793f5d2a0",
   "metadata": {},
   "source": [
    "### 代码2.12 "
   ]
  },
  {
   "cell_type": "code",
   "execution_count": null,
   "id": "1fd2eafe-1d26-4856-ac6c-f07efde19342",
   "metadata": {},
   "outputs": [],
   "source": [
    "import numpy as np\n",
    "arr1 = np.array([[[1, 2], [3, 4]], [[5, 6], [7, 8]]])\n",
    "arr2 = np.array([[[9, 10], [11, 12]], [[13, 14], [15, 16]]])\n",
    "combined_depth = np.dstack((arr1, arr2))\n",
    "print(\"深度组合结果：\",combined_depth)"
   ]
  },
  {
   "cell_type": "markdown",
   "id": "a3002ad9-5450-4b06-a7a6-83fc0912ea7b",
   "metadata": {},
   "source": [
    "### 代码2.13 "
   ]
  },
  {
   "cell_type": "code",
   "execution_count": null,
   "id": "5b497058-3c2e-4fc0-84a7-ee72b006779d",
   "metadata": {},
   "outputs": [],
   "source": [
    "import numpy as np\n",
    "# 创建一个两维数组\n",
    "arr = np.array([[1,2,3,4],[5,6,7,8]])\n",
    "# 使用 split 函数将数组分割成两个子数组\n",
    "sub_arrays = np.split(arr, 2)\n",
    "# 输出分割后的子数组\n",
    "print(\"分割后的子数组：\")\n",
    "for sub_array in sub_arrays:\n",
    "    print(sub_array)"
   ]
  },
  {
   "cell_type": "markdown",
   "id": "631f1bb6-88bf-43eb-92ff-f93675cf4a17",
   "metadata": {},
   "source": [
    "### 代码3.1 "
   ]
  },
  {
   "cell_type": "code",
   "execution_count": null,
   "id": "db6becf4-3d62-4779-92c2-a6adb12a73b7",
   "metadata": {},
   "outputs": [],
   "source": [
    "import numpy as np\n",
    "arr1 = np.array([[1, 2], [3, 4]])\n",
    "arr2 = np.array([[5, 6], [7, 8]])\n",
    "arr3 = np.array([[2, 4], [6, 8]])\n",
    "arr_add=arr1+arr2\n",
    "print(\"arr1+arr2的结果：\",arr_add)\n",
    "arr_substract=arr2-arr1\n",
    "print(\"arr2-arr1的结果：\",arr_substract)\n",
    "arr_multiply=arr1*arr2\n",
    "print(\"arr1*arr2的结果：\",arr_multiply)\n",
    "arr_divide=arr3/arr1\n",
    "print(\"arr2/arr1的结果：\",arr_divide)"
   ]
  },
  {
   "cell_type": "markdown",
   "id": "a5547ef0-2938-4130-9448-03d09bedec5b",
   "metadata": {},
   "source": [
    "### 代码3.2"
   ]
  },
  {
   "cell_type": "code",
   "execution_count": null,
   "id": "0b4d1333-a9a9-449f-8743-460ae85f3dcd",
   "metadata": {},
   "outputs": [],
   "source": [
    "import numpy as np\n",
    "#创建两个一维数组\n",
    "arr1=np.array([1,2,3])\n",
    "arr2=np.array([4,5,6])\n",
    "#两个一维数组相乘\n",
    "arr_multiply=np.multiply(arr1,arr2)\n",
    "print(\"两个一维数组相乘的结果:\",arr_multiply)\n",
    "#两个一维数组计算点积\n",
    "arr_dot=np.dot(arr1,arr2)\n",
    "print(\"两个一维数组点积运算的结果:\",arr_multiply)\n",
    "#创建两个二维数组\n",
    "arr3=np.array([[1, 2], [3, 4]])\n",
    "arr4=np.array([[5, 7], [6, 8]])\n",
    "arr_dot2=np.dot(arr3,arr4)\n",
    "print(\"两个二维数组点积运算的结果：\",arr_dot2)"
   ]
  },
  {
   "cell_type": "markdown",
   "id": "bf99cd93-12a7-412e-9d4c-61107f0b0fb3",
   "metadata": {},
   "source": [
    "### 代码4.1 "
   ]
  },
  {
   "cell_type": "code",
   "execution_count": null,
   "id": "4b08e46e-7e24-41b3-8810-f0537a5236f0",
   "metadata": {},
   "outputs": [],
   "source": [
    "#导入random模块\n",
    "from numpy import random\n",
    "#定义个骰子函数\n",
    "def dice():\n",
    "    return random.choice([1,2,3,4,5,6])\n",
    "#使用骰子进行20次投掷实验\n",
    "random.seed(123)\n",
    "results=[]\n",
    "for trail in range(20):\n",
    "    choice=dice()\n",
    "    results.append(choice)\n",
    "print(\"投掷骰子20次获得的数值结果是：\",results)"
   ]
  },
  {
   "cell_type": "markdown",
   "id": "5605bcbf-dcd5-4d9f-8800-b551c86c3f77",
   "metadata": {},
   "source": [
    "### 代码4.2"
   ]
  },
  {
   "cell_type": "code",
   "execution_count": null,
   "id": "74adf2b9-51dc-4d43-b5d6-ca62b8e54ddb",
   "metadata": {},
   "outputs": [],
   "source": [
    "# 导入random模块\n",
    "from numpy import random\n",
    "# 使用六面骰子进行20次投掷实验\n",
    "random.seed(123)\n",
    "results=random.randint(low=1,high=7,size=20)\n",
    "print(\"投掷骰子20次获得的数值结果是：\",results)"
   ]
  },
  {
   "cell_type": "markdown",
   "id": "b3464c36-3a05-419f-b362-c39fb3d7684a",
   "metadata": {},
   "source": [
    "### 代码4.3"
   ]
  },
  {
   "cell_type": "code",
   "execution_count": null,
   "id": "f28f9cd8-0e15-48ce-b456-34bf11953fc8",
   "metadata": {},
   "outputs": [],
   "source": [
    "import numpy as np \n",
    "# 调用随机random类里的各个方法创建数组\n",
    "arr_rand=np.random.rand(3,3) \n",
    "# 返回一个或一组服从“连续均匀分布”的随机样本，取值范围为[0, 1)。\n",
    "arr_randn=np.random.randn(3,3)\n",
    "# 返回一个或一组服从标准正态分布（均值为0，标准差为1）的随机样本。\n",
    "arr_randint=np.random.randint(low=60, high=100, size=(3,3), dtype=int) # 返回一个整数或整数数组，范围从低（包含）到高（不包含），可以选择是否进行替换。\n",
    "arr_normal=np.random.normal(loc=100, scale=15, size=15)  # 返回均值为100，标准差为15的正态分布随机样本。\n",
    "arr_uniform=np.random.uniform(low=0.0, high=100, size=15)  # 返回在半开区间[low, high)内的均匀分布随机样本。\n",
    "arr_exponential=np.random.exponential(scale=1.0, size=15) # 返回一个指数分布随机样本，其中scale是指数分布的缩放参数。\n",
    "arr_binomial=np.random.binomial(n=10, p=0.5, size=15) # 返回一个服从二项式分布的随机样本。其中，n表示试验次数，p表示每次试验成功的概率。\n",
    "a_poisson=np.random.poisson(lam=1.0, size=15) # 返回一个服从泊松分布的随机样本。其中，lam表示事件的平均发生率，size表示生成的样本数量。\n",
    "#查看生成的数组结果\n",
    "print(\"连续均匀分布：\",arr_rand)\n",
    "print(\"标准生态分布：\",arr_randn)\n",
    "print(\"整数数组：\",arr_randint)\n",
    "print(\"正态分布：\",arr_normal)\n",
    "print(\"均匀随机分布：\",arr_uniform)\n",
    "print(\"指数随机分布：\",arr_exponential)\n",
    "print(\"泊松随机分布：\",arr_binomial)"
   ]
  },
  {
   "cell_type": "markdown",
   "id": "c9acafa0-3c02-46f6-ac5b-b79813d4d45e",
   "metadata": {},
   "source": [
    "### 代码5.1 "
   ]
  },
  {
   "cell_type": "code",
   "execution_count": null,
   "id": "dc6126fc-30cf-4cba-8a62-7f457a19b68d",
   "metadata": {},
   "outputs": [],
   "source": [
    "import matplotlib.pyplot as plt\n",
    "import numpy as np \n",
    "plt.xticks(np.arange(0,101,10)) # 设置和自定义x轴刻度和标签\n",
    "plt.yticks(np.arange(0,101,10))\n",
    "#显示图形\n",
    "plt.show()"
   ]
  },
  {
   "cell_type": "markdown",
   "id": "e86364ed-f4a7-4b20-a4fe-25360c1c5cff",
   "metadata": {},
   "source": [
    "### 代码5.2 "
   ]
  },
  {
   "cell_type": "code",
   "execution_count": null,
   "id": "8734e37b-17d2-49cf-b57d-f908855d6b04",
   "metadata": {},
   "outputs": [],
   "source": [
    "import matplotlib.pyplot as plt\n",
    "import numpy as np\n",
    "#设置全局参数，移除顶部和右侧边框\n",
    "plt.rcParams[\"axes.spines.right\"] = False\n",
    "plt.rcParams[\"axes.spines.top\"] = False\n",
    "#设置和自定义x轴刻度和标签\n",
    "plt.xticks(np.arange(0,101,10))\n",
    "plt.yticks(np.arange(0,101,10))\n",
    "#显示图形\n",
    "plt.show()"
   ]
  },
  {
   "cell_type": "markdown",
   "id": "906edf31-a5c5-470a-9664-1ca131925cab",
   "metadata": {},
   "source": [
    "### 代码5.3"
   ]
  },
  {
   "cell_type": "code",
   "execution_count": null,
   "id": "c13643a9-6bb1-4e66-b72a-099b263bf3ba",
   "metadata": {},
   "outputs": [],
   "source": [
    "import matplotlib.pyplot as plt\n",
    "import numpy as np\n",
    "#设置全局参数，移除顶部和右侧边框\n",
    "plt.rcParams[\"axes.spines.right\"] = False\n",
    "plt.rcParams[\"axes.spines.top\"] = False\n",
    "#绘制X轴0-20之间的折线图\n",
    "x_plot=[1,3,5,7,9,13,18,19]\n",
    "y_plot=[50,15,55,30,45,32,70,50]\n",
    "plt.plot(x_plot,y_plot,color=\"gray\")#绘制折线图\n",
    "#设置和自定义x轴刻度和标签\n",
    "plt.xticks(np.arange(0,101,10))\n",
    "plt.yticks(np.arange(0,101,10))\n",
    "#显示图形\n",
    "plt.show()"
   ]
  },
  {
   "cell_type": "markdown",
   "id": "46425db5-f715-43e1-8e65-6c66d904dd21",
   "metadata": {},
   "source": [
    "### 代码5.4"
   ]
  },
  {
   "cell_type": "code",
   "execution_count": null,
   "id": "e3bf84d4-2163-49ce-8f23-354415992c03",
   "metadata": {},
   "outputs": [],
   "source": [
    "import matplotlib.pyplot as plt\n",
    "import numpy as np\n",
    "# 设置全局参数，移除顶部和右侧边框\n",
    "plt.rcParams[\"axes.spines.right\"] = False\n",
    "plt.rcParams[\"axes.spines.top\"] = False\n",
    "#绘制x轴0-20之间的折线图\n",
    "x_plot=[1,3,5,7,9,13,18,19]\n",
    "y_plot=[50,15,55,30,45,32,70,50]\n",
    "plt.plot(x_plot,y_plot,color=\"gray\")\n",
    "#绘制x轴20-40之间的散点图\n",
    "np.random.seed(1)\n",
    "x_scatter=np.random.randint(20,40,size=20)\n",
    "y_scatter=np.random.randint(30,70,size=20)\n",
    "plt.scatter(x_scatter,y_scatter,color=\"gray\")#绘制散点图\n",
    "#设置和自定义x轴刻度和标签\n",
    "plt.xticks(np.arange(0,101,10))\n",
    "plt.yticks(np.arange(0,101,10))\n",
    "#显示图形\n",
    "plt.show()"
   ]
  },
  {
   "cell_type": "markdown",
   "id": "d30996fc-a2b4-46fb-8731-886ea140d571",
   "metadata": {},
   "source": [
    "### 代码5.5 "
   ]
  },
  {
   "cell_type": "code",
   "execution_count": null,
   "id": "2ee0df82-3acd-4fc2-b08f-263b583ee598",
   "metadata": {},
   "outputs": [],
   "source": [
    "import matplotlib.pyplot as plt\n",
    "import numpy as np\n",
    "# 设置全局参数，移除顶部和右侧边框\n",
    "plt.rcParams[\"axes.spines.right\"] = False\n",
    "plt.rcParams[\"axes.spines.top\"] = False\n",
    "#绘制x轴0-20之间的折线图\n",
    "x_plot=[1,3,5,7,9,13,18,19]\n",
    "y_plot=[50,15,55,30,45,32,70,50]\n",
    "plt.plot(x_plot,y_plot,color=\"gray\")\n",
    "#绘制x轴20-40之间的散点图\n",
    "np.random.seed(1)\n",
    "x_scatter=np.random.randint(20,40,size=20)\n",
    "y_scatter=np.random.randint(30,70,size=20)\n",
    "plt.scatter(x_scatter,y_scatter,color=\"gray\")\n",
    "#绘制x轴40-60之间的柱状图\n",
    "x_bar=[45,50,55] #三个柱子中心在横轴上的位置\n",
    "y_bar=[32,48,59] #三个柱子高度\n",
    "std_errors = [2.3, 3.2, 4.5] # 假设的标准误\n",
    "plt.bar(x_bar,y_bar,color=\"gray\",width=3)#绘制柱状图\n",
    "plt.errorbar(x_bar, y_bar, yerr=std_errors, ecolor='gray', capsize=3, capthick=2,linestyle=\"None\")\n",
    "#设置和自定义x轴刻度和标签\n",
    "plt.xticks(np.arange(0,101,10))\n",
    "plt.yticks(np.arange(0,101,10))\n",
    "#显示图形\n",
    "plt.errorbar\n",
    "plt.show()"
   ]
  },
  {
   "cell_type": "markdown",
   "id": "2da5f402-3ce6-41ee-b3b5-e8df711cb1d3",
   "metadata": {},
   "source": [
    "### 代码5.6 "
   ]
  },
  {
   "cell_type": "code",
   "execution_count": null,
   "id": "80a5f846-de32-4be1-895c-61608a782c92",
   "metadata": {},
   "outputs": [],
   "source": [
    "import matplotlib.pyplot as plt\n",
    "import numpy as np\n",
    "import pandas as pd\n",
    "import seaborn as sns\n",
    "# 设置全局参数，移除顶部和右侧边框\n",
    "plt.rcParams[\"axes.spines.right\"] = False\n",
    "plt.rcParams[\"axes.spines.top\"] = False\n",
    "#绘制x轴0-20之间的折线图\n",
    "x_plot=[1,3,5,7,9,13,18,19]\n",
    "y_plot=[50,15,55,30,45,32,70,50]\n",
    "plt.plot(x_plot,y_plot,color=\"gray\")\n",
    "#绘制x轴20-40之间的散点图\n",
    "np.random.seed(1)\n",
    "x_scatter=np.random.randint(20,40,size=20)\n",
    "y_scatter=np.random.randint(30,70,size=20)\n",
    "plt.scatter(x_scatter,y_scatter,color=\"gray\")\n",
    "#绘制x轴40-60之间的柱状图\n",
    "x_bar=[45,50,55]\n",
    "y_bar=[32,48,59]\n",
    "std_errors = [2.3, 3.2, 4.5]  # 假设的标准误\n",
    "plt.bar(x_bar,y_bar,color=\"gray\",width=3)\n",
    "plt.errorbar( x_bar,y_bar, yerr=std_errors, ecolor='gray', capsize=3, capthick=2,linestyle=\"None\")\n",
    "# #绘制x轴60-100之间的回归图\n",
    "x_reg=np.random.rand(30)*40+60\n",
    "y_reg=0.7*x_reg + np.random.normal(loc=-10,scale=10,size=30)\n",
    "sns.regplot(x=x_reg,y=y_reg,color=\"gray\",ci=95,scatter_kws={'s': 10},line_kws={'color': 'gray', 'alpha': 0.7})\n",
    "#设置和自定义x轴刻度和标签\n",
    "plt.xticks(np.arange(0,101,10))\n",
    "plt.yticks(np.arange(0,101,10))\n",
    "#添加坐标标题和图标题\n",
    "plt.xlabel(\"x_axis\")\n",
    "plt.ylabel(\"y_axis\")\n",
    "plt.title(\"matplotlib pic\")\n",
    "#显示图形\n",
    "plt.show()"
   ]
  }
 ],
 "metadata": {
  "kernelspec": {
   "display_name": "Python 3 (ipykernel)",
   "language": "python",
   "name": "python3"
  },
  "language_info": {
   "codemirror_mode": {
    "name": "ipython",
    "version": 3
   },
   "file_extension": ".py",
   "mimetype": "text/x-python",
   "name": "python",
   "nbconvert_exporter": "python",
   "pygments_lexer": "ipython3",
   "version": "3.12.6"
  }
 },
 "nbformat": 4,
 "nbformat_minor": 5
}
