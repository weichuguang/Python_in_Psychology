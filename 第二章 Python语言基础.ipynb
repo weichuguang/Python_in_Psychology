{
 "cells": [
  {
   "cell_type": "markdown",
   "id": "95c64841-41c4-47d3-99d7-55a717fc43eb",
   "metadata": {},
   "source": [
    "# 第二章 Python语言基础"
   ]
  },
  {
   "cell_type": "code",
   "execution_count": null,
   "id": "dd065e1e-9428-4f0b-8cda-28344735e283",
   "metadata": {},
   "outputs": [],
   "source": [
    "\"\"\"\n",
    "本代码为《Python心理学应用》一书第二章 Python语言基础 的全部代码\n",
    "建议结合书本内容进行实操练习，以增进理解\n",
    "魏楚光，weicg@psych.ac.cn \n",
    "8-Dec-2024\n",
    "\"\"\""
   ]
  },
  {
   "cell_type": "markdown",
   "id": "3238b71a-954f-4da7-803a-b0938bb2edb8",
   "metadata": {},
   "source": [
    "### 代码3.1"
   ]
  },
  {
   "cell_type": "code",
   "execution_count": null,
   "id": "8b7af2c3-0513-4bb6-bc57-376ee8e1a027",
   "metadata": {},
   "outputs": [],
   "source": [
    "import keyword\n",
    "# 通过print()函数输出查看变量值\n",
    "print(keyword.kwlist)"
   ]
  },
  {
   "cell_type": "markdown",
   "id": "8b97a8c4-38df-4432-a4e8-c2d434b776cf",
   "metadata": {},
   "source": [
    "### 代码3.2"
   ]
  },
  {
   "cell_type": "code",
   "execution_count": null,
   "id": "fd44ab0b-2eaf-4574-92a3-4fd6cb8a0476",
   "metadata": {},
   "outputs": [],
   "source": [
    "sub_ID = 9\n",
    "sub_name = \"weichuguang\"\n",
    "print(sub_ID)\n",
    "print(sub_name )"
   ]
  },
  {
   "cell_type": "markdown",
   "id": "572db1eb-b23b-4522-b63a-ec1bb97752a5",
   "metadata": {},
   "source": [
    "### 代码3.3"
   ]
  },
  {
   "cell_type": "code",
   "execution_count": null,
   "id": "28c9fb18-74e7-4b33-bfdc-23911baabba5",
   "metadata": {},
   "outputs": [],
   "source": [
    "sub_name, sub_age, sub_gender = \"张三\",  22, \"男\"\n",
    "# 通过print输出查看变量值\n",
    "print(sub_name, sub_age, sub_gender)"
   ]
  },
  {
   "cell_type": "markdown",
   "id": "c742d6f4-7cf9-41d2-a59c-f31af6d62091",
   "metadata": {},
   "source": [
    "### 代码3.4"
   ]
  },
  {
   "cell_type": "code",
   "execution_count": null,
   "id": "31e50212-c36f-4682-aa35-0cc84f7bf1e2",
   "metadata": {},
   "outputs": [],
   "source": [
    "sub_name, sub_age, sub_gender = \"张三\",  22, \"男\"\n",
    "sub_name, sub_age, sub_gender = \"李四\",  33, \"女\"\n",
    "print(sub_name, sub_age, sub_gender)"
   ]
  },
  {
   "cell_type": "markdown",
   "id": "04d66bb3-6262-42c6-ad4f-4b80d7b109de",
   "metadata": {},
   "source": [
    "## 第四节 数据类型"
   ]
  },
  {
   "cell_type": "markdown",
   "id": "15b6e60a-05d4-4942-8b1b-49e03728e7ff",
   "metadata": {},
   "source": [
    "### 代码4.1"
   ]
  },
  {
   "cell_type": "code",
   "execution_count": null,
   "id": "9b6eeca8-fff9-43a9-b21e-72f19c509340",
   "metadata": {},
   "outputs": [],
   "source": [
    "a = 1234567890123456789012345678901234567890\n",
    "print(a)"
   ]
  },
  {
   "cell_type": "markdown",
   "id": "d85649b8-5642-4618-8cd6-2685bc88e18d",
   "metadata": {},
   "source": [
    "代码4.2"
   ]
  },
  {
   "cell_type": "code",
   "execution_count": null,
   "id": "59844bf7-f2cf-4e78-bb96-dafae34b2c52",
   "metadata": {},
   "outputs": [],
   "source": [
    "a,b=10,3\n",
    "print(a+b)\n",
    "print(a-b)\n",
    "print(a*b)\n",
    "print(a/b)\n",
    "print(a**b)\n",
    "print(a%b)\n",
    "print(a//b)"
   ]
  },
  {
   "cell_type": "markdown",
   "id": "693a869b-3cd7-479c-a794-70537d3df588",
   "metadata": {},
   "source": [
    "### 代码4.3"
   ]
  },
  {
   "cell_type": "code",
   "execution_count": null,
   "id": "debe9e21-d8db-4359-aa51-de0b2c927528",
   "metadata": {},
   "outputs": [],
   "source": [
    "a=0.1\n",
    "b=0.2\n",
    "c=7.5\n",
    "d=3.0\n",
    "e=1.23e-4\n",
    "print(a+b)\n",
    "print(c+d)\n",
    "print(c-d)\n",
    "print(c*d)\n",
    "print(c/d)\n",
    "print(c//d)\n",
    "print(c%d) "
   ]
  },
  {
   "cell_type": "markdown",
   "id": "8fcb47c4-32ce-4518-91fa-933ea683d0be",
   "metadata": {},
   "source": [
    "### 代码4.4"
   ]
  },
  {
   "cell_type": "code",
   "execution_count": null,
   "id": "ce92ddb3-6b0a-4cbd-b61d-dc164ec461ae",
   "metadata": {},
   "outputs": [],
   "source": [
    "reaction_time = 1.23456789\n",
    "print(round(reaction_time,3))"
   ]
  },
  {
   "cell_type": "markdown",
   "id": "13fd4c24-764f-4717-9671-32d689650be4",
   "metadata": {},
   "source": [
    "### 代码4.5"
   ]
  },
  {
   "cell_type": "code",
   "execution_count": null,
   "id": "75dd3f19-7839-4b5b-9369-162c0811feeb",
   "metadata": {},
   "outputs": [],
   "source": [
    "sub_name='weichuguang'\n",
    "sub_gender=\"Male\"\n",
    "msg1=\"I'm a Python developer\"\n",
    "msg2='I\\'m a Python developer'\n",
    "msg3= 'She said, \"Python is great\"'\n",
    "msg4= \"She said, \\\"Python is great\\\"\"\n",
    "\n",
    "print(sub_name)\n",
    "print(sub_gender)\n",
    "print(msg1)\n",
    "print(msg2)\n",
    "print(msg3)\n",
    "print(msg4)"
   ]
  },
  {
   "cell_type": "markdown",
   "id": "989847be-98a0-4863-b18a-bf811c2dc9f6",
   "metadata": {},
   "source": [
    "### 代码4.6"
   ]
  },
  {
   "cell_type": "code",
   "execution_count": null,
   "id": "4e7a0313-a38f-426a-acf3-724abe0fa3d7",
   "metadata": {},
   "outputs": [],
   "source": [
    "multi_line_str1 = '''This is\n",
    "a string that spans\n",
    "multiple lines.'''\n",
    "\n",
    "multi_line_str2 = \"\"\"This is\n",
    "another way to define\n",
    "multi-line strings.\"\"\"\n",
    "\n",
    "feedback_msg=\"按键正确\\n反应时为0.98秒。\" \n",
    "print(multi_line_str1,'\\n')\n",
    "print(multi_line_str2)\n",
    "print()\n",
    "print(feedback_msg)"
   ]
  },
  {
   "cell_type": "markdown",
   "id": "ede6a2c0-d82b-4fce-9732-b60b783e7a12",
   "metadata": {},
   "source": [
    "### 代码4.7"
   ]
  },
  {
   "cell_type": "code",
   "execution_count": null,
   "id": "d722f681-060b-49d3-bb77-6cd9c911f475",
   "metadata": {},
   "outputs": [],
   "source": [
    "def greet(sub_name):\n",
    "    \"\"\"\n",
    "    This function greets the sub passed in as a parameter.\n",
    "    \"\"\"\n",
    "    print(f\"Hello, {sub_name}!\")\n",
    "\n",
    "greet('zhangsan')"
   ]
  },
  {
   "cell_type": "markdown",
   "id": "87fbb4da-bc7c-4bc6-8eee-fa902639f432",
   "metadata": {},
   "source": [
    "### 代码4.8"
   ]
  },
  {
   "cell_type": "code",
   "execution_count": null,
   "id": "beb70d9b-ed8b-4b9b-9431-1d97a077bea5",
   "metadata": {},
   "outputs": [],
   "source": [
    "str='Python'\n",
    "print(str[0])\n",
    "print(str[-1])\n",
    "print(str[5])\n",
    "print(str[-6])"
   ]
  },
  {
   "cell_type": "markdown",
   "id": "c6f84011-3816-4789-9581-ff9b93039650",
   "metadata": {},
   "source": [
    "### 代码4.9"
   ]
  },
  {
   "cell_type": "code",
   "execution_count": null,
   "id": "70bc6d1f-b036-43e7-9b6b-2beb4b073dbc",
   "metadata": {},
   "outputs": [],
   "source": [
    "str='Python'\n",
    "print(str[6])"
   ]
  },
  {
   "cell_type": "markdown",
   "id": "6673b18f-f9b6-4a98-a0dc-c251efe69922",
   "metadata": {},
   "source": [
    "### 代码4.10"
   ]
  },
  {
   "cell_type": "code",
   "execution_count": null,
   "id": "66e9b8a7-6112-42fa-a5ac-e73691550566",
   "metadata": {},
   "outputs": [],
   "source": [
    "words = ['This', 'is', 'a', 'sentence']\n",
    "joined_str = \" \".join(words)\n",
    "print(joined_str) "
   ]
  },
  {
   "cell_type": "markdown",
   "id": "13bbda23-6d15-4fa1-a3df-b955a89f0703",
   "metadata": {},
   "source": [
    "### 代码4.11"
   ]
  },
  {
   "cell_type": "code",
   "execution_count": null,
   "id": "ec70f085-6ac5-4d05-94d6-82923aa841f3",
   "metadata": {},
   "outputs": [],
   "source": [
    "response_time = 0.92\n",
    "text = \"反应时是： \"\n",
    "feedback_msg = text + str(response_time)\n",
    "print(feedback_msg)  # 输出：反应时是： 0.92"
   ]
  },
  {
   "cell_type": "markdown",
   "id": "3b2ecad1-f554-415e-bbd7-04b26f85daad",
   "metadata": {},
   "source": [
    "### 代码4.12"
   ]
  },
  {
   "cell_type": "code",
   "execution_count": null,
   "id": "0cabbc3e-0c0c-4144-b3dd-1a6938ffb989",
   "metadata": {},
   "outputs": [],
   "source": [
    "response_time = 0.92\n",
    "text = \"反应时是： \"\n",
    "feedback_msg = text + str(response_time)\n",
    "print(feedback_msg)  # 输出：反应时是： 0.92"
   ]
  },
  {
   "cell_type": "markdown",
   "id": "93da2a91-f4b9-41a2-b4fa-f018b6d3f391",
   "metadata": {},
   "source": [
    "### 代码4.13"
   ]
  },
  {
   "cell_type": "code",
   "execution_count": null,
   "id": "6cabde85-c867-49aa-8872-379159b1e5b1",
   "metadata": {},
   "outputs": [],
   "source": [
    "channel1='EEG 01'\n",
    "print(channel1.replace(' ',''))"
   ]
  },
  {
   "cell_type": "markdown",
   "id": "49599785-3045-4c9c-9244-64981c2f6e4e",
   "metadata": {},
   "source": [
    "### 代码4.14"
   ]
  },
  {
   "cell_type": "code",
   "execution_count": null,
   "id": "299879a8-e4e2-4394-9f05-6851e6dc67db",
   "metadata": {},
   "outputs": [],
   "source": [
    "eeg_meg_data = ['eeg 01','meg 01','eeg 02','meg 02','eeg 03','meg 03','eeg 04','meg 04']\n",
    "eeg_data = [ch for ch in eeg_meg_data if ch.startswith('eeg')]\n",
    "meg_data = [ch for ch in eeg_meg_data if ch.startswith('meg')]\n",
    "print(eeg_data)\n",
    "print(meg_data)\n",
    "\n",
    "img_files = ['1.jpg','1.png','2.jpg','2.png','3.jpg','1.png','4.jpg','4.png']\n",
    "jpg_files = [img for img in img_files if img.endswith('jpg')]\n",
    "png_files = [img for img in img_files if img.endswith('png')]\n",
    "print(jpg_files)\n",
    "print(png_files)"
   ]
  },
  {
   "cell_type": "markdown",
   "id": "d801f7d7-a0ed-4d97-852b-76be68ca9549",
   "metadata": {},
   "source": [
    "### 代码4.15"
   ]
  },
  {
   "cell_type": "code",
   "execution_count": null,
   "id": "d92d4ef9-ed07-4794-a5cd-fcf23f055794",
   "metadata": {},
   "outputs": [],
   "source": [
    "str1 = 'abc'\n",
    "str2 = '123'\n",
    "str3 = 'abc123' \n",
    "print(str1.isalpha())\n",
    "print(str2.isdigit())\n",
    "print(str3.isalnum())"
   ]
  },
  {
   "cell_type": "markdown",
   "id": "9a992f4a-f0a6-48d0-b4c3-e97aeece6655",
   "metadata": {},
   "source": [
    "### 代码4.16"
   ]
  },
  {
   "cell_type": "code",
   "execution_count": null,
   "id": "5028a616-3a0a-4249-893c-23f3700339d5",
   "metadata": {},
   "outputs": [],
   "source": [
    "print(\"%10s\" % \"Python\")\n",
    "print(\"%-10s\" % \"Python\")"
   ]
  },
  {
   "cell_type": "markdown",
   "id": "f07325f6-38d6-4cf1-be34-6cf9bd69fb04",
   "metadata": {},
   "source": [
    "### 代码4.17"
   ]
  },
  {
   "cell_type": "code",
   "execution_count": null,
   "id": "299e55a8-9d03-43d4-8913-9fbc737df1f7",
   "metadata": {},
   "outputs": [],
   "source": [
    "reaction_time= 1.23456789\n",
    "print(\"reaction_time: %f\" % reaction_time)\n",
    "print(\"reaction_time: %.3f\" % reaction_time)"
   ]
  },
  {
   "cell_type": "markdown",
   "id": "b10927ca-d110-4489-8bc4-3a0e57320113",
   "metadata": {},
   "source": [
    "### 代码4.18"
   ]
  },
  {
   "cell_type": "code",
   "execution_count": null,
   "id": "aa674e64-46b1-49a3-9425-7cf26d5585cd",
   "metadata": {},
   "outputs": [],
   "source": [
    "sub_ID = 1\n",
    "sub_name = '张三'\n",
    "reaction_time = 1.23456789\n",
    "print('第%d个被试%s的反应时是：%.3f秒'%(sub_ID,sub_name,reaction_time))"
   ]
  },
  {
   "cell_type": "markdown",
   "id": "5656ead7-2941-45f1-aab8-f43452e235f7",
   "metadata": {},
   "source": [
    "### 代码4.19"
   ]
  },
  {
   "cell_type": "code",
   "execution_count": null,
   "id": "bfdc266a-15c7-4fb4-88fa-adff5724e6ab",
   "metadata": {},
   "outputs": [],
   "source": [
    "sub_name,reaction_time, correct_rate =  '张三',0.889, 0.866\n",
    "print(f\"{sub_name}的反应时是：{reaction_time}，准确率是{correct_rate}\")"
   ]
  },
  {
   "cell_type": "markdown",
   "id": "45fd82ab-0e58-4adf-856a-c6f8298f5b15",
   "metadata": {},
   "source": [
    "### 代码4.20"
   ]
  },
  {
   "cell_type": "code",
   "execution_count": null,
   "id": "4f01df6f-4229-444a-bdb9-ba94479f9032",
   "metadata": {},
   "outputs": [],
   "source": [
    "sub_name, correct_rate = \"张三\", 0.886\n",
    "print(\"被试%s的准确率是%.3f\" % (sub_name, correct_rate))\n",
    "print(\"被试{}的准确率是{}\".format(sub_name,correct_rate))\n",
    "print(f\"被试{sub_name}的准确率是{correct_rate}\")"
   ]
  },
  {
   "cell_type": "markdown",
   "id": "2d39bc09-33b1-4d23-ba37-df231901f55d",
   "metadata": {},
   "source": [
    "### 代码4.21"
   ]
  },
  {
   "cell_type": "code",
   "execution_count": null,
   "id": "89bec8bd-9201-4345-877f-3fe4826d8eac",
   "metadata": {},
   "outputs": [],
   "source": [
    "print(5 + 3) # 这行代码用于计算并输出两数之和。"
   ]
  },
  {
   "cell_type": "markdown",
   "id": "e16931ee-9a27-4388-a184-cd3b361b8355",
   "metadata": {},
   "source": [
    "### 代码4.22"
   ]
  },
  {
   "cell_type": "code",
   "execution_count": null,
   "id": "7be8e895-e48a-4524-a71d-82dfdf95b01d",
   "metadata": {},
   "outputs": [],
   "source": [
    "a = True\n",
    "b = False"
   ]
  },
  {
   "cell_type": "markdown",
   "id": "4d958865-eede-44fa-8c32-89b779b7eb28",
   "metadata": {},
   "source": [
    "### 代码4.23"
   ]
  },
  {
   "cell_type": "code",
   "execution_count": null,
   "id": "31e9dbc2-00d3-4b72-b656-e92c237d65c5",
   "metadata": {},
   "outputs": [],
   "source": [
    "x = 5\n",
    "y = 3\n",
    "result1 = x > y\n",
    "result2 = x == y\n",
    "print(result1)\n",
    "print(result2)"
   ]
  },
  {
   "cell_type": "markdown",
   "id": "061d471d-53f2-44b6-b189-3e428be451c9",
   "metadata": {},
   "source": [
    "### 代码4.24"
   ]
  },
  {
   "cell_type": "code",
   "execution_count": null,
   "id": "473f4f65-02cf-41cb-8926-0ea64d90f8e8",
   "metadata": {},
   "outputs": [],
   "source": [
    "print(int(True))  \n",
    "print(int(False))  "
   ]
  },
  {
   "cell_type": "markdown",
   "id": "eee42c8e-547a-441f-9b9b-0eb72c817d25",
   "metadata": {},
   "source": [
    "### 代码4.25"
   ]
  },
  {
   "cell_type": "code",
   "execution_count": null,
   "id": "8b68c01b-ac3e-4a62-8be9-0997984eb118",
   "metadata": {},
   "outputs": [],
   "source": [
    "a = 5\n",
    "b = 5\n",
    "str1 = \"Hello\"\n",
    "str2 = \"Hello\"\n",
    "print(a == b) \n",
    "print(str1 == str2) "
   ]
  },
  {
   "cell_type": "markdown",
   "id": "4c17bbc3-d02b-41c5-b743-db46668d7b27",
   "metadata": {},
   "source": [
    "### 代码4.26"
   ]
  },
  {
   "cell_type": "code",
   "execution_count": null,
   "id": "cadbb950-c9d5-43b0-b082-29f2e539f73f",
   "metadata": {},
   "outputs": [],
   "source": [
    "x = 0.1 + 0.2\n",
    "y = 0.3\n",
    "print(x == y) "
   ]
  },
  {
   "cell_type": "markdown",
   "id": "385c6450-8bb3-42c8-a634-62cf2911deab",
   "metadata": {},
   "source": [
    "### 代码4.27"
   ]
  },
  {
   "cell_type": "code",
   "execution_count": null,
   "id": "eac9507b-5ef3-4c08-b702-57c2b55c8d70",
   "metadata": {},
   "outputs": [],
   "source": [
    "x = 0.1 + 0.2\n",
    "y = 0.3\n",
    "print(x != y) "
   ]
  },
  {
   "cell_type": "markdown",
   "id": "6bcaa124-3c7d-4189-8643-e8e8c9f67569",
   "metadata": {},
   "source": [
    "### 代码4.28"
   ]
  },
  {
   "cell_type": "code",
   "execution_count": null,
   "id": "e3610ef4-1328-41c0-afbe-aa527a3333cc",
   "metadata": {},
   "outputs": [],
   "source": [
    "a = 10\n",
    "b = 5\n",
    "x = 3.14\n",
    "y = 2.71\n",
    "print(a > b)\n",
    "print(a < b)\n",
    "print(x < y)\n",
    "print(x >= y)"
   ]
  },
  {
   "cell_type": "markdown",
   "id": "fbcce68b-281b-4c0b-97ad-bfce16c712e0",
   "metadata": {},
   "source": [
    "### 代码4.29"
   ]
  },
  {
   "cell_type": "code",
   "execution_count": null,
   "id": "2b0ab59a-8b3a-43b0-ad94-9ce1d5c66732",
   "metadata": {},
   "outputs": [],
   "source": [
    "a = True\n",
    "b = False\n",
    "c = False\n",
    "print(a or b)\n",
    "print(b | c)\n",
    "print(a or b | c)"
   ]
  },
  {
   "cell_type": "markdown",
   "id": "0624f810-2f31-4546-a41c-351fde36c17a",
   "metadata": {},
   "source": [
    "### 代码4.30"
   ]
  },
  {
   "cell_type": "code",
   "execution_count": null,
   "id": "113e1cc8-e17d-46d0-9226-88403b075a9a",
   "metadata": {},
   "outputs": [],
   "source": [
    "x = 0.1 + 0.2\n",
    "y = 0.3\n",
    "print(x == y) "
   ]
  },
  {
   "cell_type": "markdown",
   "id": "be45bd31-a95e-42c3-9725-5800d861e587",
   "metadata": {},
   "source": [
    "### 代码4.31"
   ]
  },
  {
   "cell_type": "code",
   "execution_count": null,
   "id": "bdc2b233-66f9-40dc-8e47-abe2eb09a6f4",
   "metadata": {},
   "outputs": [],
   "source": [
    "a = True\n",
    "b = False\n",
    "print(not a)\n",
    "print(not(a | b))\n",
    "print(not(a and b))"
   ]
  },
  {
   "cell_type": "markdown",
   "id": "b58d32e3-a637-41a4-988b-50ee27eeb990",
   "metadata": {},
   "source": [
    "### 代码4.32"
   ]
  },
  {
   "cell_type": "code",
   "execution_count": null,
   "id": "9daffc30-b788-4071-821e-e7b59f95defa",
   "metadata": {},
   "outputs": [],
   "source": [
    "letter_list = list('abcdefghi')\n",
    "print(letter_list)\n",
    "str_num_list = list('123456789')\n",
    "print(str_num_list)\n",
    "num_list = list(range(1,11))\n",
    "print(num_list)"
   ]
  },
  {
   "cell_type": "markdown",
   "id": "114b88ad-5f16-4ea2-ab6c-5e09d7418f24",
   "metadata": {},
   "source": [
    "### 代码4.33"
   ]
  },
  {
   "cell_type": "code",
   "execution_count": null,
   "id": "a43d4358-aae7-4840-a172-8ae1caefac6d",
   "metadata": {},
   "outputs": [],
   "source": [
    "num_list_square = [i**2 for i in num_list]\n",
    "print(num_list_square)\n",
    "odd_num_list_square = [i**2 for i in num_list if i % 2 == 1]\n",
    "print(odd_num_list_square)\n",
    "letter_list_copy = [i*2 for i in letter_list]\n",
    "print(letter_list_copy)\n",
    "sub_list = ['sub'+ str(i) for i in num_list ]\n",
    "print(sub_list)\n",
    "file_list = [i + '.xlsx' for i in sub_list]\n",
    "print(file_list)"
   ]
  },
  {
   "cell_type": "markdown",
   "id": "c0f2d25c-ca30-4ecc-82db-3b4d99ca6ccb",
   "metadata": {},
   "source": [
    "### 代码4.34"
   ]
  },
  {
   "cell_type": "code",
   "execution_count": null,
   "id": "e07bdd1e-e0e7-40ef-a8dc-514450eb15ee",
   "metadata": {},
   "outputs": [],
   "source": [
    "my_list = [1, 2, 3, 4, 5, 6, 7, 8, 9, 10]\n",
    "print(my_list[1:4:2]) # 从位置为1即第2个元素开始间隔访问到位置为4的元素但不包含该元素，即到前一个元素\n",
    "print(my_list[::2]) # 从头到尾，间隔访问\n",
    "print(my_list[:5:2]) # 从头到位置为5即第6个元素（不含）间隔访问\n",
    "print(my_list[3::2])  # 从位置为3即第4个元素间隔访问到最后一个元素"
   ]
  },
  {
   "cell_type": "markdown",
   "id": "e80f0657-f480-4bf4-b0a3-72af300e15d9",
   "metadata": {},
   "source": [
    "### 代码4.35"
   ]
  },
  {
   "cell_type": "code",
   "execution_count": null,
   "id": "baf549e4-c902-4352-a32d-4bda12433e72",
   "metadata": {},
   "outputs": [],
   "source": [
    "my_list = [1, 2, 3, 4, 5, 6, 7, 8, 9, 10]\n",
    "print(my_list[-1:-3:-1])  # 不包含-3位置的元素8\n",
    "print(my_list[-1::-1])\n",
    "print(my_list[::-1])"
   ]
  },
  {
   "cell_type": "markdown",
   "id": "a32ad6cb-46e5-4633-ba69-fe7ff1635a56",
   "metadata": {},
   "source": [
    "### 代码4.36"
   ]
  },
  {
   "cell_type": "code",
   "execution_count": null,
   "id": "0848ccda-cabe-472d-9afa-6276ac78d4bf",
   "metadata": {},
   "outputs": [],
   "source": [
    "subs=[]\n",
    "sub1, sub2 = ['张三','男',25],['李四','女',28]\n",
    "print(subs)\n",
    "print(sub1)\n",
    "print(sub2)\n",
    "subs.extend(sub1)\n",
    "print(subs)\n",
    "subs.extend(sub2)\n",
    "print(subs)"
   ]
  },
  {
   "cell_type": "markdown",
   "id": "e3d31936-8175-4b7d-a48a-a39fe00e698a",
   "metadata": {},
   "source": [
    "### 代码4.37"
   ]
  },
  {
   "cell_type": "code",
   "execution_count": null,
   "id": "b4a9faa7-b733-4e23-8ac9-0e48a417eb5f",
   "metadata": {},
   "outputs": [],
   "source": [
    "sub_info = ['name','gender']\n",
    "print(sub_info)\n",
    "sub_info.insert(1,'age')\n",
    "print(sub_info)"
   ]
  },
  {
   "cell_type": "markdown",
   "id": "392b340c-afbf-4ed5-a7a4-5c151fd0c948",
   "metadata": {},
   "source": [
    "### 代码4.38"
   ]
  },
  {
   "cell_type": "code",
   "execution_count": null,
   "id": "bba5ccf5-ed43-4f65-9125-8755d0cc2bdb",
   "metadata": {},
   "outputs": [],
   "source": [
    "scores = [80, 90, 100]\n",
    "removed_score = scores.pop(1)\n",
    "print(scores)\n",
    "print(removed_score)\n",
    "print(removed_score + 10)"
   ]
  },
  {
   "cell_type": "markdown",
   "id": "15b2da53-1450-46b3-92a6-966f18551880",
   "metadata": {},
   "source": [
    "### 代码4.39"
   ]
  },
  {
   "cell_type": "code",
   "execution_count": null,
   "id": "06a7cdca-7152-4f18-903e-5b1adf46b902",
   "metadata": {},
   "outputs": [],
   "source": [
    "str1 = 'abc'\n",
    "str2 = '123'\n",
    "print(list(zip(str1,str2)))\n",
    "list1 = list('abcdefgh')\n",
    "list2 = ['一','二','三','四','五','六']\n",
    "list3 = list(range(1,11))\n",
    "print(list(zip(list1,list2)))\n",
    "print(tuple(zip(list1,list3)))\n",
    "print((list(zip(list1,list2,list3))))\n",
    "sub_info = ['name','age','gender']\n",
    "sub1 = ['zhangsan',25,'Male']\n",
    "sub1_info = list(zip(sub_info,sub1))\n",
    "print(sub1_info)"
   ]
  },
  {
   "cell_type": "markdown",
   "id": "cda5a7a9-e62b-4f1f-8a6d-c15aacf2ba4a",
   "metadata": {},
   "source": [
    "### 代码4.40"
   ]
  },
  {
   "cell_type": "code",
   "execution_count": null,
   "id": "00a1a6c2-a11b-4f15-b510-7d92539857e7",
   "metadata": {},
   "outputs": [],
   "source": [
    "blank_dict={}\n",
    "sub_dict = {'name': '张三', 'age': 25, 'gender': '男'}\n",
    "print(blank_dict)\n",
    "print(sub_dict)"
   ]
  },
  {
   "cell_type": "markdown",
   "id": "73b2bc31-9480-4b27-a03c-35b8c7b1a098",
   "metadata": {},
   "source": [
    "### 代码4.41"
   ]
  },
  {
   "cell_type": "code",
   "execution_count": null,
   "id": "dd261f61-2182-4b47-a847-4135e65f0164",
   "metadata": {},
   "outputs": [],
   "source": [
    "dict1 = dict([('sub_ID', 1), ('exp_type', 'positive')])\n",
    "dict2 = dict(name='李四', age=30)\n",
    "print(dict1)\n",
    "print(dict2)"
   ]
  },
  {
   "cell_type": "markdown",
   "id": "7db298e7-052a-4139-b14b-1c4bd03e3da0",
   "metadata": {},
   "source": [
    "### 代码4.42"
   ]
  },
  {
   "cell_type": "code",
   "execution_count": null,
   "id": "8e1f7cdc-c87f-47fa-915b-4aa882337490",
   "metadata": {},
   "outputs": [],
   "source": [
    "num_square = {num: num ** 2 for num in range(1, 6)}\n",
    "print(num_square)\n",
    "expression_dict = {key:val for key, val in zip(list('abcd'),list('1234'))}\n",
    "print(expression_dict)"
   ]
  },
  {
   "cell_type": "markdown",
   "id": "3d6200e6-3730-4ca8-b268-2ed5ea2a4bb6",
   "metadata": {},
   "source": [
    "### 代码4.43"
   ]
  },
  {
   "cell_type": "code",
   "execution_count": null,
   "id": "351ea22f-4de8-41f3-b0ea-7519f09e2b39",
   "metadata": {},
   "outputs": [],
   "source": [
    "sub_info = {'sub_ID': 1, 'sub_name': '李四','sub_gender' : '女' }\n",
    "pop_value1 = sub_info.pop('sub_name')\n",
    "print(pop_value1)\n",
    "print(sub_info)\n",
    "pop_value2 = sub_info.pop('sub_age',20) # 因为字典中没有键'sub_age'，不加20会报错KeyError:\n",
    "print(pop_value2)\n",
    "print(sub_info)"
   ]
  },
  {
   "cell_type": "markdown",
   "id": "cadcd5f3-b166-4615-9ec8-bc844d889378",
   "metadata": {},
   "source": [
    "### 代码4.44"
   ]
  },
  {
   "cell_type": "code",
   "execution_count": null,
   "id": "da666c0c-21f4-4311-8a05-bfe9ace5f794",
   "metadata": {},
   "outputs": [],
   "source": [
    "inventory = {'item1': 1, 'item2': 2, 'item3': 3}\n",
    "pop_item = inventory.popitem()\n",
    "print(pop_item)\n",
    "print(inventory)"
   ]
  },
  {
   "cell_type": "markdown",
   "id": "f42c306f-1930-47cb-ab42-5500e41ee991",
   "metadata": {},
   "source": [
    "### 代码4.45"
   ]
  },
  {
   "cell_type": "code",
   "execution_count": null,
   "id": "29be7db6-0faf-43fb-a922-9d676dc6c4d1",
   "metadata": {},
   "outputs": [],
   "source": [
    "sub_dict = dict(sub_name='lisi',sub_age = 30, sub_gender = 'Female')\n",
    "print(sub_dict)\n",
    "print(sub_dict.items())\n",
    "for item in sub_dict.items():\n",
    "    print(item)"
   ]
  },
  {
   "cell_type": "markdown",
   "id": "fece2ac3-df3c-4c1e-9925-241c65fc5a3d",
   "metadata": {},
   "source": [
    "### 代码4.46"
   ]
  },
  {
   "cell_type": "code",
   "execution_count": null,
   "id": "a51124ba-ce8d-460e-9ae4-b89d4ce38cbb",
   "metadata": {},
   "outputs": [],
   "source": [
    "for k, v in sub_dict.items():\n",
    "    print(k,'====>',v)\n",
    "print(sub_dict.keys())\n",
    "for k in sub_dict.keys():\n",
    "    print(k)\n",
    "print(sub_dict.values())\n",
    "for v in sub_dict.values():\n",
    "    print(v)"
   ]
  },
  {
   "cell_type": "markdown",
   "id": "95adc7cc-66ac-4534-99c3-1d3ec57216b0",
   "metadata": {},
   "source": [
    "### 代码4.47"
   ]
  },
  {
   "cell_type": "code",
   "execution_count": null,
   "id": "4926c627-02f6-4970-b3b2-f39bd7865f82",
   "metadata": {},
   "outputs": [],
   "source": [
    "book = {'title': 'Python Basics', 'author': 'Weichuguang'}\n",
    "data = {'key1': 10}\n",
    "print(book['author'])\n",
    "print(data.get('key1'))\n",
    "print(data.get('key2',20))"
   ]
  },
  {
   "cell_type": "markdown",
   "id": "9432ae50-f301-44d7-be08-41b810e516dc",
   "metadata": {},
   "source": [
    "### 代码4.48"
   ]
  },
  {
   "cell_type": "code",
   "execution_count": null,
   "id": "de6bd399-d2ae-441a-bfc8-aa065ded42dc",
   "metadata": {},
   "outputs": [],
   "source": [
    "nest_list= [['name', 'Zhangsan'], ['exp_info',['EEG','fNIRS','eye_tracking']]]\n",
    "print(nest_list[1])\n",
    "print(nest_list[1][1])\n",
    "print(nest_list[1][1][2])"
   ]
  },
  {
   "cell_type": "markdown",
   "id": "7381c902-2aa1-4867-91f6-f0dac915cf55",
   "metadata": {},
   "source": [
    "### 代码4.49"
   ]
  },
  {
   "cell_type": "code",
   "execution_count": null,
   "id": "79c975e9-c3b6-42a7-a0fb-3dd9f523fffe",
   "metadata": {},
   "outputs": [],
   "source": [
    "nest_tuple= ((1, 2, 3), (4, 5, 6), (7, 8, 9))\n",
    "print(nest_tuple[0])\n",
    "print(nest_tuple[1][2])\n",
    "print(nest_tuple[2][2])"
   ]
  },
  {
   "cell_type": "markdown",
   "id": "f581c4eb-c4da-4a81-8bbf-4e4da130786b",
   "metadata": {},
   "source": [
    "### 代码4.50"
   ]
  },
  {
   "cell_type": "code",
   "execution_count": null,
   "id": "4a733f7a-8fb3-4bf6-87ff-b1f2b4ad1754",
   "metadata": {},
   "outputs": [],
   "source": [
    "sub1 = {'zhangsan': {'exp_condition1': 'positive', 'corrt_rate': 0.85},\n",
    "          'exp_condition2': 'negative', 'corrt_rate': 0.86}\n",
    "print(sub1['zhangsan'])\n",
    "print(sub1['zhangsan']['exp_condition1'])"
   ]
  },
  {
   "cell_type": "markdown",
   "id": "4a9de4e4-a122-4a02-9024-4a2c201182f6",
   "metadata": {},
   "source": [
    "### 代码4.51"
   ]
  },
  {
   "cell_type": "code",
   "execution_count": null,
   "id": "01db6a16-79c7-4b79-9d64-fe4fe77948da",
   "metadata": {},
   "outputs": [],
   "source": [
    "subjects = [\n",
    "    {\n",
    "        \"name\": \"Zhangsan\",\n",
    "        \"age\": 18,\n",
    "        \"rt\": (0.85, 0.90, 0.92),  # 元组存储固定顺序的三个反应时\n",
    "        \"extra_info\": {\"exp_type\": [\"EEG\", \"fNIRS\"]}\n",
    "    },\n",
    "    {\n",
    "        \"name\": \"Lisi\",\n",
    "        \"age\": 17,\n",
    "        \"rt\": (0.78, 0.88, 0.82),\n",
    "        \"extra_info\": {\"exp_type\": [\"Eye_tracking\", \"fMIRI\"]}\n",
    "    }\n",
    "]\n",
    "print(subjects[1][\"extra_info\"][\"exp_type\"][0])"
   ]
  },
  {
   "cell_type": "markdown",
   "id": "fa002d71-e96f-4e08-9992-091007f25298",
   "metadata": {},
   "source": [
    "### 代码4.52"
   ]
  },
  {
   "cell_type": "code",
   "execution_count": null,
   "id": "26f238af-7e8b-463a-8fe8-047e48de1203",
   "metadata": {},
   "outputs": [],
   "source": [
    "text = \"Hello, Python lovers!\"\n",
    "if \"Python\" in text:\n",
    "    print(\"字符串中包含 'Python'。\")\n",
    "else:\n",
    "    print(\"字符串中不包含 'Python'。\")"
   ]
  },
  {
   "cell_type": "markdown",
   "id": "7e9adda6-9ccb-40f5-b4c2-c376407297b8",
   "metadata": {},
   "source": [
    "### 代码4.53"
   ]
  },
  {
   "cell_type": "code",
   "execution_count": null,
   "id": "d586b156-a5c8-4590-b7c0-e9fe82d43ea9",
   "metadata": {},
   "outputs": [],
   "source": [
    "sub_info = {'name': 'Zhangsan', 'age': 25, 'gender': 'Male'}\n",
    "if 'name' in sub_info:\n",
    "    print(f\"键 'name' 存在，对应的值为 {sub_info['name']}。\")\n",
    "else:\n",
    "    print(\"键 'name' 不存在。\")"
   ]
  },
  {
   "cell_type": "markdown",
   "id": "f0908124-5757-49df-96be-6c7c99f57fed",
   "metadata": {},
   "source": [
    "### 代码5.1"
   ]
  },
  {
   "cell_type": "code",
   "execution_count": null,
   "id": "4d38da2d-8c7e-4ece-9a04-596c646b256b",
   "metadata": {},
   "outputs": [],
   "source": [
    "age = 18\n",
    "if age >= 18:\n",
    "    print(\"You are an adult.\")"
   ]
  },
  {
   "cell_type": "markdown",
   "id": "1e26a91d-5b09-404f-a195-dabe6a0aab02",
   "metadata": {},
   "source": [
    "### 代码5.2"
   ]
  },
  {
   "cell_type": "code",
   "execution_count": null,
   "id": "6966b440-dc13-49d1-9819-47f7716c95d3",
   "metadata": {},
   "outputs": [],
   "source": [
    "age = 15\n",
    "if age >= 18:\n",
    "    print(\"You are an adult.\")\n",
    "else:\n",
    "    print(\"You are a minor.\")"
   ]
  },
  {
   "cell_type": "markdown",
   "id": "cd2150fd-046d-49d7-81c6-9a471b6daefa",
   "metadata": {},
   "source": [
    "### 代码5.3"
   ]
  },
  {
   "cell_type": "code",
   "execution_count": null,
   "id": "9ec8fe77-3ab1-48ee-bfd3-7ea7d9c899d1",
   "metadata": {},
   "outputs": [],
   "source": [
    "score = 85\n",
    "if score >= 90:\n",
    "    grade = 'A'\n",
    "elif score >= 80:\n",
    "    grade = 'B'\n",
    "elif score >= 70:\n",
    "    grade = 'C'\n",
    "elif score >= 60:\n",
    "    grade = 'D'\n",
    "else:\n",
    "    grade = 'F'\n",
    "print(f\"Your grade is {grade}.\")"
   ]
  },
  {
   "cell_type": "markdown",
   "id": "dc38c11b-1dee-4be1-9cc9-d617027c2d61",
   "metadata": {},
   "source": [
    "### 代码5.4"
   ]
  },
  {
   "cell_type": "code",
   "execution_count": null,
   "id": "db11c1e9-4a2b-4740-9706-dfe183717ab8",
   "metadata": {},
   "outputs": [],
   "source": [
    "score = 85\n",
    "if score >= 60:\n",
    "    grade = 'D'\n",
    "elif score >= 70:\n",
    "    grade = 'C'\n",
    "elif score >= 80:\n",
    "    grade = 'B'\n",
    "elif score >= 90:\n",
    "    grade = 'A'\n",
    "else:\n",
    "    grade = 'F'\n",
    "print(f\"Your grade is {grade}.\")"
   ]
  },
  {
   "cell_type": "markdown",
   "id": "4f87587d-68a6-440c-81fa-e186f594fa46",
   "metadata": {},
   "source": [
    "### 代码5.5"
   ]
  },
  {
   "cell_type": "code",
   "execution_count": null,
   "id": "956b9491-9aba-49f8-98bd-3c1f31fdbb49",
   "metadata": {},
   "outputs": [],
   "source": [
    "score = 85\n",
    "if score >= 60:\n",
    "    if score >= 90:\n",
    "        grade = 'A'\n",
    "    elif score >= 80:\n",
    "        grade = 'B'\n",
    "    else:\n",
    "        grade = 'C'\n",
    "else:\n",
    "    grade = 'F'\n",
    "print(f\"Your grade is {grade}.\")"
   ]
  },
  {
   "cell_type": "markdown",
   "id": "b8801941-a8dd-48f1-9cff-28e26b77a497",
   "metadata": {},
   "source": [
    "### 代码5.6"
   ]
  },
  {
   "cell_type": "code",
   "execution_count": null,
   "id": "99452b3f-55d3-4a2f-b136-a92fac8ae776",
   "metadata": {},
   "outputs": [],
   "source": [
    "count = 0\n",
    "while count < 5:\n",
    "    print(count)\n",
    "    count += 1  # 相当于count = count +1"
   ]
  },
  {
   "cell_type": "markdown",
   "id": "43079f6d-8a9b-4f8c-9a3c-7df399a92154",
   "metadata": {},
   "source": [
    "### 代码5.7"
   ]
  },
  {
   "cell_type": "code",
   "execution_count": null,
   "id": "f5edb19d-4d1c-4973-86ca-a5f534af7de3",
   "metadata": {},
   "outputs": [],
   "source": [
    "password='weicg123'\n",
    "input_password=input('请输入密码：\\n')\n",
    "while password!=input_password:\n",
    "    input_password=input('输入错误，请重新输入：\\n')"
   ]
  },
  {
   "cell_type": "markdown",
   "id": "aecae3f5-1abc-48a6-bfa8-7ac2f2d98371",
   "metadata": {},
   "source": [
    "### 代码5.8 （死循环）"
   ]
  },
  {
   "cell_type": "code",
   "execution_count": null,
   "id": "d430ef91-498a-4545-ba84-bbbfbe8f8ec8",
   "metadata": {},
   "outputs": [],
   "source": [
    "count = 0\n",
    "while count < 5:\n",
    "    print(count)"
   ]
  },
  {
   "cell_type": "markdown",
   "id": "b9df5515-1435-4673-93d0-27edb1ec32ba",
   "metadata": {},
   "source": [
    "### 代码5.9"
   ]
  },
  {
   "cell_type": "code",
   "execution_count": null,
   "id": "3063a6ba-4086-4d49-aab5-48c42a947374",
   "metadata": {},
   "outputs": [],
   "source": [
    "channels = [\"EEG 001\", \"EEG 002\", \"EEG 003\"]\n",
    "for channel in channels:\n",
    "    print(channel)"
   ]
  },
  {
   "cell_type": "markdown",
   "id": "a6115363-688e-432a-b697-4aa08ddc29d3",
   "metadata": {},
   "source": [
    "### 代码5.10"
   ]
  },
  {
   "cell_type": "code",
   "execution_count": null,
   "id": "0741042e-d82d-4a34-846d-b5aab2794c35",
   "metadata": {},
   "outputs": [],
   "source": [
    "message = \"Hello, World!\"\n",
    "for char in message:\n",
    "    print(char)"
   ]
  },
  {
   "cell_type": "markdown",
   "id": "258fd5ad-612e-4530-ad7f-b250e71a9996",
   "metadata": {},
   "source": [
    "### 代码5.11"
   ]
  },
  {
   "cell_type": "code",
   "execution_count": null,
   "id": "d6309bba-a389-47f8-8231-4e1e9e643a1c",
   "metadata": {},
   "outputs": [],
   "source": [
    "all_subs_files=[]\n",
    "for i in range(1,5):\n",
    "    all_subs_files.append('sub'+str(i)+'.xlsx')\n",
    "print(all_subs_files)"
   ]
  },
  {
   "cell_type": "markdown",
   "id": "8cb9b8b4-cb22-48ea-b4bf-4bf3854d3b87",
   "metadata": {},
   "source": [
    "### 代码5.12"
   ]
  },
  {
   "cell_type": "code",
   "execution_count": null,
   "id": "9f275d7b-a033-4ae3-9370-170f8c435456",
   "metadata": {},
   "outputs": [],
   "source": [
    "for i in range(1, 10):\n",
    "    for j in range(1, i + 1):\n",
    "        print(f\"{j} * {i} = {i * j}\", end=\"\\t\")\n",
    "    print()"
   ]
  },
  {
   "cell_type": "markdown",
   "id": "30e6dead-2fb0-476a-acdc-16047a595d3b",
   "metadata": {},
   "source": [
    "### 代码5.13"
   ]
  },
  {
   "cell_type": "code",
   "execution_count": null,
   "id": "0587674b-e085-4726-9079-3ca0444f655e",
   "metadata": {},
   "outputs": [],
   "source": [
    "i = 1\n",
    "while True:\n",
    "    print(i)\n",
    "    if i == 5:\n",
    "        break\n",
    "    i += 1\n",
    "print(\"循环结束\")"
   ]
  },
  {
   "cell_type": "markdown",
   "id": "2daa59df-8c6c-4711-b516-4295ed407d8c",
   "metadata": {},
   "source": [
    "### 代码5.14"
   ]
  },
  {
   "cell_type": "code",
   "execution_count": null,
   "id": "607b54bf-38b6-4394-b101-07b4939a0ca6",
   "metadata": {},
   "outputs": [],
   "source": [
    "chs = ['FP1','FPZ','FP2','AF3','AF4']\n",
    "for ch in chs:\n",
    "    if ch == 'FP2':\n",
    "        break\n",
    "    print(ch)\n",
    "print(\"查找结束\")"
   ]
  },
  {
   "cell_type": "markdown",
   "id": "e228fcb5-3c69-4a7b-b8c1-ee15bf377dc7",
   "metadata": {},
   "source": [
    "### 代码5.15"
   ]
  },
  {
   "cell_type": "code",
   "execution_count": null,
   "id": "f353c196-7445-4337-bb3c-7f615f34ed53",
   "metadata": {},
   "outputs": [],
   "source": [
    "for i in range(1, 11):\n",
    "    if i%2 == 1:\n",
    "        continue\n",
    "    print(i,'是偶数')"
   ]
  },
  {
   "cell_type": "markdown",
   "id": "e0542d53-7707-43f4-9089-6393406758c9",
   "metadata": {},
   "source": [
    "### 代码5.16"
   ]
  },
  {
   "cell_type": "code",
   "execution_count": null,
   "id": "1a833ff4-d8c4-4254-8969-0251462bf43a",
   "metadata": {},
   "outputs": [],
   "source": [
    "for i in range(1, 11):\n",
    "    if i%2 == 0:\n",
    "        print(i,'是偶数')"
   ]
  },
  {
   "cell_type": "markdown",
   "id": "61289411-d50b-4759-9923-82dddef679ef",
   "metadata": {},
   "source": [
    "### 代码5.17"
   ]
  },
  {
   "cell_type": "code",
   "execution_count": null,
   "id": "f4fe9c63-6682-4a83-8080-dfa4c75325ac",
   "metadata": {},
   "outputs": [],
   "source": [
    "chs = ['FP1','FPZ','FP2','AF3','AF4']\n",
    "target_ch = 'STIM'\n",
    "for ch in chs:\n",
    "    if target_ch == ch:\n",
    "        print(f\"找到了 {target_ch}\")\n",
    "        break\n",
    "else:\n",
    "    print(f\"{target_ch} 不在列表中\")"
   ]
  },
  {
   "cell_type": "markdown",
   "id": "42e9b318-0caf-4479-b9bf-44c77ae045d4",
   "metadata": {},
   "source": [
    "### 代码5.18"
   ]
  },
  {
   "cell_type": "code",
   "execution_count": null,
   "id": "836031cd-d2ae-4094-b648-d16efa5583b1",
   "metadata": {},
   "outputs": [],
   "source": [
    "all_subs_files=['sub'+str(i)+'.xlsx' for i in range(1,11) if i%2==0]\n",
    "print(all_subs_files)"
   ]
  },
  {
   "cell_type": "markdown",
   "id": "96524bc9-9498-4c5b-a24f-6d41675e23af",
   "metadata": {},
   "source": [
    "### 代码6.1"
   ]
  },
  {
   "cell_type": "code",
   "execution_count": null,
   "id": "9f58da0b-a0ee-4f80-8c32-ca6b2c49ac39",
   "metadata": {},
   "outputs": [],
   "source": [
    "def greetings():\n",
    "    print(\"欢迎参加实验！\")\n",
    "greetings()"
   ]
  },
  {
   "cell_type": "markdown",
   "id": "c7cc184d-cbff-4611-9bcc-745db766da1e",
   "metadata": {},
   "source": [
    "### 代码6.2"
   ]
  },
  {
   "cell_type": "code",
   "execution_count": null,
   "id": "b9ca50ee-5ce0-4d96-93bf-b926e4c619de",
   "metadata": {},
   "outputs": [],
   "source": [
    "def greetings(name):\n",
    "    print('你好，'+ name.upper() + '\\n欢迎参加实验！')\n",
    "greetings('weicg')"
   ]
  },
  {
   "cell_type": "markdown",
   "id": "ad9a0fee-8fe6-43f8-99d0-ed879e96a4ad",
   "metadata": {},
   "source": [
    "### 代码6.3"
   ]
  },
  {
   "cell_type": "code",
   "execution_count": null,
   "id": "7610f45c-caa6-499a-8375-3f88d233203a",
   "metadata": {},
   "outputs": [],
   "source": [
    "def greetings(name, exp):\n",
    "    print('你好，'+ name.upper() + '\\n欢迎参加' + exp+ '实验！')\n",
    "greetings('weicg','行为')"
   ]
  },
  {
   "cell_type": "markdown",
   "id": "71514525-068d-4dc4-b9cd-34b5fefaac1a",
   "metadata": {},
   "source": [
    "### 代码6.4"
   ]
  },
  {
   "cell_type": "code",
   "execution_count": null,
   "id": "a5ec6567-7c74-4721-b8f0-8eb991a8b5f6",
   "metadata": {},
   "outputs": [],
   "source": [
    "def sub_info(name,age,gender):\n",
    "    sub = name + ':'+str(age) +' ' + gender\n",
    "    print(sub)\n",
    "sub_info(age=25,gender='Male',name='zhangsan')"
   ]
  },
  {
   "cell_type": "markdown",
   "id": "a5438a69-82b2-4586-8545-9a0bd45db81b",
   "metadata": {},
   "source": [
    "### 代码6.5"
   ]
  },
  {
   "cell_type": "code",
   "execution_count": null,
   "id": "a6ed76fb-9fe1-4211-a706-02f337efe879",
   "metadata": {},
   "outputs": [],
   "source": [
    "def sub_info(name,age,gender,city='Beijing'):\n",
    "    sub = dict(name=name, age=age, gender=gender,city=city)\n",
    "    print(sub)\n",
    "sub_info('weicg',35,'male')"
   ]
  },
  {
   "cell_type": "markdown",
   "id": "acb8f6e5-63c9-4977-8b03-ecb8f67f5573",
   "metadata": {},
   "source": [
    "### 代码6.6"
   ]
  },
  {
   "cell_type": "code",
   "execution_count": null,
   "id": "a3699078-e97f-4ed4-bcdd-2a75be79ae81",
   "metadata": {},
   "outputs": [],
   "source": [
    "def sum_numbers(*args):\n",
    "    print(sum(args))\n",
    "sum_numbers(1,2,3)"
   ]
  },
  {
   "cell_type": "markdown",
   "id": "af678841-7edf-4383-82eb-e15002443110",
   "metadata": {},
   "source": [
    "### 代码6.7"
   ]
  },
  {
   "cell_type": "code",
   "execution_count": null,
   "id": "9502d60b-5f62-411e-b162-58acbf2c3273",
   "metadata": {},
   "outputs": [],
   "source": [
    "def sub_info(**kwargs):\n",
    "    for key, value in kwargs.items():\n",
    "        print(f\"{key}: {value}\")\n",
    "sub_info(name='zhangsan',age=25,gender='Male')"
   ]
  },
  {
   "cell_type": "markdown",
   "id": "47adcdb7-4d8a-43cb-b3f1-aeaf154ee122",
   "metadata": {},
   "source": [
    "### 代码6.8"
   ]
  },
  {
   "cell_type": "code",
   "execution_count": null,
   "id": "0f5e57f0-ba42-4ef6-b50f-91c318357cc6",
   "metadata": {},
   "outputs": [],
   "source": [
    "def add_numbers(a, b):\n",
    "    return a + b\n",
    "result = add_numbers(3, 5)\n",
    "print(result)"
   ]
  },
  {
   "cell_type": "markdown",
   "id": "56cc0a06-f4f3-44b2-b525-1fdfcae3f147",
   "metadata": {},
   "source": [
    "### 代码6.9"
   ]
  },
  {
   "cell_type": "code",
   "execution_count": null,
   "id": "bd52473f-94a1-448a-b17b-92d1f40a5c6f",
   "metadata": {},
   "outputs": [],
   "source": [
    "def greetings(name):\n",
    "    msg = f\"你好{name},欢迎参加实验！\"\n",
    "    return msg\n",
    "greetings('weicg')"
   ]
  },
  {
   "cell_type": "markdown",
   "id": "8fa95d28-cc3d-4c7b-a0b8-6a989a30446f",
   "metadata": {},
   "source": [
    "### 代码6.10"
   ]
  },
  {
   "cell_type": "code",
   "execution_count": null,
   "id": "a847785b-bc4d-4949-ba16-ae38228b54f3",
   "metadata": {},
   "outputs": [],
   "source": [
    "def generate_files(sub_name, n, file_format):\n",
    "    all_subs_files=[]\n",
    "    for i in range(1,n):\n",
    "        all_subs_files.append(sub_name+str(i)+file_format)\n",
    "    return all_subs_files\n",
    "    \n",
    "all_files = generate_files('participant', 5, '.txt')\n",
    "print(all_files)"
   ]
  },
  {
   "cell_type": "markdown",
   "id": "fa77972f-ebab-4745-b51d-4a424a7602a9",
   "metadata": {},
   "source": [
    "### 代码6.11"
   ]
  },
  {
   "cell_type": "code",
   "execution_count": null,
   "id": "7bd282d7-0854-4aba-9693-968452157bb2",
   "metadata": {},
   "outputs": [],
   "source": [
    "def get_sub_info():\n",
    "    name = \"weicg\"\n",
    "    age = 35\n",
    "    city = \"Beijing\"\n",
    "    return name, age, city\n",
    "sub1 = get_sub_info()\n",
    "print(sub1)"
   ]
  },
  {
   "cell_type": "markdown",
   "id": "918154fa-dc69-4183-a236-d7f610068591",
   "metadata": {},
   "source": [
    "### 代码6.12"
   ]
  },
  {
   "cell_type": "code",
   "execution_count": null,
   "id": "e1c319a6-d4c9-4617-a302-a9ddb99edc0b",
   "metadata": {},
   "outputs": [],
   "source": [
    "def get_sub_info():\n",
    "    name = \"weicg\"\n",
    "    age = 35\n",
    "    city = \"Beijing\"\n",
    "    return name, age, city\n",
    "\n",
    "name, age, city = get_sub_info()\n",
    "print(name)\n",
    "print(age)\n",
    "print(city)"
   ]
  },
  {
   "cell_type": "markdown",
   "id": "8ca3e095-2cb0-4b23-b81d-f9cd05ebb0c6",
   "metadata": {},
   "source": [
    "### 代码6.13"
   ]
  },
  {
   "cell_type": "code",
   "execution_count": null,
   "id": "901334fb-b267-4744-8f7d-90593042a635",
   "metadata": {},
   "outputs": [],
   "source": [
    "def sub_info(name,age,gender,rt):\n",
    "    sub = dict(name=name, age=age, gender=gender,rt=rt)\n",
    "    return sub\n",
    "sub1 = sub_info('weicg',35,'male',[0.98,0.89,0.88])\n",
    "print(sub1)"
   ]
  },
  {
   "cell_type": "markdown",
   "id": "d2063527-fb5b-4e0e-b9f9-2443bfd09e55",
   "metadata": {},
   "source": [
    "### 代码6.14"
   ]
  },
  {
   "cell_type": "code",
   "execution_count": null,
   "id": "d3799088-a382-4254-91dd-60cdb00f3789",
   "metadata": {},
   "outputs": [],
   "source": [
    "def get_sub_info(name, age):\n",
    "    sub_list = [name, age]\n",
    "    sub_dict = {\n",
    "        'name': name,\n",
    "        'age': age,\n",
    "        'is_adult': age >= 18\n",
    "    }\n",
    "    sub_set = {name, age}\n",
    "    return sub_list, sub_dict, sub_set\n",
    "\n",
    "info_list, info_dict, info_set = get_sub_info(\"weicg\", 35)\n",
    "print(\"List:\", info_list)\n",
    "print(\"Dictionary:\", info_dict)\n",
    "print(\"Set:\", info_set)"
   ]
  },
  {
   "cell_type": "markdown",
   "id": "9f49481b-7272-4c9f-b2fc-cc9dc48bfc7d",
   "metadata": {},
   "source": [
    "### 代码6.15"
   ]
  },
  {
   "cell_type": "code",
   "execution_count": null,
   "id": "68d783fb-8614-4f98-a85f-1f432d0fb161",
   "metadata": {},
   "outputs": [],
   "source": [
    "import math\n",
    "print(math.sin(math.pi/2))  # 输出 1.0\n",
    "print(math.exp(2))  # 输出 7.38905609893065"
   ]
  },
  {
   "cell_type": "markdown",
   "id": "b083755f-cb8f-4efe-84d4-5b0c0e4a25b6",
   "metadata": {},
   "source": [
    "### 代码6.16"
   ]
  },
  {
   "cell_type": "code",
   "execution_count": null,
   "id": "967f1251-a199-4872-9859-06d0da62d66d",
   "metadata": {},
   "outputs": [],
   "source": [
    "import random # 导入random模块\n",
    "print(random.randint(1, 10))  # 输出一个1到10之间的随机整数\n",
    "my_list = [1, 2, 3, 4, 5]  # 定义一个列表\n",
    "random.shuffle(my_list)  # 随机打乱列表元素的顺序\n",
    "print(my_list)  # 输出 打乱顺序后的列表"
   ]
  },
  {
   "cell_type": "markdown",
   "id": "0e6f32c7-5e37-4851-acf1-33c3b858be27",
   "metadata": {},
   "source": [
    "### 代码6.17"
   ]
  },
  {
   "cell_type": "code",
   "execution_count": null,
   "id": "3331e0a9-0f0d-45fd-a3bd-5ac6919f6be0",
   "metadata": {},
   "outputs": [],
   "source": [
    "import random  # 导入random模块\n",
    "random.seed(42)  # 设置固定种子，确保每次运行时生成的随机数相同\n",
    "print(random.randint(1, 10))  # 始终输出一个1到10之间的随机整数2\n",
    "my_list = [1, 2, 3, 4, 5]  # 定义一个列表\n",
    "random.shuffle(my_list)  # 随机打乱列表元素的顺序\n",
    "print(my_list)  # #由于设置了固定种子，始终输出打乱顺序后的列表[2, 4, 5, 3, 1]"
   ]
  },
  {
   "cell_type": "markdown",
   "id": "7ddfe3bf-d363-431b-8b7f-196c623f9d5f",
   "metadata": {},
   "source": [
    "### 代码6.18"
   ]
  },
  {
   "cell_type": "code",
   "execution_count": null,
   "id": "c26f5de4-cb1d-4315-8a77-3d5d6325642a",
   "metadata": {},
   "outputs": [],
   "source": [
    "# 导入datetime模块，用于处理日期和时间\n",
    "import datetime\n",
    "\n",
    "# 使用datetime模块的now()方法获取当前的日期和时间，并赋值给变量now\n",
    "now = datetime.datetime.now()\n",
    "\n",
    "# 打印当前的日期和时间，格式为YYYY-MM-DD HH:MM:SS.ssssss\n",
    "print(now)\n",
    "\n",
    "# 使用strftime()方法将当前日期和时间格式化为指定的字符串格式：\n",
    "# %Y: 四位数的年份（如2023）\n",
    "# %m: 两位数的月份（如01到12）\n",
    "# %d: 两位数的日期（如01到31）\n",
    "# %H: 两位数的小时（24小时制，如00到23）\n",
    "# %M: 两位数的分钟（如00到59）\n",
    "# %S: 两位数的秒数（如00到59）\n",
    "# 最终格式为：sub1_YYYY_MM_DD HH_MM_SS.xlsx\n",
    "file_name = 'sub1_' + now.strftime('%Y_%m_%d %H_%M_%S') + '.xlsx'\n",
    "print(file_name)"
   ]
  },
  {
   "cell_type": "markdown",
   "id": "6a02533f-42d6-453b-8138-67657fb2f346",
   "metadata": {},
   "source": [
    "### 代码6.19"
   ]
  },
  {
   "cell_type": "code",
   "execution_count": null,
   "id": "792197e6-7af9-4236-9536-05545f9dcff0",
   "metadata": {},
   "outputs": [],
   "source": [
    "import os  # 导入 os 模块，用于操作文件和目录\n",
    "files = os.listdir('.') # 获取当前目录下的所有文件和文件夹，并存入列表 files\n",
    "print(files) \n",
    "path = os.path.join('dir', 'file.txt')# 使用 os.path.join 拼接路径，生成 \"dir/file.txt\"\n",
    "print(path) \n",
    "# 获取并打印当前系统的环境变量，os.environ 返回的是一个包含环境变量的字典\n",
    "print(os.environ) "
   ]
  },
  {
   "cell_type": "markdown",
   "id": "ef90fb30-2c2f-43e0-b8ba-efa802271222",
   "metadata": {},
   "source": [
    "### 代码6.20"
   ]
  },
  {
   "cell_type": "code",
   "execution_count": null,
   "id": "cede7421-8d9f-4068-b056-8a486146cb18",
   "metadata": {},
   "outputs": [],
   "source": [
    "# 导入numpy库，用于数值计算，并简写为np\n",
    "import numpy as np\n",
    "# 使用numpy的array函数创建一个一维数组，数组元素为[1, 2, 3, 4, 5]\n",
    "arr = np.array([1, 2, 3, 4, 5])\n",
    "# 打印数组arr，输出结果为[1 2 3 4 5]\n",
    "print(arr) \n",
    "# 使用numpy的mean函数计算数组arr的平均值，并将结果赋值给变量mean\n",
    "mean = np.mean(arr)\n",
    "# 打印数组的平均值，输出结果为3.0\n",
    "print(mean)  "
   ]
  },
  {
   "cell_type": "markdown",
   "id": "6f2d7315-1dd1-48dc-b796-cf1bbe58b6f5",
   "metadata": {},
   "source": [
    "### 代码6.21"
   ]
  },
  {
   "cell_type": "code",
   "execution_count": null,
   "id": "04fcb3ac-d813-401a-ab3b-3997e59be39a",
   "metadata": {},
   "outputs": [],
   "source": [
    "# 导入pandas库，用于数据处理和分析，并简写为pd\n",
    "import pandas as pd\n",
    "# 创建一个字典data，包含两列数据：'Name'和'Age'\n",
    "# 'Name'列包含三个名字：'zhangsan', 'lisi', 'wangwu'\n",
    "# 'Age'列包含三个年龄：25, 30, 35\n",
    "data = {'Name': ['zhangsan', 'lisi', 'wangwu'],\n",
    "        'Age': [25, 30, 35]}\n",
    "# 使用pandas的DataFrame函数将字典data转换为数据框（表格形式）\n",
    "df = pd.DataFrame(data)\n",
    "# 打印数据框df，显示表格内容\n",
    "print(df)  # 输出数据框\n",
    "# 计算'Age'列的平均值，并将结果赋值给变量mean_age\n",
    "mean_age = df['Age'].mean()\n",
    "# 打印平均年龄\n",
    "print(mean_age) "
   ]
  },
  {
   "cell_type": "markdown",
   "id": "ed2632f5-fe7b-4161-ab1d-05fc9d309f9c",
   "metadata": {},
   "source": [
    "### 代码6.22"
   ]
  },
  {
   "cell_type": "code",
   "execution_count": null,
   "id": "ea187433-67c4-48dc-9819-071334a01db0",
   "metadata": {},
   "outputs": [],
   "source": [
    "# 导入matplotlib.pyplot模块，用于绘图，并简写为plt\n",
    "import matplotlib.pyplot as plt\n",
    "# 导入numpy模块，用于数值计算，并简写为np\n",
    "import numpy as np\n",
    "# 使用numpy的arange函数生成一个从0到10（不包括10），步长为0.01的数组，作为x轴数据\n",
    "x = np.arange(0, 10, 0.01)\n",
    "# 计算x数组中每个元素的正弦值，生成y轴数据\n",
    "y = np.sin(x)\n",
    "# 使用matplotlib绘制x和y的数据，线条颜色设置为红色（'r'）\n",
    "plt.plot(x, y, 'r')\n",
    "# 设置x轴的标签为'X-axis'\n",
    "plt.xlabel('X-axis')\n",
    "# 设置y轴的标签为'Y-axis'\n",
    "plt.ylabel('Y-axis')\n",
    "# 设置图表的标题为'Sin x'\n",
    "plt.title('Sin x')\n",
    "# 显示绘制的图表\n",
    "plt.show()"
   ]
  },
  {
   "cell_type": "markdown",
   "id": "a50fde22-33ed-4301-b8dc-7d0805a803a2",
   "metadata": {},
   "source": [
    "### 代码7.1"
   ]
  },
  {
   "cell_type": "code",
   "execution_count": null,
   "id": "b07b9fdb-6972-48de-a522-2428417cb22d",
   "metadata": {},
   "outputs": [],
   "source": [
    "file = open(\"test.txt\", \"w\")\n",
    "file.write('First line.\\n')\n",
    "file.write('Second line.\\n')\n",
    "file.close()"
   ]
  },
  {
   "cell_type": "markdown",
   "id": "14682e55-8bf0-4eb9-bd71-b2a4e1ce65e0",
   "metadata": {},
   "source": [
    "### 代码7.2"
   ]
  },
  {
   "cell_type": "code",
   "execution_count": null,
   "id": "c7f5e2cd-b6e9-42bf-9b85-8d709acb2875",
   "metadata": {},
   "outputs": [],
   "source": [
    "file = open(\"test.txt\", \"w\")\n",
    "lines = [\"Line 1\\n\", \"Line 2\\n\", \"Line 3\\n\"]\n",
    "file.writelines(lines)\n",
    "file.close()"
   ]
  },
  {
   "cell_type": "markdown",
   "id": "6b95e949-2f09-4beb-83a7-32ed54f90450",
   "metadata": {},
   "source": [
    "### 代码7.3"
   ]
  },
  {
   "cell_type": "code",
   "execution_count": null,
   "id": "187e0e3e-7ca4-481c-87b1-788c32f2870e",
   "metadata": {},
   "outputs": [],
   "source": [
    "file = open(\"test.txt\", \"r\")\n",
    "content = file.read()\n",
    "print(content)\n",
    "file.close()"
   ]
  },
  {
   "cell_type": "markdown",
   "id": "da9ae923-f81a-4e31-abb0-e4e778c16fb2",
   "metadata": {},
   "source": [
    "### 代码7.4"
   ]
  },
  {
   "cell_type": "code",
   "execution_count": null,
   "id": "8468a7ef-a472-400b-9ac5-fe571a42c1e7",
   "metadata": {},
   "outputs": [],
   "source": [
    "file = open(\"test.txt\", \"r\")\n",
    "lines = file.readlines()\n",
    "for line in lines:\n",
    "    print(line)\n",
    "file.close()"
   ]
  },
  {
   "cell_type": "markdown",
   "id": "75b5cc23-5ffd-4815-824f-3eaf2781e0fd",
   "metadata": {},
   "source": [
    "### 代码7.5"
   ]
  },
  {
   "cell_type": "code",
   "execution_count": null,
   "id": "c8ad9d03-beeb-4d8c-bab5-71f157297b88",
   "metadata": {},
   "outputs": [],
   "source": [
    "with open(\"test.txt\", \"r\") as file:\n",
    "    content = file.read()\n",
    "    print(content)"
   ]
  },
  {
   "cell_type": "markdown",
   "id": "dc282b45-722e-4acd-89eb-37de05d98ece",
   "metadata": {},
   "source": [
    "### 代码7.6"
   ]
  },
  {
   "cell_type": "code",
   "execution_count": null,
   "id": "f8d0109d-fbb4-49da-8f2b-e9c792b4dd6b",
   "metadata": {},
   "outputs": [],
   "source": [
    "# 导入必要的库\n",
    "import pandas as pd  # 导入Pandas库，用于数据处理和操作\n",
    "from openpyxl.styles import Font, Alignment  # 导入OpenPyXL的样式类，用于设置Excel单元格样式\n",
    "from openpyxl.utils.dataframe import dataframe_to_rows  # 导入dataframe_to_rows函数\n",
    "\n",
    "# 创建一个示例数据集\n",
    "data = {\n",
    "    'Name': ['张三', '李四', '王五'],  # 姓名列\n",
    "    'Age': [25, 30, 35],  # 年龄列\n",
    "    'City': ['北京', '上海', '广州']  # 城市列\n",
    "}\n",
    "\n",
    "# 将数据转换为Pandas DataFrame\n",
    "df = pd.DataFrame(data)  # 使用Pandas将字典数据转换为DataFrame\n",
    "\n",
    "# 使用Pandas将DataFrame写入Excel文件\n",
    "pd_excel_file = 'Pandas_output.xlsx'  # 定义Pandas生成的Excel文件名\n",
    "df.to_excel(pd_excel_file, index=False, sheet_name='Sheet1')  # 将DataFrame写入Excel文件，不包含索引列，工作表名为Sheet1\n",
    "print(f\"Pandas生成的Excel文件已保存为：{pd_excel_file}\")  # 打印保存成功的提示信息\n",
    "\n",
    "# 使用OpenPyXL创建新的Excel文件并应用高级格式化\n",
    "from openpyxl import Workbook  # 导入OpenPyXL的Workbook类，用于创建新的Excel文件\n",
    "op_excel_file = 'openpyxl_output.xlsx'  # 定义OpenPyXL处理的Excel文件名\n",
    "wb = Workbook()  # 创建一个新的Workbook对象\n",
    "ws = wb.active  # 获取默认的工作表\n",
    "\n",
    "# 将DataFrame数据写入OpenPyXL的工作表\n",
    "for row in dataframe_to_rows(df, index=False, header=True):  # 遍历DataFrame的每一行\n",
    "    ws.append(row)  # 将行数据写入工作表\n",
    "\n",
    "# 合并单元格并设置标题\n",
    "ws.merge_cells('A1:C1')  # 合并第一行的A1到C1单元格\n",
    "ws['A1'] = '被试信息'  # 在合并后的单元格中设置标题内容\n",
    "ws['A1'].font = Font(size=16, bold=True, color=\"000000\")  # 设置标题字体：16号、加粗、黑色\n",
    "ws['A1'].alignment = Alignment(horizontal=\"center\", vertical=\"center\")  # 设置标题居中对齐\n",
    "\n",
    "# 保存Excel文件\n",
    "wb.save(op_excel_file)  # 保存修改后的Excel文件\n",
    "print(f\"OpenPyXL生成的Excel文件已保存为：{op_excel_file}\")  # 打印保存成功的提示信息"
   ]
  }
 ],
 "metadata": {
  "kernelspec": {
   "display_name": "Python 3 (ipykernel)",
   "language": "python",
   "name": "python3"
  },
  "language_info": {
   "codemirror_mode": {
    "name": "ipython",
    "version": 3
   },
   "file_extension": ".py",
   "mimetype": "text/x-python",
   "name": "python",
   "nbconvert_exporter": "python",
   "pygments_lexer": "ipython3",
   "version": "3.12.6"
  }
 },
 "nbformat": 4,
 "nbformat_minor": 5
}
