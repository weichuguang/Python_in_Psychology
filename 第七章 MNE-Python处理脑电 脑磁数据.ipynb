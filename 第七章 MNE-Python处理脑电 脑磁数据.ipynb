{
 "cells": [
  {
   "cell_type": "markdown",
   "id": "31466b13-6918-4570-a96c-e71c937a9a13",
   "metadata": {},
   "source": [
    "# 第七章 MNE-Python处理脑电/脑磁数据"
   ]
  },
  {
   "cell_type": "code",
   "execution_count": null,
   "id": "50da4545-4da4-4b55-a1b1-21189f22b975",
   "metadata": {},
   "outputs": [],
   "source": [
    "\"\"\"\n",
    "本代码为《Python心理学应用》一书第七章MNE-Python处理脑电/脑磁数据中的全部代码\n",
    "建议结合书本内容进行实操练习，以增进理解\n",
    "魏楚光，weicg@psych.ac.cn \n",
    "8-Dec-2024\n",
    "\"\"\""
   ]
  },
  {
   "cell_type": "markdown",
   "id": "ce4da63b-0093-418b-8d6a-04b360a0f651",
   "metadata": {},
   "source": [
    "### 本章内容基于 MNE-Python 1.9 版本，所有示例代码均使用 Jupyter Notebook 进行演示和说明"
   ]
  },
  {
   "cell_type": "markdown",
   "id": "7dac3560-074a-4bd5-a49c-240dd45e8d4b",
   "metadata": {},
   "source": [
    "## 代码1.1"
   ]
  },
  {
   "cell_type": "code",
   "execution_count": null,
   "id": "43867511-c7a1-4df1-ba69-bd09577c024d",
   "metadata": {},
   "outputs": [],
   "source": [
    "python -m ensurepip --upgrade # 确保系统已经安装了 Python 和 pip\n",
    "pip install mne # 安装 MNE-Python"
   ]
  },
  {
   "cell_type": "markdown",
   "id": "e42887ab-03a1-4704-872e-67d5bd839b64",
   "metadata": {},
   "source": [
    "## 代码1.2（需在Anaconda里运行）"
   ]
  },
  {
   "cell_type": "code",
   "execution_count": null,
   "id": "f837f0ea-56f7-4392-864b-96992fac8ca0",
   "metadata": {},
   "outputs": [],
   "source": [
    "conda update --name=base conda  # update conda\n",
    "conda —version"
   ]
  },
  {
   "cell_type": "markdown",
   "id": "520034dd-a747-4e04-8ead-093972fa82ae",
   "metadata": {},
   "source": [
    "## 代码1.4"
   ]
  },
  {
   "cell_type": "code",
   "execution_count": null,
   "id": "e5079060-02e0-472c-bdd3-5ae24fe813d4",
   "metadata": {},
   "outputs": [],
   "source": [
    "import mne\n",
    "mne.sys_info()"
   ]
  },
  {
   "cell_type": "markdown",
   "id": "7815c307-0192-43b5-a181-ac06230261b8",
   "metadata": {},
   "source": [
    "### 代码1.4"
   ]
  },
  {
   "cell_type": "code",
   "execution_count": null,
   "id": "299fb7d1-df48-4cd1-9d2d-067b014d5d63",
   "metadata": {},
   "outputs": [],
   "source": [
    "import mne\n",
    "mne.sys_info()"
   ]
  },
  {
   "cell_type": "markdown",
   "id": "d6c041c7-d4c5-4984-a1dd-270700ab6803",
   "metadata": {},
   "source": [
    "### 代码2.1"
   ]
  },
  {
   "cell_type": "code",
   "execution_count": null,
   "id": "fc925dfe-1526-40e8-9f73-c7776a778e69",
   "metadata": {},
   "outputs": [],
   "source": [
    "import mne\n",
    "# 加载 .fif 格式数据\n",
    "raw = mne.io.read_raw_fif(r'C:\\weicg\\example_raw.fif', preload=True)\n",
    "# 加载 .edf 格式数据\n",
    "raw = mne.io.read_raw_edf(r'C:\\weicg\\example_raw.edf', preload=True)\n",
    "# 加载 .set 格式数据\n",
    "raw = mne.io.read_raw_eeglab(r'C:\\weicg\\example_raw.set', preload=True)\n",
    "# 加载 .vhdr/.eeg 数据\n",
    "raw = mne.io.read_raw_brainvision(r'C:\\weicg\\example_raw.vhdr', preload=True)\n",
    "# 加载 .cnt数据\n",
    "raw = mne.io.read_raw_cnt(r'C:\\weicg\\example_raw.cnt')"
   ]
  },
  {
   "cell_type": "markdown",
   "id": "a3b568d3-1606-44fa-898b-6f4c6a6e3de5",
   "metadata": {},
   "source": [
    "### 代码2.2"
   ]
  },
  {
   "cell_type": "code",
   "execution_count": null,
   "id": "0ac34aee-648b-4aeb-8ac8-fe28838549bd",
   "metadata": {},
   "outputs": [],
   "source": []
  },
  {
   "cell_type": "code",
   "execution_count": null,
   "id": "ad2cf0cc-e466-466e-9618-2ce18f148cf4",
   "metadata": {},
   "outputs": [],
   "source": [
    "###### Read raw fif format data ######\n",
    "raw_fif_file = r\"C:\\weicg\\Desktop\\Python心理学应用\\raw_data\\fif\\sub1.fif\"\n",
    "raw_fif = mne.io.read_raw_fif(raw_fif_file, preload=True)\n",
    "raw_fif"
   ]
  },
  {
   "cell_type": "markdown",
   "id": "9d97fbea-e410-43a9-b2b4-1d52f97b1118",
   "metadata": {},
   "source": [
    "### 代码2.3"
   ]
  },
  {
   "cell_type": "code",
   "execution_count": null,
   "id": "cc34eb93-0071-4190-bc02-0b1ceea67a8d",
   "metadata": {},
   "outputs": [],
   "source": [
    "print(raw_fif.info)  # 打印所有元信息\n",
    "print(raw_fif.info['sfreq'])  # 获取采样频率\n",
    "print(raw_fif.info['bads'])  # 获取坏导\n",
    "print(raw_fif.info['ch_names'])  # 以列表形式获取通道名称\n",
    "print(raw_fif.info['ch_names'][0])  # 获取第一个通道的详细信息\n",
    "print(raw_fif.info['chs'][0])  # 获取第一个通道的详细信息"
   ]
  },
  {
   "cell_type": "markdown",
   "id": "d1e8e107-087e-4524-96e9-c6bdec6d2f4f",
   "metadata": {},
   "source": [
    "### 代码2.4"
   ]
  },
  {
   "cell_type": "code",
   "execution_count": null,
   "id": "4bb6638b-4d02-428a-87e8-fd1f606aae9c",
   "metadata": {},
   "outputs": [],
   "source": [
    "data, times = raw_fif[:]  # 从 Raw 对象中提取数据矩阵和时间点数组\n",
    "print(f'data,{data}')  # 输出数据矩阵\n",
    "print(f'times,{times}')  # 输出时间点数组"
   ]
  },
  {
   "cell_type": "markdown",
   "id": "800b7c88-f47e-4662-a4c3-e150d6f5b5d2",
   "metadata": {},
   "source": [
    "### 代码2.5"
   ]
  },
  {
   "cell_type": "code",
   "execution_count": null,
   "id": "4eaccf23-c326-4801-aeea-79ca54e4817d",
   "metadata": {},
   "outputs": [],
   "source": [
    "c  # 设置 matplotlib 的后端为 Qt5Agg，以支持交互式绘图\n",
    "import mne\n",
    "\n",
    "# 读取数据\n",
    "raw_fif_file = r\"C:\\weicg\\Desktop\\Python心理学应用\\raw_data\\fif\\sub1.fif\"\n",
    "raw_fif = mne.io.read_raw_fif(raw_fif_file, preload=True)\n",
    "# 绘制原始数据\n",
    "raw_fif.plot()"
   ]
  },
  {
   "cell_type": "markdown",
   "id": "ce1d66b3-0f84-4a66-b932-7c5f5243fad0",
   "metadata": {},
   "source": [
    "### 代码2.6"
   ]
  },
  {
   "cell_type": "code",
   "execution_count": null,
   "id": "19f34aca-2ba6-415e-a6e8-b40ddd17ef46",
   "metadata": {},
   "outputs": [],
   "source": [
    "builtin_montages = mne.channels.get_builtin_montages(descriptions=True) \n",
    "for montage_name, montage_description in builtin_montages:\n",
    "    print(f\"{montage_name}: {montage_description}\") "
   ]
  },
  {
   "cell_type": "markdown",
   "id": "dc6c62d4-2543-48d4-8b2e-53f9d93e81b2",
   "metadata": {},
   "source": [
    "### 代码2.7"
   ]
  },
  {
   "cell_type": "code",
   "execution_count": null,
   "id": "75b3f9e7-2ff4-4446-adc3-f14f3635d974",
   "metadata": {},
   "outputs": [],
   "source": [
    "# 加载标准 10-20 系统的 Montage\n",
    "montage_1020 = mne.channels.make_standard_montage('standard_1020')\n",
    "print(montage_1020.ch_names)  # 输出所有电极的名称\n",
    "print(len(montage_1020.ch_names))  # 94，表示 Montage 中共有 94 个电极\n",
    "montage_1020.plot()  # 绘制 2D 电极位置图\n",
    "montage_1020.plot(kind='3d')  # 绘制 3D 电极位置图"
   ]
  },
  {
   "cell_type": "markdown",
   "id": "4e54ee78-12dc-4222-94bc-f9a661d4a2e0",
   "metadata": {},
   "source": [
    "### 代码2.8"
   ]
  },
  {
   "cell_type": "code",
   "execution_count": null,
   "id": "81c2ca6a-1df8-40df-9b0f-48815df5e31d",
   "metadata": {},
   "outputs": [],
   "source": [
    "raw_cnt_file = r\"C:\\weicg\\Desktop\\Python心理学应用\\raw_data\\cnt\\sub1.cnt\"\n",
    "raw_cnt = mne.io.read_raw_cnt(raw_cnt_file)\n",
    "\n",
    "# 为 Raw 对象设置 Montage（电极位置布置）\n",
    "raw_cnt.set_montage(montage='standard_1020',match_case=False,on_missing='ignore')\n",
    "raw_cnt.plot_sensors(show_names=True)  # 可视化呈现"
   ]
  },
  {
   "cell_type": "markdown",
   "id": "1fb21a2b-3738-4a55-b1e6-5c5231a9e330",
   "metadata": {},
   "source": [
    "### 代码2.9"
   ]
  },
  {
   "cell_type": "code",
   "execution_count": null,
   "id": "b42fb304-7839-4bd4-9f1e-274ad96524c2",
   "metadata": {},
   "outputs": [],
   "source": [
    "raw_fif_file = r\"C:\\weicg\\Desktop\\Python心理学应用\\raw_data\\fif\\sub1.fif\"\n",
    "raw_fif = mne.io.read_raw(raw_file)\n",
    "raw_fif.plot_sensors(ch_type='eeg',show_names=True)"
   ]
  },
  {
   "cell_type": "markdown",
   "id": "82094434-44c9-487b-adfd-adab97bdbbfd",
   "metadata": {},
   "source": [
    "### 代码2.10"
   ]
  },
  {
   "cell_type": "code",
   "execution_count": null,
   "id": "61276c2d-4622-4d86-8f03-e9703591605a",
   "metadata": {},
   "outputs": [],
   "source": [
    "raw_fif_file = r\"C:\\weicg\\Desktop\\Python心理学应用\\raw_data\\fif\\sub1.fif\"\n",
    "raw_fif = mne.io.read_raw(raw_fif_file)\n",
    "fif_events = mne.find_events(raw_fif)\n",
    "print(fif_events)"
   ]
  },
  {
   "cell_type": "markdown",
   "id": "552048f1-eba5-43a1-9221-a6be635fff10",
   "metadata": {},
   "source": [
    "### 代码2.11"
   ]
  },
  {
   "cell_type": "code",
   "execution_count": null,
   "id": "c1462d77-be02-4025-a133-3ce830f62710",
   "metadata": {},
   "outputs": [],
   "source": [
    "raw_cnt_file = r\"C:\\weicg\\Desktop\\Python心理学应用\\raw_data\\cnt\\sub1.cnt\"\n",
    "raw_cnt = mne.io.read_raw_cnt(raw_cnt_file)\n",
    "annotation_events,annotation_events_id=mne.events_from_annotations(raw_cnt)\n",
    "print(f'annotation_events{annotation_events}')\n",
    "print(f'annotation_events_id{annotation_events_id}')"
   ]
  },
  {
   "cell_type": "markdown",
   "id": "f1cbc776-ff28-447a-a1b3-013c22413b12",
   "metadata": {},
   "source": [
    "### 代码2.12"
   ]
  },
  {
   "cell_type": "code",
   "execution_count": null,
   "id": "28680379-8588-4ffa-819a-a7295c3bcd84",
   "metadata": {},
   "outputs": [],
   "source": [
    "event_id = {\n",
    "\t'conditionA_level1':1,\n",
    "\t'conditionA_level2':2,\n",
    "\t'response':99\n",
    "}\n",
    "print(event_id )"
   ]
  },
  {
   "cell_type": "markdown",
   "id": "4ef41b3e-8dd4-4fb5-9b46-49b07cff0b1c",
   "metadata": {},
   "source": [
    "### 代码2.13"
   ]
  },
  {
   "cell_type": "code",
   "execution_count": null,
   "id": "02113a2d-f8de-40ae-852f-0e7f5a02f9de",
   "metadata": {},
   "outputs": [],
   "source": [
    "events_stim = mne.pick_events(fif_events, exclude=32)\n",
    "print(events_stim)"
   ]
  },
  {
   "cell_type": "markdown",
   "id": "028cec8b-0797-46d6-b278-3004a3ce3888",
   "metadata": {},
   "source": [
    "### 代码2.14"
   ]
  },
  {
   "cell_type": "code",
   "execution_count": null,
   "id": "268da661-d16b-4c52-99da-a3e449d3aa74",
   "metadata": {},
   "outputs": [],
   "source": [
    "fif_events = mne.find_events(raw_fif)  # 提取事件信息，返回一个形状为 (n_events, 3) 的数组\n",
    "fif_events  # 事件数组，查看所有事件信息\n",
    "\n",
    "# 查看事件数组的形状，返回 (n_events, 3)，表示有 n_events 个事件，每个事件包含 3 个值\n",
    "print(fif_events.shape)  # (319, 3)\n",
    "\n",
    "# 查看第一个事件的信息，返回一个包含 3 个值的数组：[采样点, 前一个触发值, 当前触发值]\n",
    "print(fif_events[0]) \n",
    "\n",
    "# 查看最后一个事件的信息\n",
    "print(fif_events[318]) \n",
    "\n",
    "# 提取所有事件的采样点（即每个事件的第一列）\n",
    "print(fif_events[:, 0])  # 所有事件的采样点\n",
    "\n",
    "# 提取所有事件（即每个事件的第三列）\n",
    "print(fif_events[:, 2])\n",
    "\n",
    "print(set(fif_events[:, 2]))  # 使用 set() 函数提取所有唯一的事件\n",
    "\n",
    "# 也可以使用 numpy 的 unique() 函数提取所有唯一的事件触发值\n",
    "import numpy as np\n",
    "print(np.unique(fif_events[:, 2]))  # 所有唯一的事件触发值\n",
    "\n",
    "# 判断每个事件的触发值是否等于 1，返回一个布尔数组\n",
    "print(fif_events[:, 2] == 1 )\n",
    "\n",
    "# 筛选出所有触发值为 1 的事件\n",
    "print(fif_events[events[:, 2] == 1])  # 选择 event 1 的所有事件\n",
    "\n",
    "# 筛选出触发值为 1 的事件的采样点（第一列）\n",
    "print(fif_events[events[:, 2] == 1][:, 0]  )\n",
    "\n",
    "# 计算触发值为 1 的事件出现的次数\n",
    "print(len(fif_events[events[:, 2] == 1]))"
   ]
  },
  {
   "cell_type": "markdown",
   "id": "323a08ba-37af-4eb6-82ae-462eb9c71f13",
   "metadata": {},
   "source": [
    "### 代码2.15"
   ]
  },
  {
   "cell_type": "code",
   "execution_count": null,
   "id": "19e12d64-c48a-4700-9aa6-ccdbf8cc6d03",
   "metadata": {},
   "outputs": [],
   "source": [
    "# 从原始的FIF格式数据中提取事件信息\n",
    "fif_events = mne.find_events(raw_fif) \n",
    "\n",
    "# 定义事件ID与实验条件的映射关系\n",
    "event_id = {\n",
    "    'Auditory/Left': 1,   # 听觉/左侧刺激，对应事件ID为1\n",
    "    'Auditory/Right': 2,  # 听觉/右侧刺激，对应事件ID为2\n",
    "    'Visual/Left': 3,     # 视觉/左侧刺激，对应事件ID为3\n",
    "    'Visual/Right': 4,   # 视觉/右侧刺激，对应事件ID为4\n",
    "    'Smiley': 5,         # 笑脸刺激，对应事件ID为5\n",
    "    'Button': 32         # 按钮触发，对应事件ID为32\n",
    "}\n",
    "\n",
    "# 绘制事件的时间分布图（以样本点为单位）\n",
    "mne.viz.plot_events(fif_events)\n",
    "\n",
    "# 绘制事件的时间分布图，并根据event_id映射显示事件名称（以样本点为单位）\n",
    "mne.viz.plot_events(fif_events, event_id=event_id)  # 示例\n",
    "\n",
    "# 绘制事件的时间分布图，并根据event_id映射显示事件名称，同时将时间单位转换为秒\n",
    "mne.viz.plot_events(\n",
    "    fif_events, \n",
    "    event_id=event_id, \n",
    "    sfreq=raw.info['sfreq'],  # 使用数据的采样频率\n",
    "    first_samp=raw_fif.first_samp  # 使用数据的起始样本点\n",
    ")  # 时间单位为秒"
   ]
  },
  {
   "cell_type": "markdown",
   "id": "6611e40a-a719-404d-af01-b05021892ada",
   "metadata": {},
   "source": [
    "### 代码3.1"
   ]
  },
  {
   "cell_type": "code",
   "execution_count": null,
   "id": "8f9cc82f-8d73-4d99-ba7d-9484bd2758ad",
   "metadata": {},
   "outputs": [],
   "source": [
    "bad_chan = raw_fif.info['bads']\n",
    "print(bad_chan)  # 输出坏通道 ['MEG 2443', 'EEG 053']\n",
    "bad_chan = raw_fif.info['bads'] =  ['MEG 2443', 'EEG 053', 'EEG 054'] # 手动标记坏通道\n",
    "print(bad_chan)  # 输出坏通道 ['MEG 2443', 'EEG 053', 'EEG 054']"
   ]
  },
  {
   "cell_type": "markdown",
   "id": "08818587-67cc-4bb6-9ee9-922c11f9da8a",
   "metadata": {},
   "source": [
    "### 代码3.2"
   ]
  },
  {
   "cell_type": "code",
   "execution_count": null,
   "id": "33848928-a786-4dde-b239-67d8f77de8a5",
   "metadata": {},
   "outputs": [],
   "source": [
    "from mne.preprocessing import find_bad_channels_lof\n",
    "raw_fif_file = r\"C:\\weicg\\Desktop\\Python心理学应用\\raw_data\\fif\\sub1.fif\"\n",
    "raw_fif = mne.io.read_raw_fif(raw_file, preload=True)\n",
    "# 检测坏通道\n",
    "bad_channels = find_bad_channels_lof(raw_fif, picks=\"eeg\")\n",
    "print(\"检测到的坏通道：\", bad_channels)\n",
    "# 将坏通道添加到 raw.info['bads']\n",
    "raw_fif.info['bads'] = bad_channels"
   ]
  },
  {
   "cell_type": "markdown",
   "id": "0922f3a5-0136-477b-9d25-ffd93a5e1b5f",
   "metadata": {},
   "source": [
    "### 代码3.3"
   ]
  },
  {
   "cell_type": "code",
   "execution_count": null,
   "id": "866285bd-4c0f-45f6-98ce-9db2e1ab4a1b",
   "metadata": {},
   "outputs": [],
   "source": [
    "raw_fif_file = r\"C:\\weicg\\Desktop\\Python心理学应用\\raw_data\\fif\\sub1.fif\"\n",
    "raw_fif = mne.io.read_raw(raw_file)\n",
    "print(raw_fif.info['bads'])  # 输出['MEG 2443', 'EEG 053']\n",
    "raw_fif.drop_channels(raw_fif.info['bads'])\n",
    "print(raw_fif.info['bads'])  # 输出[]"
   ]
  },
  {
   "cell_type": "markdown",
   "id": "b1543d3e-d7b5-4e20-991c-0b3b804f28f9",
   "metadata": {},
   "source": [
    "### 代码3.4"
   ]
  },
  {
   "cell_type": "code",
   "execution_count": null,
   "id": "326e7bee-5e60-4851-beff-eaf6172afb13",
   "metadata": {},
   "outputs": [],
   "source": [
    "raw_fif_file = r\"C:\\weicg\\Desktop\\Python心理学应用\\raw_data\\fif\\sub1.fif\"\n",
    "raw_fif= mne.io.read_raw(raw_file)\n",
    "raw_fif.load_data()\n",
    "raw_fif.interpolate_bads(reset_bads=True)\n",
    "print(raw_fif.info['bads'])  # 输出[]"
   ]
  },
  {
   "cell_type": "markdown",
   "id": "afdfa6f3-ba38-4a41-8406-e11db65e83ea",
   "metadata": {},
   "source": [
    "### 代码3.5"
   ]
  },
  {
   "cell_type": "code",
   "execution_count": null,
   "id": "23643eef-95da-4ce6-8c54-3cee4441adb4",
   "metadata": {},
   "outputs": [],
   "source": [
    "raw_fif_file = r\"C:\\weicg\\Desktop\\Python心理学应用\\raw_data\\fif\\sub1.fif\"\n",
    "raw_fif= mne.io.read_raw(raw_file)\n",
    "\n",
    "#此处 raw 是经过坏通道插值处理的 Raw 对象，即滤波处理在坏通道处理之后\n",
    "raw_fif.load_data() # 调用 load_data() 将数据从磁盘加载到内存中以便后续处理\n",
    "raw_fif.interpolate_bads(reset_bads=True)\n",
    "\n",
    "# 使用 raw.filter() 方法对数据进行带通滤波，保留 0.1 Hz 到 40 Hz 之间的频率成分\n",
    "# - l_freq=0.1：设置高通滤波的截止频率为 0.1 Hz，去除低频漂移（如直流偏移或运动伪迹）\n",
    "# - h_freq=40：设置低通滤波的截止频率为 40 Hz，去除高频噪声（如肌电干扰或工频噪声）\n",
    "raw_fif.filter(l_freq=0.1, h_freq=40)"
   ]
  },
  {
   "cell_type": "markdown",
   "id": "671af9ec-3b19-4e39-bc58-611789ef13f7",
   "metadata": {},
   "source": [
    "### 代码3.6"
   ]
  },
  {
   "cell_type": "code",
   "execution_count": null,
   "id": "5b121485-753b-41be-aa66-134b53fbc81f",
   "metadata": {},
   "outputs": [],
   "source": [
    "cnt_file = r\"C:\\weicg\\Desktop\\Python心理学应用\\raw_data\\cnt\\sub1.cnt\"\n",
    "raw_cnt=mne.io.read_raw_cnt(cnt_file)\n",
    "\n",
    "# 并去除不需要的通道\n",
    "cnt_bad_ch = ['HEO', 'VEO']\n",
    "raw_cnt.drop_channels(cnt_bad_ch)\n",
    "\n",
    "# 加载数据并滤波\n",
    "raw_cnt.load_data()\n",
    "raw_cnt.filter(l_freq=0.1, h_freq=40)\n",
    "\n",
    "\n",
    "# 采用 M2作为参考，确保 M2 通道存在于数据中，否则代码会抛出错误\n",
    "raw_cnt.set_eeg_reference(ref_channels=['M2']) # 也可指定其它通道或通道组合作为参考"
   ]
  },
  {
   "cell_type": "markdown",
   "id": "37e1aec5-26d4-44e3-af23-016ba6feba52",
   "metadata": {},
   "source": [
    "### 代码3.7"
   ]
  },
  {
   "cell_type": "code",
   "execution_count": null,
   "id": "6133f1eb-5196-4a83-ab73-d63e2cb7c632",
   "metadata": {},
   "outputs": [],
   "source": [
    "raw_fif_file = r\"C:\\weicg\\Desktop\\Python心理学应用\\raw_data\\fif\\sub1.fif\"\n",
    "raw_fif= mne.io.read_raw(raw_file)\n",
    "\n",
    "#此处 raw 是经过坏通道插值处理的 Raw 对象，即滤波处理在坏通道处理之后\n",
    "raw_fif.load_data() # 调用 load_data() 将数据从磁盘加载到内存中以便后续处理\n",
    "raw_fif.interpolate_bads(reset_bads=True)\n",
    "\n",
    "# 使用 raw.filter() 方法对数据进行带通滤波，保留 0.1 Hz 到 40 Hz 之间的频率成分\n",
    "# - l_freq=0.1：设置高通滤波的截止频率为 0.1 Hz，去除低频漂移（如直流偏移或运动伪迹）\n",
    "# - h_freq=40：设置低通滤波的截止频率为 40 Hz，去除高频噪声（如肌电干扰或工频噪声）\n",
    "raw_fif.filter(l_freq=0.1, h_freq=40)\n",
    "mne.set_eeg_reference(raw_fif, ref_channels='average')"
   ]
  },
  {
   "cell_type": "markdown",
   "id": "78e065df-f96f-4926-b491-17a1c69bdf1b",
   "metadata": {},
   "source": [
    "### 代码3.8"
   ]
  },
  {
   "cell_type": "code",
   "execution_count": null,
   "id": "d810fdc0-cc0d-45fb-b5b1-35649c78c6ef",
   "metadata": {},
   "outputs": [],
   "source": [
    "cnt_file = r\"C:\\weicg\\Desktop\\Python心理学应用\\raw_data\\cnt\\sub1.cnt\"\n",
    "raw_cnt=mne.io.read_raw_cnt(cnt_file)\n",
    "\n",
    "# 并去除不需要的通道\n",
    "cnt_bad_ch = ['HEO', 'VEO']\n",
    "raw_cnt.drop_channels(cnt_bad_ch)\n",
    "\n",
    "# 加载数据并滤波\n",
    "raw_cnt.load_data()\n",
    "raw_cnt.filter(l_freq=0.1, h_freq=40)\n",
    "\n",
    "\n",
    "# 采用 F3 和 F4 作为双极参考\n",
    "mne.set_bipolar_reference(raw_cnt, anode=[\"F3\"], cathode=[\"F4\"])\n"
   ]
  },
  {
   "cell_type": "markdown",
   "id": "f76aa5d8-94b0-4e03-bc6d-16336318de3c",
   "metadata": {},
   "source": [
    "### 代码3.9"
   ]
  },
  {
   "cell_type": "code",
   "execution_count": null,
   "id": "98a4bc42-18f0-4a30-b94d-1026e50680ad",
   "metadata": {},
   "outputs": [],
   "source": [
    "# 导入 MNE-Python 中的 ICA 模块\n",
    "from mne.preprocessing import ICA\n",
    "\n",
    "# 创建 ICA 对象，设置参数：\n",
    "# n_components=30：提取 30 个独立成分\n",
    "# method='fastica'：使用 FastICA 算法\n",
    "# random_state=42：设置随机种子以确保结果可重复\n",
    "ica = ICA(n_components=30, method='fastica', random_state=42)\n",
    "\n",
    "# 拟合数据，此处是对经过坏道插值、滤波和重参考处理的数据 raw 进行 ICA 分解\n",
    "# picks='eeg'：仅对 EEG 通道进行 ICA 分解\n",
    "ica.fit(raw_fif, picks='eeg')"
   ]
  },
  {
   "cell_type": "markdown",
   "id": "50a72850-fecd-4855-a06c-38ec303a4574",
   "metadata": {},
   "source": [
    "### 代码3.10"
   ]
  },
  {
   "cell_type": "code",
   "execution_count": null,
   "id": "6c9ac54b-d3af-4bcc-a151-7bd1aff9bd3c",
   "metadata": {},
   "outputs": [],
   "source": [
    "# 可视化所有独立成分的空间分布图\n",
    "ica.plot_components()"
   ]
  },
  {
   "cell_type": "markdown",
   "id": "8d517aef-21c1-40f1-ab60-c7d3085081b3",
   "metadata": {},
   "source": [
    "### 代码3.11"
   ]
  },
  {
   "cell_type": "code",
   "execution_count": null,
   "id": "9b652e58-bc8f-4bad-9605-9e581ac47d85",
   "metadata": {},
   "outputs": [],
   "source": [
    "# 可视化独立成分的时间序列（源信号）\n",
    "ica.plot_sources(raw_fif)"
   ]
  },
  {
   "cell_type": "markdown",
   "id": "e56bf329-415d-4c6a-ad1a-0627459a9daf",
   "metadata": {},
   "source": [
    "### 代码3.12"
   ]
  },
  {
   "cell_type": "code",
   "execution_count": null,
   "id": "c67f6aec-da8e-4432-8f40-eac6ed863f5a",
   "metadata": {},
   "outputs": [],
   "source": [
    "# 查看特定独立成分的详细属性（如时间序列、频谱、空间分布等）\n",
    "# picks=[0, 1]：查看第 0 和第 1 个独立成分\n",
    "ica.plot_properties(raw_fif, picks=[0, 1])"
   ]
  },
  {
   "cell_type": "markdown",
   "id": "cab22f80-6099-4dde-bebd-26277989ee1b",
   "metadata": {},
   "source": [
    "### 代码3.13"
   ]
  },
  {
   "cell_type": "code",
   "execution_count": null,
   "id": "1ffd9440-d7de-4651-a390-f020a7e39f35",
   "metadata": {},
   "outputs": [],
   "source": [
    "# 标记需要排除的伪迹成分（如眼动、肌电伪迹等）\n",
    "# 排除第 0、1、2、3 共4个独立成分\n",
    "ica.exclude = [0, 1, 2, 3] \n",
    "\n",
    "# 可视化 ICA 去除伪迹后的效果\n",
    "# exclude=ica.exclude：指定需要排除的成分\n",
    "# picks='eeg'：仅显示 EEG 通道\n",
    "ica.plot_overlay(raw_fif, exclude=ica.exclude, picks='eeg')"
   ]
  },
  {
   "cell_type": "markdown",
   "id": "0474da66-9c23-462d-88af-20d2126946a3",
   "metadata": {},
   "source": [
    "### 代码3.14"
   ]
  },
  {
   "cell_type": "code",
   "execution_count": null,
   "id": "47e12e81-9eb2-425a-b14c-007df946693c",
   "metadata": {},
   "outputs": [],
   "source": [
    "# 应用 ICA 去除伪迹，生成去伪迹后的数据\n",
    "raw_fif_clean = ica.apply(raw_fif)"
   ]
  },
  {
   "cell_type": "markdown",
   "id": "4c94d581-dbfb-4f7d-8ef8-e8c084ff85f5",
   "metadata": {},
   "source": [
    "### 代码3.15"
   ]
  },
  {
   "cell_type": "code",
   "execution_count": null,
   "id": "f6e157ca-e6a6-4383-9292-8937d20c2ba0",
   "metadata": {},
   "outputs": [],
   "source": [
    "reject = dict(grad=4000e-13,  # 单位：T / m（梯度计）\n",
    "              mag=4e-12,      # 单位：T（磁力计）\n",
    "              eeg=40e-6,      # 单位：V（EEG 通道）\n",
    "              eog=250e-6      # 单位：V（EOG 通道）\n",
    "              )"
   ]
  },
  {
   "cell_type": "markdown",
   "id": "b9707744-f9a6-42e7-a87f-82c605615364",
   "metadata": {},
   "source": [
    "### 代码3.16"
   ]
  },
  {
   "cell_type": "code",
   "execution_count": null,
   "id": "00f136ad-ee4d-43e7-bc13-86f1f070a16d",
   "metadata": {},
   "outputs": [],
   "source": [
    "epochs = mne.Epochs(raw_fif_clean, fif_events, event_id, tmin=-0.1, tmax=0.5, baseline=(None,\n",
    "         0),  picks=['eeg'], reject=dict(eeg=120e-6), preload=True)\n",
    "\n",
    "epochs.plot(events=fif_events,event_id=event_id)"
   ]
  },
  {
   "cell_type": "markdown",
   "id": "994194c4-db5c-4368-a338-24249b429c01",
   "metadata": {},
   "source": [
    "### 代码3.17"
   ]
  },
  {
   "cell_type": "code",
   "execution_count": null,
   "id": "5fde5914-85a0-409e-a363-71c6b2109acf",
   "metadata": {},
   "outputs": [],
   "source": [
    "# 生成伪事件，每个段 2 秒，无重叠\n",
    "artificial_events = mne.make_fixed_length_events(raw_fif_clean, start=0, stop=None, duration=2.0)\n",
    "artificial_epochs = mne.Epochs(raw_fif_clean, artificial_events, tmin=0, tmax=2, baseline=None)\n",
    "artificial_epochs.plot()"
   ]
  },
  {
   "cell_type": "markdown",
   "id": "8207f3a4-636e-4ae9-a25a-133e88e8bdef",
   "metadata": {},
   "source": [
    "### 代码3.18"
   ]
  },
  {
   "cell_type": "code",
   "execution_count": null,
   "id": "3de884dc-5cff-4526-bcea-b9077bd15ec4",
   "metadata": {},
   "outputs": [],
   "source": [
    "import os\n",
    "raw_data_path = r\"C:\\weicg\\Desktop\\Python心理学应用\\raw_data\\fif\"\n",
    "raw_path = raw_data_path\n",
    "all_raw_files = os.listdir(raw_data_path)\n",
    "all_raw_files"
   ]
  },
  {
   "cell_type": "code",
   "execution_count": null,
   "id": "46b4889f-d66f-4717-a389-c60e18f64547",
   "metadata": {},
   "outputs": [],
   "source": [
    "import mne\n",
    "\n",
    "#####################################\n",
    "# 1. 导入原始数据\n",
    "# 使用 CNT 格式数据路径\n",
    "raw_file = r\"C:\\weicg\\Desktop\\Python心理学应用\\raw_data\\cnt\\sub1.cnt\"\n",
    "\n",
    "# 读取数据并加载到内存\n",
    "raw = mne.io.read_raw_cnt(raw_file, preload=True)\n",
    "print(raw.info)  # 查看数据的基本信息\n",
    "\n",
    "#####################################\n",
    "# 2. 设置电极布局 (Montage)\n",
    "# 加载标准 1020 电极布局并设置到 raw 对象\n",
    "montage = mne.channels.make_standard_montage('standard_1020')\n",
    "raw.set_montage(montage,match_case=False,on_missing='ignore')\n",
    "raw.plot_sensors(kind='topomap', show_names=True)  # 查看电极分布\n",
    "\n",
    "#####################################\n",
    "# 3. 检查和标记坏通道\n",
    "# 可视化信号以手动标记坏通道\n",
    "raw.plot()\n",
    "\n",
    "# 手动设置无用通道或坏通道（示例）\n",
    "raw.info['bads'] = ['HEO','VEO','M2']  # 此处为无用通道\n",
    "print(f\"无用通道: {raw.info['bads']}\")\n",
    "\n",
    "# 此处为丢弃无用通道，如果是坏通道建议插值修复\n",
    "raw.drop_channels(['HEO','VEO','M2'])  # 丢弃无用通道\n",
    "\n",
    "\n",
    "#####################################\n",
    "# 4. 滤波\n",
    "# 设置高通滤波和低通滤波 (例如，1-40 Hz)\n",
    "raw.filter(l_freq=1.0, h_freq=40.0, fir_design='firwin')\n",
    "\n",
    "#####################################\n",
    "# 5. 重参考\n",
    "# 设置平均参考\n",
    "raw.set_eeg_reference('average', projection=True)\n",
    "\n",
    "#####################################\n",
    "# 6. 提取事件信息\n",
    "# 从注释中提取事件\n",
    "events, event_dict = mne.events_from_annotations(raw)\n",
    "print(\"事件信息:\", events)\n",
    "print(\"事件字典:\", event_dict)\n",
    "\n",
    "#####################################\n",
    "# 7. ICA 识别眼电等伪迹\n",
    "# 创建 ICA 对象并拟合数据\n",
    "ica = mne.preprocessing.ICA(n_components=30, random_state=97)\n",
    "ica.fit(raw)\n",
    "\n",
    "# 查看 ICA 成分\n",
    "ica.plot_components()\n",
    "\n",
    "# 找到伪影成分并排除\n",
    "ica.exclude = []  # 根据图形结果设置伪影成分索引\n",
    "ica.apply(raw)\n",
    "\n",
    "#####################################\n",
    "# 8. 提取数据段 (Epochs)\n",
    "# 设置时间窗口和基线校正\n",
    "epochs = mne.Epochs(\n",
    "    raw, events, event_id=event_dict, tmin=-0.1, tmax=0.5, baseline=(None, 0),\n",
    "    detrend=1, preload=True\n",
    ")\n",
    "\n",
    "#####################################\n",
    "# 9. 数据保存\n",
    "# 保存预处理后的数据\n",
    "epochs_path = 'ICA_raw.fif'\n",
    "epochs.save(epochs_path, overwrite=True)\n",
    "print(f\"预处理后的数据已保存到: {epochs_path}\")"
   ]
  },
  {
   "cell_type": "markdown",
   "id": "62fa87a2-f9ba-4f22-9429-77094f1b03b5",
   "metadata": {},
   "source": [
    "### 代码4.1"
   ]
  },
  {
   "cell_type": "code",
   "execution_count": null,
   "id": "97bab753-3b34-4c5a-8484-30c54454813c",
   "metadata": {},
   "outputs": [],
   "source": [
    "s1_epochs=mne.read_epochs(r\"C:\\weicg\\Desktop\\Python心理学应用\\epoch\\s1_epoch.fif\")\n",
    "s1_epochs.info"
   ]
  },
  {
   "cell_type": "markdown",
   "id": "67106451-872b-4ded-a00b-9f09d4f6f933",
   "metadata": {},
   "source": [
    "### 代码4.2"
   ]
  },
  {
   "cell_type": "code",
   "execution_count": null,
   "id": "358c51c1-7894-488e-9d9f-acc5fdfc7e16",
   "metadata": {},
   "outputs": [],
   "source": [
    "fif_epochs=mne.read_epochs(r\"C:\\weicg\\Desktop\\Python心理学应用\\epoch\\fif_epoch.fif\")\n",
    "auditory_epochs=fif_epochs['Auditory']\n",
    "auditory_epochs"
   ]
  },
  {
   "cell_type": "markdown",
   "id": "7ab47e91-814e-49fb-a7ac-a1a436c3d326",
   "metadata": {},
   "source": [
    "### 代码4.3"
   ]
  },
  {
   "cell_type": "code",
   "execution_count": null,
   "id": "a39c1596-ca51-432d-8a7c-f2ad9add9f88",
   "metadata": {},
   "outputs": [],
   "source": [
    "fif_epochs=mne.read_epochs(r\"C:\\weicg\\Desktop\\Python心理学应用\\epoch\\fif_epoch.fif\")\n",
    "# 从 epochs 中提取条件为 'Auditory/Right' 的所有 epochs\n",
    "right_auditory_epochs=fif_epochs['Auditory/Right'] \n",
    "right_auditory_epochs"
   ]
  },
  {
   "cell_type": "markdown",
   "id": "bfdfb655-dcd5-4513-a569-b4466a7f94e8",
   "metadata": {},
   "source": [
    "### 代码4.4"
   ]
  },
  {
   "cell_type": "code",
   "execution_count": null,
   "id": "4e6b4f64-0322-4661-8117-80da4223e19b",
   "metadata": {},
   "outputs": [],
   "source": [
    "fif_epochs=mne.read_epochs(r\"C:\\weicg\\Desktop\\Python心理学应用\\epoch\\fif_epoch.fif\")\n",
    "# 从 epochs 中提取条件为 'Auditory/Right' 的所有 epochs\n",
    "right_auditory_epochs=fif_epochs['Auditory/Right'] \n",
    "\n",
    "# 从 epochs 中提取前 25 个 epochs（索引 0 到 24），忽略事件条件，仅根据索引筛选\n",
    "epochs[:25]\n",
    "\n",
    "# 从 right_auditory_epochs 中提取索引 1 到 29 的 epochs，步长为 2\n",
    "right_auditory_epochs[1:30:2] \n"
   ]
  },
  {
   "cell_type": "markdown",
   "id": "0803bf2f-23c8-47cd-8bc3-5e95c0ef3abd",
   "metadata": {},
   "source": [
    "### 代码4.5"
   ]
  },
  {
   "cell_type": "code",
   "execution_count": null,
   "id": "2bd4d26b-71e8-45aa-a976-2a0b3c31ac5c",
   "metadata": {},
   "outputs": [],
   "source": [
    "metadata_epochs = mne.read_epochs(r\"C:\\weicg\\Desktop\\Python心理学应用\\epoch\\metadata-epo.fif\")\n",
    "metadata_epochs.metadata"
   ]
  },
  {
   "cell_type": "markdown",
   "id": "457e60fd-327a-430e-9d36-fa5c116cb518",
   "metadata": {},
   "source": [
    "### 代码5.1"
   ]
  },
  {
   "cell_type": "code",
   "execution_count": null,
   "id": "f53f7b85-5407-47f0-9430-a8d89db0ec1c",
   "metadata": {},
   "outputs": [],
   "source": [
    "right_auditory_epochs = fif_epochs['Auditory/Right']\n",
    "right_auditory_evoked = right_auditory_epochs.average()"
   ]
  },
  {
   "cell_type": "markdown",
   "id": "3773bdb9-bfcc-4d19-947e-0e0dab0573b6",
   "metadata": {},
   "source": [
    "### 代码5.2"
   ]
  },
  {
   "cell_type": "code",
   "execution_count": null,
   "id": "6d3f2fb1-1e89-40e4-85c2-f980883efd70",
   "metadata": {},
   "outputs": [],
   "source": [
    "right_auditory_evoked "
   ]
  },
  {
   "cell_type": "markdown",
   "id": "2941cfd5-9fcf-40ae-967a-9aede9b40c7e",
   "metadata": {},
   "source": [
    "### 代码5.3"
   ]
  },
  {
   "cell_type": "code",
   "execution_count": null,
   "id": "178e5d33-2529-4f22-a32e-dfb90f483703",
   "metadata": {},
   "outputs": [],
   "source": [
    "right_auditory_evoked_data = right_auditory_evoked.get_data()\n",
    "print(f\"get_data{right_auditory_evoked_data}\") # 输出数据\n",
    "print(f\"data_shape{right_auditory_evoked_data.shape}\") # 输出数组维度属性"
   ]
  },
  {
   "cell_type": "markdown",
   "id": "a74c6e5f-4467-41d8-9e46-7e348a5b4489",
   "metadata": {},
   "source": [
    "### 代码5.4"
   ]
  },
  {
   "cell_type": "code",
   "execution_count": null,
   "id": "9105604a-820b-46f7-9538-a847737f9adb",
   "metadata": {},
   "outputs": [],
   "source": [
    "fif_epochs=mne.read_epochs(r\"C:\\weicg\\Desktop\\Python心理学应用\\epoch\\fif_epoch.fif\")\n",
    "# 从 epochs 中提取条件为 'Auditory/Right' 的所有 epochs\n",
    "right_auditory_epochs=fif_epochs['Auditory/Right'] \n",
    "left_auditory_epochs=fif_epochs['Auditory/Left'] \n",
    "\n",
    "right_auditory_evoked = right_auditory_epochs.average()\n",
    "left_auditory_evoked = left_auditory_epochs.average()\n",
    "# 使用mne.grand_average()\n",
    "evoked_auditory_avg = mne.grand_average([right_auditory_evoked,left_auditory_evoked])\n",
    "\n",
    "# 使用mne.combine_evoked()，每个evoked对象的权重为1/2，结果与上面一致\n",
    "evoked_auditory_avg_equal = mne.combine_evoked([right_auditory_evoked,left_auditory_evoked], weights='equal')\n",
    "\n",
    "# 使用mne.combine_evoked()计算差异波,right_auditory_evoked*1 + left_auditory_evoked*(-1) \n",
    "evoked_auditory_diff = mne.combine_evoked([right_auditory_evoked,left_auditory_evoked], weights=[1,-1]) "
   ]
  },
  {
   "cell_type": "markdown",
   "id": "48ef3bac-6b2a-466b-b043-3f0cae6eb078",
   "metadata": {},
   "source": [
    "### 代码5.5"
   ]
  },
  {
   "cell_type": "code",
   "execution_count": null,
   "id": "af539d70-02a8-45de-b95d-45287680bb1c",
   "metadata": {},
   "outputs": [],
   "source": [
    "right_auditory_evoked.plot(picks='eeg') "
   ]
  },
  {
   "cell_type": "markdown",
   "id": "d8d978a3-ceb9-409e-bed8-0cab91a4b6f7",
   "metadata": {},
   "source": [
    "### 代码5.6"
   ]
  },
  {
   "cell_type": "code",
   "execution_count": null,
   "id": "88d0ea33-a117-4b08-9fee-047af3e61a9b",
   "metadata": {},
   "outputs": [],
   "source": [
    "right_auditory_evoked.plot_topomap(ch_type='eeg') "
   ]
  },
  {
   "cell_type": "markdown",
   "id": "8ac5f9f0-a13e-490e-9920-7cf71a2f5558",
   "metadata": {},
   "source": [
    "### 代码5.7"
   ]
  },
  {
   "cell_type": "code",
   "execution_count": null,
   "id": "edbc05d1-2933-4442-9d20-3c3351509d56",
   "metadata": {},
   "outputs": [],
   "source": [
    "right_auditory_evoked.plot_joint(title='plot_joint')"
   ]
  },
  {
   "cell_type": "markdown",
   "id": "5c437fc7-5c64-4ab6-8a03-3a14e317ac47",
   "metadata": {},
   "source": [
    "### 代码5.8"
   ]
  },
  {
   "cell_type": "code",
   "execution_count": null,
   "id": "bcdeca68-4aab-40d6-89f4-2bcd95fdae3d",
   "metadata": {},
   "outputs": [],
   "source": [
    "# 获取 right_auditory_evoked 对象中所有通道的名称\n",
    "all_channel_names = right_auditory_evoked.ch_names\n",
    "\n",
    "# 定义左侧和右侧 ROI（感兴趣区域）的通道名称列表\n",
    "left = ['EEG 025', 'EEG 026', 'EEG 027']  # 左侧通道\n",
    "right = ['EEG 033', 'EEG 034', 'EEG 035']  # 右侧通道\n",
    "\n",
    "# 使用 mne.pick_channels 函数根据通道名称获取对应的索引\n",
    "# left_idx 是左侧通道名称对应的索引列表\n",
    "left_idx = mne.pick_channels(all_channel_names, include=left)\n",
    "# right_idx 是右侧通道名称对应的索引列表\n",
    "right_idx = mne.pick_channels(all_channel_names, include=right)\n",
    "\n",
    "# 创建一个字典 roi_dict，将左右侧通道索引分别命名为 'left_ROI' 和 'right_ROI'\n",
    "# 字典的键是 ROI 的名称，值是对应的通道索引列表\n",
    "roi_dict = dict(left_ROI=left_idx, right_ROI=right_idx)\n",
    "\n",
    "# 使用 mne.channels.combine_channels 函数将左右侧 ROI 的通道数据分别进行平均\n",
    "# right_auditory_evoked 是输入数据，roi_dict 定义了分组，method=\"mean\" 表示使用平均值作为聚合方法\n",
    "# 返回的 roi_evoked 是一个新的 Evoked 对象，包含两个虚拟通道：'left_ROI' 和 'right_ROI'\n",
    "roi_evoked = mne.channels.combine_channels(right_auditory_evoked, roi_dict, method=\"mean\")\n",
    "\n",
    "# 绘制 roi_evoked 的数据\n",
    "roi_evoked.plot(titles='roi_evoked')"
   ]
  },
  {
   "cell_type": "markdown",
   "id": "ae0cd8a2-0aed-4663-8abb-dadc6e214260",
   "metadata": {},
   "source": [
    "### 代码5.9"
   ]
  },
  {
   "cell_type": "code",
   "execution_count": null,
   "id": "dfd00358-7c33-4352-9f4e-3d82402c4e50",
   "metadata": {},
   "outputs": [],
   "source": [
    "import mne\n",
    "import matplotlib.pyplot as plt\n",
    "\n",
    "# 读取 epochs 数据\n",
    "epochs = mne.read_epochs(r\"C:\\weicg\\Desktop\\Python心理学应用\\epoch\\fif_epoch.fif\")\n",
    "\n",
    "# 提取听觉右刺激（Auditory/Right）对应的 trials 并计算平均\n",
    "right_auditory_evoked = epochs['Auditory/Right'].average()\n",
    "\n",
    "# 提取视觉右刺激（Visual/Right）对应的 trials 并计算平均\n",
    "right_visual_evoked = epochs['Visual/Right'].average()\n",
    "\n",
    "# 将两种条件的 Evoked 数据存储在字典中\n",
    "evokeds = dict(auditory=right_auditory_evoked, visual=right_visual_evoked)\n",
    "\n",
    "# 选择要绘制的 EEG 通道\n",
    "picks = [f\"EEG 0{n}\" for n in range(10, 15)]\n",
    "\n",
    "# 设置全局字体大小\n",
    "plt.rcParams.update({'font.size': 14})\n",
    "\n",
    "# 使用 mne.viz.plot_compare_evokeds 函数绘制两种条件的比较图\n",
    "# evokeds 是包含两种条件的 Evoked 数据的字典\n",
    "# picks 指定要绘制的通道\n",
    "# combine=\"mean\" 表示对选定的通道进行均值聚合，绘制一条平均曲线\n",
    "# 绘制 evoked 数据比较图\n",
    "mne.viz.plot_compare_evokeds(evokeds, title='Right Auditory VS Right Visual',invert_y=True,\n",
    "                             picks=picks, combine='mean', time_unit='ms')"
   ]
  },
  {
   "cell_type": "code",
   "execution_count": null,
   "id": "c7bc0263-8bdf-4b2d-af80-196b2c4ae003",
   "metadata": {},
   "outputs": [],
   "source": [
    "os.getcwd()"
   ]
  },
  {
   "cell_type": "code",
   "execution_count": null,
   "id": "15d9669c-7057-47dc-84b8-e547e07f411d",
   "metadata": {},
   "outputs": [],
   "source": [
    "import mne\n",
    "import matplotlib.pyplot as plt\n",
    "\n",
    "# 读取 epochs 数据\n",
    "epochs = mne.read_epochs(r\"C:\\weicg\\Desktop\\Python心理学应用\\epoch\\fif_epoch.fif\")\n",
    "\n",
    "# 提取听觉右刺激（Auditory/Right）对应的 trials 并计算平均\n",
    "right_auditory_evoked = epochs['Auditory/Right'].average()\n",
    "\n",
    "# 提取视觉右刺激（Visual/Right）对应的 trials 并计算平均\n",
    "right_visual_evoked = epochs['Visual/Right'].average()\n",
    "\n",
    "# 将两种条件的 Evoked 数据存储在字典中\n",
    "evokeds = dict(auditory=right_auditory_evoked, visual=right_visual_evoked)\n",
    "\n",
    "# 选择要绘制的 EEG 通道\n",
    "picks = [f\"EEG 0{n}\" for n in range(10, 15)]\n",
    "\n",
    "# 设置全局字体大小\n",
    "plt.rcParams.update({'font.size': 14})\n",
    "\n",
    "# 使用 mne.viz.plot_compare_evokeds 函数绘制两种条件的比较图\n",
    "# evokeds 是包含两种条件的 Evoked 数据的字典\n",
    "# picks 指定要绘制的通道\n",
    "# combine=\"mean\" 表示对选定的通道进行均值聚合，绘制一条平均曲线\n",
    "# 绘制 evoked 数据比较图\n",
    "mne.viz.plot_compare_evokeds(evokeds, title='Right Auditory VS Right Visual',invert_y=True,\n",
    "                             picks=picks, combine='mean', time_unit='ms')\n"
   ]
  },
  {
   "cell_type": "markdown",
   "id": "fb4b9275-4a76-492d-8e3a-de78c2acf8b4",
   "metadata": {},
   "source": [
    "### 代码6.1"
   ]
  },
  {
   "cell_type": "code",
   "execution_count": null,
   "id": "fda7ae65-a7e8-44cf-9fd6-bea53084f77c",
   "metadata": {},
   "outputs": [],
   "source": [
    "raw_fif_file = r\"C:\\weicg\\Desktop\\Python心理学应用\\raw_data\\fif\\sub1.fif\"\n",
    "raw_fif = mne.io.read_raw(raw_fif_file)\n",
    "raw_compute_psd = raw_fif.compute_psd()\n",
    "print(f\"Raw数据：{raw_compute_psd}\\n\")\n",
    "epoch_spectrum = epochs.compute_psd()\n",
    "print(f\"Epoch数据：{epoch_spectrum}\")"
   ]
  },
  {
   "cell_type": "markdown",
   "id": "b3ab25b7-65fa-4e04-a74f-1e77ae2437f1",
   "metadata": {},
   "source": [
    "### 代码6.2"
   ]
  },
  {
   "cell_type": "code",
   "execution_count": null,
   "id": "580e36cb-b53c-445c-85fb-492ea84d36e8",
   "metadata": {},
   "outputs": [],
   "source": [
    "epochs = mne.read_epochs(r\"C:\\weicg\\Desktop\\Python心理学应用\\epoch\\fif_epoch.fif\")\n",
    "epoch_spectrum = epochs.compute_psd()\n",
    "psds, freqs = epoch_spectrum.get_data(return_freqs=True)\n",
    "print(f\"PSDs shape: {psds.shape}, freqs shape: {freqs.shape}\\n\")\n",
    "right_auditory_evoked = right_auditory_epochs.average()\n",
    "evoked_spectrum = right_auditory_evoked .compute_psd()\n",
    "print(f\"evoked_spectrum shape: {evoked_spectrum.shape}\")"
   ]
  },
  {
   "cell_type": "markdown",
   "id": "3ba7a668-f049-4ff0-bf16-a7ad86a0c4ca",
   "metadata": {},
   "source": [
    "### 代码6.3"
   ]
  },
  {
   "cell_type": "code",
   "execution_count": null,
   "id": "8b22b132-a0c6-443b-9127-b3b9f0f6fb6c",
   "metadata": {},
   "outputs": [],
   "source": [
    "evoked_spectrum.plot(picks=\"data\", exclude=\"bads\", amplitude=False)"
   ]
  },
  {
   "cell_type": "markdown",
   "id": "03692475-c5e2-4c8b-ba82-258019e5d7d8",
   "metadata": {},
   "source": [
    "### 代码6.4"
   ]
  },
  {
   "cell_type": "code",
   "execution_count": null,
   "id": "b5d0540a-09c8-416f-9b41-1a5482e0e04d",
   "metadata": {},
   "outputs": [],
   "source": [
    "evoked_spectrum.plot_topo(color=\"k\", fig_facecolor=\"w\", axis_facecolor=\"w\")"
   ]
  },
  {
   "cell_type": "markdown",
   "id": "fb224fd7-e07e-4643-af2b-a0a71fd6e676",
   "metadata": {},
   "source": [
    "### 代码6.5"
   ]
  },
  {
   "cell_type": "code",
   "execution_count": null,
   "id": "d80ed49b-6246-4ac6-a0dd-fc5741d01fa3",
   "metadata": {},
   "outputs": [],
   "source": [
    "evoked_spectrum.plot_topomap(show_names=True)"
   ]
  },
  {
   "cell_type": "markdown",
   "id": "902cc8d8-8086-48b3-8125-4757472efc20",
   "metadata": {},
   "source": [
    "### 代码7.1"
   ]
  },
  {
   "cell_type": "code",
   "execution_count": null,
   "id": "788053be-69e3-4f5f-9712-1c862a435d16",
   "metadata": {},
   "outputs": [],
   "source": [
    "# 使用 np.logspace 生成在对数尺度上均匀分布的频率点\n",
    "# 参数说明：\n",
    "# - np.log10([6, 35])：将 6 和 35 转换为对数尺度\n",
    "# - num=8：生成 8 个频率点\n",
    "# 结果 freqs 是一个包含 8 个频率值的数组，范围从 6 Hz 到 35 Hz\n",
    "import numpy as np\n",
    "freqs = np.logspace(*np.log10([6, 35]), num=8)\n",
    "# 设置频率范围和时间步长\n",
    "n_cycles = freqs / 4.0  # 周期数\n",
    "\n",
    "print(f\"freqs:{freqs}\")\n",
    "print(f\"n_cycles:{n_cycles}\")\n",
    "\n",
    "# 使用 compute_tfr 方法计算时频表示（Time-Frequency Representation, TFR）\n",
    "# 参数说明：\n",
    "# - method=\"morlet\"：使用 Morlet 小波进行时频分析\n",
    "# - freqs=freqs：指定分析的频率范围\n",
    "# - n_cycles=n_cycles：指定每个频率对应的小波周期数\n",
    "# - average=True：对所有 trials 进行平均，返回平均功率\n",
    "# - return_itc=True：返回跨 trial 的相位一致性（ITC）\n",
    "# - decim=3：对时间维度进行降采样，保留每 3 个时间点中的一个\n",
    "\n",
    "power, itc = epochs.compute_tfr(\n",
    "    method=\"morlet\",\n",
    "    freqs=freqs,\n",
    "    n_cycles=n_cycles,\n",
    "    average=True,\n",
    "    return_itc=True,\n",
    "    decim=3,\n",
    ")\n",
    "\n",
    "# 返回结果：\n",
    "# - power：时频功率谱，表示信号在不同频率和时间点上的能量分布\n",
    "# - itc：跨 trial 的相位一致性，表示信号在不同频率和时间点上的相位稳定性\n",
    "print(f\"power:{power}\")\n",
    "print(f\"itc:{itc}\")"
   ]
  },
  {
   "cell_type": "markdown",
   "id": "b48b3862-7e2d-4068-b290-a462e96a20da",
   "metadata": {},
   "source": [
    "### 代码7.2"
   ]
  },
  {
   "cell_type": "code",
   "execution_count": null,
   "id": "38370a0e-08f7-4a5d-82d3-9376f62a4f28",
   "metadata": {},
   "outputs": [],
   "source": [
    "# 使用 plot_topo 方法绘制所有通道的时频地形图\n",
    "# 参数说明：\n",
    "# - baseline=(-0.5, 0)：指定基线校正的时间范围为 -0.5 秒到 0 秒\n",
    "# - mode=\"logratio\"：使用对数比率（logratio）进行基线校正\n",
    "# - title=\"Average power\"：设置图的标题为 \"Average power\"\n",
    "power.plot_topo(baseline=(-0.5, 0), mode=\"logratio\", title=\"Average power\")\n",
    "\n",
    "# 使用 plot 方法绘制特定通道的时频图\n",
    "# 参数说明：\n",
    "# - picks=[56]：选择索引为 56 的通道进行绘图\n",
    "# - baseline=(-0.5, 0)：指定基线校正的时间范围为 -0.5 秒到 0 秒\n",
    "# - mode=\"logratio\"：使用对数比率（logratio）进行基线校正\n",
    "# - title=power.ch_names[56]：将图的标题设置为该通道的名称\n",
    "power.plot(picks=[56], baseline=(-0.5, 0), mode=\"logratio\", title=power.ch_names[56])"
   ]
  },
  {
   "cell_type": "markdown",
   "id": "7fb01824-3e99-4eb0-92b4-8d64e9cf0f16",
   "metadata": {},
   "source": [
    "### 代码8.1"
   ]
  },
  {
   "cell_type": "code",
   "execution_count": null,
   "id": "b6cda6b0-8b68-483a-a728-02d08b1014f8",
   "metadata": {},
   "outputs": [],
   "source": [
    "# 导入必要的Python库\n",
    "import mne  # 用于处理和分析脑电（EEG）和脑磁（MEG）数据的库\n",
    "import os  # 用于处理文件路径和操作系统相关功能\n",
    "import numpy as np  # 用于数值计算和数组操作\n",
    "import scipy.stats as stats  # 用于统计分析和假设检验\n",
    "import matplotlib.pyplot as plt  # 用于数据可视化\n",
    "# 从MNE库中导入FDR（False Discovery Rate）校正方法，用于多重比较校正\n",
    "from mne.stats import fdr_correction \n",
    "\n",
    "# 定义数据文件夹的路径\n",
    "path = r'C:\\weicg\\Desktop\\Python心理学应用\\epoch\\group_epoch'  # 将 'your_folder_path' 替换为实际存储数据的文件夹路径\n",
    "\n",
    "# 定义被试编号列表\n",
    "subjects = [1, 2, 5, 6, 9, 10]  # 包含6名被试的编号\n",
    "\n",
    "# 根据被试编号生成对应的文件名列表\n",
    "# 使用列表推导式生成文件名，格式为 's1_epoch.fif', 's2_epoch.fif', ..., 's10_epoch.fif'\n",
    "files = ['s' + str(x) + '_epoch.fif' for x in subjects]\n",
    "\n",
    "# 将文件夹路径与文件名结合，生成完整的文件路径列表\n",
    "# 使用 os.path.join 将路径和文件名拼接，确保路径格式正确\n",
    "subject_files = [os.path.join(path, file) for file in files]"
   ]
  },
  {
   "cell_type": "markdown",
   "id": "15167b10-23b2-4573-bd14-5bf874da5323",
   "metadata": {},
   "source": [
    "### 代码8.2"
   ]
  },
  {
   "cell_type": "code",
   "execution_count": null,
   "id": "3fbe487d-fdef-47b1-a7c5-f8b60a82b5c8",
   "metadata": {},
   "outputs": [],
   "source": [
    "# 定义事件条件\n",
    "condition_1_events = ['11', '12', '13', '14']  # 条件1的事件编号\n",
    "condition_2_events = ['31', '32', '33', '34']  # 条件2的事件编号\n",
    "# 这些事件编号通常对应于实验设计中的不同刺激或任务条件，用于后续提取特定条件下的EEG数据。\n",
    "\n",
    "# 用字典regions定义6个兴趣区（ROI）及其对应的通道名称\n",
    "regions = {\n",
    "    \"Left Frontal\": ['F3', 'F7', 'FC5'],  # 左前额区，包含F3、F7和FC5通道\n",
    "    \"Left Central\": ['C3', 'CP3', 'CP5'],  # 左中央区，包含C3、CP3和CP5通道\n",
    "    \"Left Posterior\": ['P3', 'P7', 'O1'],  # 左后部区，包含P3、P7和O1通道\n",
    "    \"Right Frontal\": ['F4', 'F8', 'FC6'],  # 右前额区，包含F4、F8和FC6通道\n",
    "    \"Right Central\": ['C4', 'CP4', 'CP6'],  # 右中央区，包含C4、CP4和CP6通道\n",
    "    \"Right Posterior\": ['P4', 'P8', 'O2']  # 右后部区，包含P4、P8和O2通道\n",
    "}\n",
    "# 兴趣区的划分基于电极的解剖学位置，便于分析神经活动的空间分布特征。\n",
    "\n",
    "# 设定统计分析的时间窗口（200-400毫秒）\n",
    "tmin_stats = 0.2  # 时间窗口的起点（200毫秒）\n",
    "tmax_stats = 0.4  # 时间窗口的终点（400毫秒）"
   ]
  },
  {
   "cell_type": "markdown",
   "id": "9c708090-b130-4f1b-aa77-4e6992a9ae7d",
   "metadata": {},
   "source": [
    "### 代码8.3"
   ]
  },
  {
   "cell_type": "code",
   "execution_count": null,
   "id": "b99734a1-a0b0-444c-8f9a-0014d003338b",
   "metadata": {},
   "outputs": [],
   "source": [
    "# 存储 evoked 数据用于绘图\n",
    "# 创建两个字典，分别存储条件1和条件2在每个兴趣区的 evoked 数据\n",
    "evokeds_condition_1 = {region: [] for region in regions.keys()}\n",
    "evokeds_condition_2 = {region: [] for region in regions.keys()}\n",
    "\n",
    "# 存储每个被试在每个兴趣区的平均电位数据\n",
    "# 创建一个嵌套字典，用于存储每个兴趣区在条件1和条件2下的平均波幅数据\n",
    "data_per_region = {region: {\"Condition 1\": [], \"Condition 2\": []} for region in regions.keys()}\n",
    "\n",
    "# 循环加载每个被试的数据\n",
    "for subj_file in subject_files:\n",
    "    # 读取当前被试的 epochs 数据\n",
    "    epochs = mne.read_epochs(subj_file)\n",
    "\n",
    "    # 计算条件1和条件2的 evoked 数据（即平均 ERP）\n",
    "    evoked_cond1 = epochs[condition_1_events].average()  # 条件1的平均 ERP\n",
    "    evoked_cond2 = epochs[condition_2_events].average()  # 条件2的平均 ERP\n",
    "\n",
    "    # 获取每个兴趣区的通道索引\n",
    "    # 将通道名称转换为索引，方便后续提取数据\n",
    "    channel_indices = {region: [epochs.ch_names.index(ch) for ch in channels] for region, channels in regions.items()}\n",
    "\n",
    "    # 遍历每个兴趣区\n",
    "    for region, indices in channel_indices.items():\n",
    "        # 使用 combine_channels() 方法计算该兴趣区的平均 ERP\n",
    "        combined_evoked_cond1 = mne.channels.combine_channels(\n",
    "            evoked_cond1, groups={region: indices}, method=\"mean\"  # 对条件1的 ERP 进行平均\n",
    "        )\n",
    "        combined_evoked_cond2 = mne.channels.combine_channels(\n",
    "            evoked_cond2, groups={region: indices}, method=\"mean\"  # 对条件2的 ERP 进行平均\n",
    "        )\n",
    "\n",
    "        # 将计算后的 evoked 数据存储到对应的字典中，供后续绘图使用\n",
    "        evokeds_condition_1[region].append(combined_evoked_cond1)\n",
    "        evokeds_condition_2[region].append(combined_evoked_cond2)\n",
    "\n",
    "        # 提取该兴趣区在 200-400ms 时间窗口内的平均波幅\n",
    "        # 使用 copy() 创建数据的副本，避免修改原始数据\n",
    "        avg_1 = combined_evoked_cond1.copy().crop(tmin=tmin_stats, tmax=tmax_stats).data.mean()  # 条件1的平均波幅\n",
    "        avg_2 = combined_evoked_cond2.copy().crop(tmin=tmin_stats, tmax=tmax_stats).data.mean()  # 条件2的平均波幅\n",
    "\n",
    "        # 将平均波幅数据存储到 data_per_region 字典中\n",
    "        data_per_region[region][\"Condition 1\"].append(avg_1)\n",
    "        data_per_region[region][\"Condition 2\"].append(avg_2)"
   ]
  },
  {
   "cell_type": "markdown",
   "id": "29ba02d7-e12f-4c88-8c2e-c80a6a3800c6",
   "metadata": {},
   "source": [
    "### 代码8.4"
   ]
  },
  {
   "cell_type": "code",
   "execution_count": null,
   "id": "f7511625-6b6e-4a53-b664-12581804c4e7",
   "metadata": {},
   "outputs": [],
   "source": [
    "# 初始化存储 t 值和 p 值的字典\n",
    "t_values = {}  # 用于存储每个兴趣区的 t 值\n",
    "p_values = {}  # 用于存储每个兴趣区的 p 值\n",
    "\n",
    "# 统计分析：计算每个兴趣区的 t 值和 p 值\n",
    "for region in regions.keys():\n",
    "    # 对条件1和条件2的平均波幅数据进行配对 t 检验\n",
    "    t_stat, p_val = stats.ttest_rel(\n",
    "        data_per_region[region][\"Condition 1\"],  # 条件1的平均波幅数据\n",
    "        data_per_region[region][\"Condition 2\"]   # 条件2的平均波幅数据\n",
    "    )\n",
    "    # 将 t 值和 p 值存储到对应的字典中\n",
    "    t_values[region] = t_stat\n",
    "    p_values[region] = p_val\n",
    "\n",
    "# FDR 校正\n",
    "# 将 p 值从字典中提取为列表\n",
    "p_array = list(p_values.values())\n",
    "# 使用 FDR 校正方法对 p 值进行多重比较校正\n",
    "# alpha=0.05 表示显著性水平为 0.05\n",
    "# method='indep' 表示假设检验之间是独立的\n",
    "_, p_fdr_corrected = fdr_correction(p_array, alpha=0.05, method='indep')\n",
    "\n",
    "# 打印校正前后的 t 值和 p 值\n",
    "print(\"原始 t 值: \", t_values)  # 打印未校正的 t 值\n",
    "print(\"原始 p 值: \", p_values)  # 打印未校正的 p 值\n",
    "print(\"FDR 校正后的 p 值: \", dict(zip(regions.keys(), p_fdr_corrected)))  # 打印 FDR 校正后的 p 值"
   ]
  },
  {
   "cell_type": "markdown",
   "id": "e37337b8-7570-4314-9c35-a23ea8559f5a",
   "metadata": {},
   "source": [
    "### 代码8.5"
   ]
  },
  {
   "cell_type": "code",
   "execution_count": null,
   "id": "357df83b-0e1d-4cc9-9eb6-2a84029a0ea0",
   "metadata": {},
   "outputs": [],
   "source": [
    "# 计算所有被试的平均 evoked 数据（用于绘图）\n",
    "# 使用 mne.grand_average() 对每个兴趣区的 evoked 数据进行平均\n",
    "grand_evoked_condition_1 = {region: mne.grand_average(evokeds_condition_1[region]) for region in regions.keys()}  # 条件1的平均 evoked\n",
    "grand_evoked_condition_2 = {region: mne.grand_average(evokeds_condition_2[region]) for region in regions.keys()}  # 条件2的平均 evoked\n",
    "\n",
    "# 创建 2×3 子图布局（2行3列，6个脑区）\n",
    "fig, axes = plt.subplots(2, 3, figsize=(15, 8))  # 创建一个包含6个子图的画布\n",
    "\n",
    "# 脑区列表\n",
    "region_list = list(regions.keys())  # 获取所有兴趣区的名称\n",
    "\n",
    "# 遍历脑区，在对应的子图上绘制\n",
    "for i, region in enumerate(region_list):\n",
    "    row, col = divmod(i, 3)  # 计算当前脑区对应的子图位置（行和列）\n",
    "    ax = axes[row, col]  # 获取当前子图的轴对象\n",
    "\n",
    "    # 绘制条件1和条件2的 ERP 对比图\n",
    "    mne.viz.plot_compare_evokeds(\n",
    "        {\"Condition 1\": grand_evoked_condition_1[region],  # 条件1的平均 ERP\n",
    "         \"Condition 2\": grand_evoked_condition_2[region]},  # 条件2的平均 ERP\n",
    "        title=region,  # 设置子图标题为当前脑区名称\n",
    "        show=False,  # 不立即显示图形\n",
    "        axes=ax,  # 指定绘图的子图\n",
    "        truncate_xaxis=False  # 不截断 x 轴\n",
    "    )\n",
    "\n",
    "    # 高亮分析时间窗口（200-400ms）\n",
    "    ax.axvspan(tmin_stats, tmax_stats, color='yellow', alpha=0.3)  # 在时间窗口内添加黄色半透明背景\n",
    "\n",
    "    # 设置 y 轴标签，仅在第一列显示\n",
    "    if col == 0:\n",
    "        ax.set_ylabel(\"Amplitude (µV)\")  # 设置 y 轴标签为 \"Amplitude (µV)\"\n",
    "\n",
    "# 设置整个图的 x 轴和 y 轴标签\n",
    "fig.supxlabel(\"Time (s)\")  # 设置整个图的 x 轴标签为 \"Time (s)\"\n",
    "fig.supylabel(\"Amplitude (µV)\")  # 设置整个图的 y 轴标签为 \"Amplitude (µV)\"\n",
    "fig.suptitle(\"ERP Comparison Across Regions\", fontsize=14, fontweight=\"bold\")  # 设置整个图的标题\n",
    "\n",
    "# 调整布局\n",
    "plt.tight_layout()  # 自动调整子图间距，避免重叠\n",
    "plt.show()  # 显示图形"
   ]
  },
  {
   "cell_type": "markdown",
   "id": "90d10867-328b-4396-8f2e-c6db1129376e",
   "metadata": {},
   "source": [
    "### 代码8.6"
   ]
  },
  {
   "cell_type": "code",
   "execution_count": null,
   "id": "587f91d3-9cdb-4042-8155-21f3fe2c2e2e",
   "metadata": {},
   "outputs": [],
   "source": [
    "# 导入必要的库\n",
    "import mne  # 用于处理和分析EEG/MEG数据\n",
    "import os  # 用于处理文件路径\n",
    "import numpy as np  # 用于数值计算\n",
    "from mne.channels import find_ch_adjacency  # 用于查找电极的邻接关系\n",
    "from mne.stats import combine_adjacency, spatio_temporal_cluster_test  # 用于统计分析和簇检验\n",
    "from mne.viz import plot_compare_evokeds  # 用于可视化ERP数据\n",
    "from mne.time_frequency import tfr_multitaper  # 用于时频分析\n",
    "from mne.stats import spatio_temporal_cluster_1samp_test  # 用于单样本簇检验\n",
    "from mpl_toolkits.axes_grid1 import make_axes_locatable  # 用于调整子图布局\n",
    "import matplotlib  # 用于绘图\n",
    "matplotlib.use('Qt5Agg')  # 设置matplotlib的后端\n",
    "import matplotlib.pyplot as plt  # 用于绘图\n",
    "\n",
    "# 加载预处理后的epochs数据\n",
    "path = r'C:\\weicg\\weicg\\Desktop\\data'  # 数据存储路径\n",
    "subjects = [2, 3, 4, 5]  # 被试编号\n",
    "files = ['s' + str(x) + '_epoch.fif' for x in subjects]  # 生成文件名列表\n",
    "file_paths = [os.path.join(path, file) for file in files]  # 生成完整文件路径列表\n",
    "\n",
    "# 存储每个被试的epochs数据\n",
    "epochs_list = []\n",
    "\n",
    "# 加载每个被试的epochs数据\n",
    "for file_path in file_paths:\n",
    "    epochs = mne.read_epochs(file_path)  # 读取epochs数据\n",
    "    epochs_list.append(epochs)  # 将epochs数据添加到列表中\n",
    "\n",
    "# 设置频率范围和时间步长\n",
    "frequencies = np.arange(4, 30, 3)  # 频率范围：4-30 Hz，步长为3 Hz\n",
    "n_cycles = frequencies / 4.0  # 每个频率对应的周期数\n",
    "\n",
    "# 存储每个被试在每个条件下的平均时频数据\n",
    "avg_power_list_cond1 = []  # 条件1的平均时频数据\n",
    "avg_power_list_cond2 = []  # 条件2的平均时频数据\n",
    "\n",
    "# 计算每个被试的时频数据\n",
    "for epochs in epochs_list:\n",
    "    # 计算条件1的时频数据\n",
    "    power_cond1 = epochs[['11', '12']].compute_tfr(\n",
    "        method=\"morlet\",  # 使用Morlet小波\n",
    "        freqs=frequencies,  # 频率范围\n",
    "        n_cycles=n_cycles,  # 周期数\n",
    "        average=False,  # 不进行平均\n",
    "        return_itc=False,  # 不返回ITC\n",
    "    )\n",
    "    # 计算条件2的时频数据\n",
    "    power_cond2 = epochs[['21', '22']].compute_tfr(\n",
    "        method=\"morlet\",\n",
    "        freqs=frequencies,\n",
    "        n_cycles=n_cycles,\n",
    "        average=False,\n",
    "        return_itc=False,\n",
    "    )\n",
    "    \n",
    "    # 对时频数据进行平均\n",
    "    avg_power_cond1 = power_cond1.data.mean(axis=0, keepdims=True)  # 条件1的平均时频数据\n",
    "    avg_power_cond2 = power_cond2.data.mean(axis=0, keepdims=True)  # 条件2的平均时频数据\n",
    "    \n",
    "    # 将平均时频数据添加到列表中\n",
    "    avg_power_list_cond1.append(avg_power_cond1)\n",
    "    avg_power_list_cond2.append(avg_power_cond2)\n",
    "\n",
    "# 提取两个条件的时频数据\n",
    "X_condition1 = np.array([power.data for power in avg_power_list_cond1])  # 条件1的时频数据\n",
    "X_condition2 = np.array([power.data for power in avg_power_list_cond2])  # 条件2的时频数据\n",
    "X_condition1 = np.squeeze(X_condition1)  # 去除多余的维度\n",
    "X_condition2 = np.squeeze(X_condition2)  # 去除多余的维度\n",
    "\n",
    "# 确保数据形状正确 (n_subjects, n_times, n_freqs, n_channels)\n",
    "X_condition1 = np.transpose(X_condition1, (0, 3, 2, 1))  # 调整维度顺序\n",
    "X_condition2 = np.transpose(X_condition2, (0, 3, 2, 1))  # 调整维度顺序\n",
    "\n",
    "# 计算两个条件的时频数据的差异\n",
    "diff_mean = X_condition1.mean(axis=0) - X_condition2.mean(axis=0)  # 平均差异\n",
    "diff = X_condition1 - X_condition2  # 每个被试的差异\n",
    "\n",
    "# 进行簇的置换检验\n",
    "threshold = 3  # 簇形成的阈值\n",
    "adjacency, ch_names = find_ch_adjacency(epochs.info, ch_type=\"eeg\")  # 查找电极的邻接关系\n",
    "tfr_adjacency = combine_adjacency(len(power_cond1.times), len(frequencies), adjacency)  # 组合时间和频率的邻接关系\n",
    "\n",
    "# 执行簇的置换检验\n",
    "cluster_stats = spatio_temporal_cluster_1samp_test(\n",
    "    diff,  # 差异数据\n",
    "    n_permutations=1000,  # 置换次数\n",
    "    threshold=threshold,  # 阈值\n",
    "    tail=0,  # 双尾检验\n",
    "    n_jobs=4,  # 并行计算\n",
    "    buffer_size=None,  # 缓冲区大小\n",
    "    adjacency=tfr_adjacency,  # 邻接关系\n",
    ")\n",
    "\n",
    "# 提取检验结果\n",
    "T_obs, clusters, p_values, _ = cluster_stats\n",
    "# 筛选显著的簇（本例仅为示意，故设定p值阈值为0.5，以获得显著的簇）\n",
    "good_cluster_inds = np.where(p_values < 0.5)[0]\n",
    "print(p_values)  # 输出p_values\n",
    "print(good_cluster_inds)  # 显著的簇\n",
    "\n",
    "# 可视化显著的簇\n",
    "for i_clu, clu_idx in enumerate(good_cluster_inds):\n",
    "    # 提取簇的时间、频率和空间索引\n",
    "    time_inds, freq_inds, space_inds = clusters[clu_idx]\n",
    "    ch_inds = np.unique(space_inds)  # 显著通道索引\n",
    "    time_inds = np.unique(time_inds)  # 显著时间点索引\n",
    "    freq_inds = np.unique(freq_inds)  # 显著频率索引\n",
    "\n",
    "    # 计算显著簇的T值地形图\n",
    "    T_map = T_obs[:, freq_inds, :].mean(axis=1)  # 平均频率维度\n",
    "    T_map = T_map[time_inds, :].mean(axis=0)  # 平均时间维度\n",
    "\n",
    "    # 获取显著时间点\n",
    "    sig_times = epochs.times[time_inds]\n",
    "\n",
    "    # 初始化图形\n",
    "    fig, ax_topo = plt.subplots(1, 1, figsize=(10, 3), layout=\"constrained\")\n",
    "\n",
    "    # 创建空间掩码\n",
    "    mask = np.zeros((T_map.shape[0], 1), dtype=bool)\n",
    "    mask[ch_inds, :] = True  # 标记显著通道\n",
    "\n",
    "    # 绘制显著簇的地形图\n",
    "    T_evoked = mne.EvokedArray(T_map[:, np.newaxis], epochs.info, tmin=0)\n",
    "    T_evoked.plot_topomap(\n",
    "        times=0,\n",
    "        mask=mask,\n",
    "        axes=ax_topo,\n",
    "        cmap=\"Reds\",\n",
    "        vlim=(np.min, np.max),\n",
    "        show=False,\n",
    "        colorbar=False,\n",
    "        mask_params=dict(markersize=10),\n",
    "    )\n",
    "    image = ax_topo.images[0]\n",
    "\n",
    "    # 创建额外的轴（用于ERF和颜色条）\n",
    "    divider = make_axes_locatable(ax_topo)\n",
    "\n",
    "    # 添加颜色条\n",
    "    ax_colorbar = divider.append_axes(\"right\", size=\"5%\", pad=0.05)\n",
    "    plt.colorbar(image, cax=ax_colorbar)\n",
    "    ax_topo.set_xlabel(\n",
    "        \"Averaged T-map ({:0.3f} - {:0.3f} s)\".format(*sig_times[[0, -1]])\n",
    "    )\n",
    "\n",
    "    # 移除默认标题\n",
    "    ax_topo.set_title(\"\")\n",
    "\n",
    "    # 添加新的轴用于频谱图\n",
    "    ax_spec = divider.append_axes(\"right\", size=\"300%\", pad=1.2)\n",
    "    title = f\"Cluster #{i_clu + 1}, {len(ch_inds)} spectrogram\"\n",
    "    if len(ch_inds) > 1:\n",
    "        title += \" (max over channels)\"\n",
    "    T_obs_plot = T_obs[..., ch_inds].max(axis=-1)  # 显著通道的最大T值\n",
    "\n",
    "    # 绘制频谱图\n",
    "    for T_image, cmap in zip([T_obs_plot], [\"autumn\"]):\n",
    "        c = ax_spec.imshow(\n",
    "            T_image,\n",
    "            cmap=cmap,\n",
    "            aspect=\"auto\",\n",
    "            origin=\"lower\",\n",
    "            extent=[epochs.times[0], epochs.times[-1], frequencies[0], frequencies[-1]],\n",
    "        )\n",
    "    ax_spec.set_xlabel(\"Time (ms)\")\n",
    "    ax_spec.set_ylabel(\"Frequency (Hz)\")\n",
    "    ax_spec.set_title(title)\n",
    "\n",
    "    # 添加第二个颜色条\n",
    "    ax_colorbar2 = divider.append_axes(\"right\", size=\"5%\", pad=0.05)\n",
    "    plt.colorbar(c, cax=ax_colorbar2)\n",
    "    ax_colorbar2.set_ylabel(\"T-stat\")\n",
    "\n",
    "# 显示图形\n",
    "plt.show()"
   ]
  }
 ],
 "metadata": {
  "kernelspec": {
   "display_name": "Python 3 (ipykernel)",
   "language": "python",
   "name": "python3"
  },
  "language_info": {
   "codemirror_mode": {
    "name": "ipython",
    "version": 3
   },
   "file_extension": ".py",
   "mimetype": "text/x-python",
   "name": "python",
   "nbconvert_exporter": "python",
   "pygments_lexer": "ipython3",
   "version": "3.12.6"
  }
 },
 "nbformat": 4,
 "nbformat_minor": 5
}
