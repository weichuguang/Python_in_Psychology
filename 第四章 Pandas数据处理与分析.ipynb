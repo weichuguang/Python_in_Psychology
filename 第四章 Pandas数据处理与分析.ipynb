{
 "cells": [
  {
   "cell_type": "markdown",
   "id": "49779db1-976b-4725-a738-cd2d28ad7923",
   "metadata": {},
   "source": [
    "# 第四章 Pandas 基础"
   ]
  },
  {
   "cell_type": "code",
   "execution_count": null,
   "id": "1db94c08-d062-413c-bc67-69da9398054d",
   "metadata": {},
   "outputs": [],
   "source": [
    "\"\"\"\n",
    "本代码为《Python心理学应用》一书第四章Pandas基础中的全部代码\n",
    "建议结合书本内容进行实操练习，以增进理解\n",
    "魏楚光，weicg@psych.ac.cn \n",
    "8-Dec-2024\n",
    "\"\"\""
   ]
  },
  {
   "cell_type": "markdown",
   "id": "2648aed1-cb6c-443e-b221-a067ef4094dc",
   "metadata": {},
   "source": [
    "### 代码2.1"
   ]
  },
  {
   "cell_type": "code",
   "execution_count": null,
   "id": "5f78c259-947b-43b2-8c0a-bb661b2a6737",
   "metadata": {},
   "outputs": [],
   "source": [
    "import numpy as np #导入numpy,并且以np缩写来指代\n",
    "import pandas as pd #导入pandas,并且以pd缩写来指代\n",
    "# 创建一个 NumPy 数组，其中所有元素必须是相同的数据类型\n",
    "arr = np.array([1, 2, 3, 4.5])  # 自动将所有元素转换为浮点型\n",
    "print(arr)  # 输出: [1.  2.  3.  4.5]\n",
    "print(arr.dtype)  # 输出: float64\n",
    "\n",
    "# 创建一个 Pandas DataFrame，不同列可以包含不同的数据类型\n",
    "df = pd.DataFrame({\n",
    "    'Age': [25, 30, 35],\n",
    "    'Name': ['张三', '李四', '王五'],\n",
    "    '反应时': [0.865, 0.970, 0.886]\n",
    "})\n",
    "print(df)"
   ]
  },
  {
   "cell_type": "markdown",
   "id": "991859f6-8ceb-4a69-ad1d-3fb8fc003fc0",
   "metadata": {},
   "source": [
    "### 代码2.2"
   ]
  },
  {
   "cell_type": "code",
   "execution_count": null,
   "id": "6485c0b9-7d3e-4b2f-bed8-91d75578feca",
   "metadata": {},
   "outputs": [],
   "source": [
    "import numpy as np \n",
    "import pandas as pd \n",
    "#创建二维数组,并完成numpy和pandas数据的转换\n",
    "arr3=np.array([[1,2],[3,4]])\n",
    "df1=pd.DataFrame(data=arr3,columns=[\"col1\",\"col2\"]) #把numpy二维数组转换为DataFrame的方法\n",
    "arr4=df1.to_numpy() #把DataFrame转换成numpy数组的方法\n",
    "print(\"arr3数组：\",arr3)\n",
    "print(\"df1矩阵：\",df1)\n",
    "print(\"arr4数组：\",arr4)"
   ]
  },
  {
   "cell_type": "markdown",
   "id": "d3931e4f-40b3-4ba7-a257-4cf4af21af99",
   "metadata": {},
   "source": [
    "### 代码2.3"
   ]
  },
  {
   "cell_type": "code",
   "execution_count": null,
   "id": "7c66d20f-5f7c-4995-ab0c-33b3f5d4160e",
   "metadata": {},
   "outputs": [],
   "source": [
    "import numpy as np \n",
    "import pandas as pd \n",
    "#创建三维数组，并完成numpy和pandas数据的转换\n",
    "arr5=np.arange(1,9).reshape(2,2,2) #创建三维数组\n",
    "shape = arr5.shape # 获取三维数组的形状\n",
    "arr5_2d = arr5.reshape(shape[0]*shape[1], shape[2]) # 将三维数组转换为二维数组\n",
    "index = pd.MultiIndex.from_product([range(shape[0]), range(shape[1])], names=['dim0', 'dim1'])# 创建复合行索引\n",
    "df2 = pd.DataFrame(arr5_2d, index=index,columns=[\"col1\",\"col2\"])# 将二维数组转换为pandas DataFrame，并设置复合行索引\n",
    "arr6=df2.to_numpy()\n",
    "print(\"arr5数组：\",arr5)\n",
    "print(\"df2矩阵：\",df2)\n",
    "print(\"arr6数组：\",arr6)"
   ]
  },
  {
   "cell_type": "markdown",
   "id": "dde3c70a-80ce-49d1-b31f-59022ac9dc82",
   "metadata": {},
   "source": [
    "### 代码3.1"
   ]
  },
  {
   "cell_type": "code",
   "execution_count": null,
   "id": "65d08988-fd05-43a3-b116-07af1c035e83",
   "metadata": {},
   "outputs": [],
   "source": [
    "import numpy as np\n",
    "import pandas as pd\n",
    "#生成两列随机数据，分别代表统计得来的身高和体重\n",
    "np.random.seed(123)  #确定随机种子\n",
    "subID=np.arange(1,101) #生成1-100的subID\n",
    "weight=np.random.normal(50,8,100) #生成 100 个服从正态分布的体重数据，均值为50，标准差为8\n",
    "height=np.random.normal(170,15,100)\n",
    "#将数据合并在一起，形成一个形状为100x2的二维数组\n",
    "data=np.dstack((subID,height,weight)).reshape((100,3))\n",
    "#数组转换为pandas的DataFrame矩阵数据。\n",
    "df=pd.DataFrame(data=data,columns=[\"被试号\",\"身高\",\"体重\"])\n",
    "df=df.set_index([\"被试号\"]) #将默认整数行索引改为被试号列索引\n",
    "#将DataFrame矩阵数据导出为不同格式文档\n",
    "df.to_csv('身高体重数据.txt')\n",
    "df.to_csv('身高体重数据.csv')\n",
    "df.to_excel(\"身高体重数据.xlsx\")"
   ]
  },
  {
   "cell_type": "markdown",
   "id": "97b3991a-5028-4133-aab6-c0d01bf64fd7",
   "metadata": {},
   "source": [
    "### 代码3.2"
   ]
  },
  {
   "cell_type": "code",
   "execution_count": null,
   "id": "270c5e5b-aad1-409f-ac2b-da82a6a33004",
   "metadata": {},
   "outputs": [],
   "source": [
    "import pandas as pd \n",
    "#读取外部的excel数据\n",
    "df=pd.read_excel(\"身高体重数据.xlsx\")\n",
    "print(df)"
   ]
  },
  {
   "cell_type": "markdown",
   "id": "2b4d8ec8-cade-466d-8327-8686aa24987c",
   "metadata": {},
   "source": [
    "### 代码4.1"
   ]
  },
  {
   "cell_type": "code",
   "execution_count": null,
   "id": "42decf89-ab31-4977-93ad-e6f0b73221b8",
   "metadata": {},
   "outputs": [],
   "source": [
    "import pandas as pd \n",
    "#读取外部的excel数据\n",
    "df=pd.read_excel(\"身高体重数据.xlsx\")\n",
    "#选择某列数据\n",
    "print(\"使用[列名]选择单个列：\",df[\"身高\"])\n",
    "print(\"使用[列名列表]选择多个列：\",df[[\"体重\",\"身高\"]])"
   ]
  },
  {
   "cell_type": "markdown",
   "id": "0b950ac6-cfe9-4fd3-940a-365b95f1c4e5",
   "metadata": {},
   "source": [
    "### 代码4.2"
   ]
  },
  {
   "cell_type": "code",
   "execution_count": null,
   "id": "268ae5c3-a3a7-4cbe-b9cd-2e9304565680",
   "metadata": {},
   "outputs": [],
   "source": [
    "import pandas as pd \n",
    "df=pd.read_excel(\"身高体重数据.xlsx\")\n",
    "print(\"使用.loc[索引]选择单个行：\",df.loc[1])\n",
    "print(\"使用.loc[索引列表]选择多个行：\",df.loc[[1,2,10]])\n",
    "print(\"使用.loc[索引,列名]选择某行某列的值：\",df.loc[2,\"身高\"])\n",
    "print(\"使用.loc[索引操作符，列名操作符]选择指定数据：\",df.loc[1:10:3,[\"身高\",\"体重\"]])"
   ]
  },
  {
   "cell_type": "markdown",
   "id": "11fba989-6154-4a03-b105-245b96e0c754",
   "metadata": {},
   "source": [
    "### 代码4.3"
   ]
  },
  {
   "cell_type": "code",
   "execution_count": null,
   "id": "5324b5eb-8663-492d-be67-6bf343261e09",
   "metadata": {},
   "outputs": [],
   "source": [
    "import pandas as pd \n",
    "df=pd.read_excel(\"身高体重数据.xlsx\")\n",
    "print(\"使用.iloc[行索引操作符，列索引操作符]选择指定数据：\",df.iloc[1:10:3,:])"
   ]
  },
  {
   "cell_type": "markdown",
   "id": "61b1a84c-3670-4bb9-8e6a-2f0ed396be1f",
   "metadata": {},
   "source": [
    "### 代码4.4"
   ]
  },
  {
   "cell_type": "code",
   "execution_count": null,
   "id": "9c7d4694-47e0-4deb-b774-e93c271ec386",
   "metadata": {},
   "outputs": [],
   "source": [
    "import pandas as pd \n",
    "df=pd.read_excel(\"身高体重数据.xlsx\")\n",
    "print(\"逻辑运算的结果：\",(df[\"身高\"]>185) & (df[\"体重\"]<45))\n",
    "print(\"使用.loc[逻辑语句]选择指定数据：\",df.loc[(df[\"体重\"]<45) & (df[\"身高\"]>185)])"
   ]
  },
  {
   "cell_type": "markdown",
   "id": "c5f4443f-4263-4b2d-8d7e-59ebea351f82",
   "metadata": {},
   "source": [
    "### 代码5.1"
   ]
  },
  {
   "cell_type": "code",
   "execution_count": null,
   "id": "91824284-f418-4d21-94f1-83fa879c5ca7",
   "metadata": {},
   "outputs": [],
   "source": [
    "import pandas as pd \n",
    "#读取外部的excel数据\n",
    "df=pd.read_excel(\"身高体重数据.xlsx\")\n",
    "print(\"原始的df数据：\",df.head(3))\n",
    "#某列与标量进行计算\n",
    "df[\"身高_米\"]=df[\"身高\"]/100 #所有数值除以标量100，将身高单位从厘米换算成米\n",
    "#两列变量进行计算\n",
    "df[\"BMI\"]=df[\"体重\"]/df[\"身高_米\"]**2\n",
    "print(\"计算bmi后的df数据：\",df.head(3))\n",
    "#将整个矩阵与标量计算\n",
    "df_adjustment =df+5\n",
    "print(\"df所有元素加5之后得到的新数据：\",df_adjustment.head(3))\n",
    "#将多个矩阵数据相加\n",
    "df_addition=df+df+df\n",
    "print(\"三个df相加得到的新数据：\",df_addition.head(3))\n",
    "#新增两列字符串类型数据\n",
    "df[\"姓氏\"]=\"王\"\n",
    "df[\"名字\"]=\"二小\"\n",
    "#将姓氏和名字连接在一起\n",
    "df[\"姓名\"]=df[\"姓氏\"]+df[\"名字\"]\n",
    "print(\"增加了三列字符串后的df数据：\",df.head(3))\n",
    "#删除某行或某列数据\n",
    "del df[\"身高\"] #删除一列\n",
    "df.drop([\"姓氏\",\"名字\"],axis=1,inplace=True) #删除多个列\n",
    "df.drop([0,2],inplace=True) #指定行的数据，axis默认是0\n",
    "print(\"删除了三列后的df数据：\",df.head(3))"
   ]
  },
  {
   "cell_type": "markdown",
   "id": "bb8f5b73-640f-4598-a83f-d24114f9c260",
   "metadata": {},
   "source": [
    "### 代码5.2"
   ]
  },
  {
   "cell_type": "code",
   "execution_count": null,
   "id": "3be44e78-1c34-4485-ba33-c09f0c03fc77",
   "metadata": {},
   "outputs": [],
   "source": [
    "import pandas as pd \n",
    "#读取外部的excel数据\n",
    "df=pd.read_excel(\"身高体重数据.xlsx\")\n",
    "#获取描述性信息\n",
    "df_describe=df.describe()\n",
    "print(df_describe)"
   ]
  },
  {
   "cell_type": "markdown",
   "id": "04f68d54-85c0-4ff3-80e7-d73dafb28907",
   "metadata": {},
   "source": [
    "### 代码5.3"
   ]
  },
  {
   "cell_type": "code",
   "execution_count": null,
   "id": "aad03bde-9b2d-4c5f-a7c7-3c3b410a2651",
   "metadata": {},
   "outputs": [],
   "source": [
    "import pandas as pd\n",
    "import numpy as np \n",
    "df=pd.DataFrame(columns=[\"题目1\",\"题目2\",\"题目3\",\"题目4\"],data=np.random.randint(1,5,(100,4)))\n",
    "print(\"100个被试在四个题目的量表上的数据：\",df)\n",
    "#计算量表总分和平均分\n",
    "df[\"平均分\"]=df.mean(axis=1)\n",
    "df[\"总分\"]=df.sum(axis=1)\n",
    "print(\"计算变量后的df数据：\",df)"
   ]
  },
  {
   "cell_type": "markdown",
   "id": "946a0504-d490-4f01-974c-9698e8c8b58a",
   "metadata": {},
   "source": [
    "### 代码5.4"
   ]
  },
  {
   "cell_type": "code",
   "execution_count": null,
   "id": "3508829e-06cb-4f57-9be7-b501e89e0b0c",
   "metadata": {},
   "outputs": [],
   "source": [
    "import pandas as pd \n",
    "import numpy as np\n",
    "#导入外部excel的数据\n",
    "df=pd.read_excel(\"身高体重数据.xlsx\")  \n",
    "#创建1个数列作为性别变量\n",
    "np.random.seed(123)  #随机种子，可以保存每次运行代码生成的随机数据是一致的\n",
    "df[\"性别\"]=np.random.randint(0,2,100)\n",
    "print(\"添加性别变量的df数组：\",df.head(3))\n",
    "#按照性别分组统计\n",
    "df_meanByGender=df.groupby(\"性别\").mean()\n",
    "df_stdByGender=df.groupby(\"性别\").std()\n",
    "print(\"按照性别分组统计平均值：\",df_meanByGender)\n",
    "print(\"按照性别分组统计标准差：\",df_stdByGender)\n",
    "#将添加性别变量后的df数据进行导出保存\n",
    "df.to_excel(\"身高体重数据.xlsx\",index=False)"
   ]
  },
  {
   "cell_type": "markdown",
   "id": "8619c0a7-8ce7-46fb-a69c-37d28ae45707",
   "metadata": {},
   "source": [
    "### 代码5.5"
   ]
  },
  {
   "cell_type": "code",
   "execution_count": null,
   "id": "9b3b6965-1c83-4f5b-8b94-0d30a44bf23e",
   "metadata": {},
   "outputs": [],
   "source": [
    "import pandas as pd \n",
    "#导入外部excel的数据\n",
    "df=pd.read_excel(\"身高体重数据.xlsx\") \n",
    "#按照性别分组统计多个参数\n",
    "df_describeByGender=df.groupby(\"性别\").describe().round(2)\n",
    "print(\"按照性别分组后的描述统计：\",df_describeByGender)\n",
    "#导出统计结果到excel\n",
    "df_describeByGender.to_excel(\"按照性别分组统计结果.xlsx\")"
   ]
  },
  {
   "cell_type": "markdown",
   "id": "49dd2520-18bc-48a2-93b5-437126836c77",
   "metadata": {},
   "source": [
    "### 代码5.6"
   ]
  },
  {
   "cell_type": "code",
   "execution_count": null,
   "id": "c7e93184-9e30-49d1-9e17-01ab84364dba",
   "metadata": {},
   "outputs": [],
   "source": [
    "import pandas as pd \n",
    "import numpy as np\n",
    "#导入外部excel的数据\n",
    "df=pd.read_excel(\"身高体重数据.xlsx\") \n",
    "#给数据再添加一个城乡分组变量\n",
    "np.random.seed(321)\n",
    "df[\"城乡\"]=np.random.randint(0,2,100)\n",
    "#按照多个分组统计多个参数的方法\n",
    "df_multiGroupby=df.groupby([\"性别\",\"城乡\"]).mean().round(3)\n",
    "print(\"按照两个分组变量统计平均值的结果：\",df_multiGroupby)\n",
    "df_agg_general=df.groupby([\"性别\",\"城乡\"]).agg([\"count\",\"mean\",\"std\"]).round(3)\n",
    "print(\"按照两个分组变量统计指定指标的结果：\",df_agg_general)\n",
    "df_agg_sepcial=df.groupby([\"性别\",\"城乡\"]).agg({\"身高\":[\"mean\",\"std\"],\"体重\":[\"min\",\"max\"]}).round(3)\n",
    "print(\"按照两个分组变量统计指定变量的指定指标的结果：\",df_agg_sepcial)\n",
    "#将添加城乡变量后的df数据进行导出保存\n",
    "df.to_excel(\"身高体重数据.xlsx\",index=False)"
   ]
  },
  {
   "cell_type": "markdown",
   "id": "14df2b88-1cb5-4b9d-b17d-e633204693bc",
   "metadata": {},
   "source": [
    "### 代码6.1"
   ]
  },
  {
   "cell_type": "code",
   "execution_count": null,
   "id": "82b2d3b1-11af-425c-990c-a43f9ce345ba",
   "metadata": {},
   "outputs": [],
   "source": [
    "import pandas as pd \n",
    "df1=pd.DataFrame({\"id\":[\"A0\",\"A1\",\"A2\"],\"身高\":[175,168,180]})\n",
    "print(\"df1数据：\",df1)\n",
    "df2=pd.DataFrame({\"id\":[\"A1\",\"A2\",\"A3\"],\"体重\":[65,60,72]})\n",
    "print(\"df2数据：\",df2)\n",
    "methods=[\"outer\",\"inner\",\"left\",\"right\"]\n",
    "for method in methods: #遍历四种方法，实现四种合并的结果\n",
    "    print(method+\"方法合并结果：\",pd.merge(df1,df2,on=\"id\",how=method))"
   ]
  },
  {
   "cell_type": "markdown",
   "id": "a4e4725f-3b62-4b36-b43e-3d46f07aa4dd",
   "metadata": {},
   "source": [
    "### 代码6.2"
   ]
  },
  {
   "cell_type": "code",
   "execution_count": null,
   "id": "bba58419-2c1d-499f-b441-e82f2380411f",
   "metadata": {},
   "outputs": [],
   "source": [
    "import pandas as pd \n",
    "df1=pd.DataFrame({\"身高\":[175,168,180],\"体重\":[69,58,69]})\n",
    "print(\"df1数据：\",df1)\n",
    "df2=pd.DataFrame({\"体重\":[65,60,72]})\n",
    "print(\"df2数据：\",df2)\n",
    "df3=pd.DataFrame({\"身高\":[170,182,150]})\n",
    "print(\"df3数据：\",df3)\n",
    "method={\"列方向\":0,\"行方向\":1}\n",
    "for k,v in method.items():\n",
    "    print(k+\"合并结果：\",pd.concat([df1,df2,df3],axis=v))"
   ]
  },
  {
   "cell_type": "markdown",
   "id": "f4f192c2-ec42-4a9c-98bb-5a4e70caf6f9",
   "metadata": {},
   "source": [
    "### 代码7.1"
   ]
  },
  {
   "cell_type": "code",
   "execution_count": null,
   "id": "07e37e69-caf9-4e17-aeb4-8296fe2c59ce",
   "metadata": {},
   "outputs": [],
   "source": [
    "import pandas as pd \n",
    "#创建一个示例DataFrame\n",
    "data1 = [0, 1, 2, None, 4]\n",
    "data2=[9,12,None,4,None]\n",
    "df = pd.DataFrame({\"A\":data1,\"B\":data2})\n",
    "#运用isna()函数和info()函数获取缺失值信息\n",
    "print(\"isna函数返回的判断结果：\",df.isna())\n",
    "print(\"info函数提供的数据概要信息：\")\n",
    "df.info()"
   ]
  },
  {
   "cell_type": "markdown",
   "id": "0336f767-581e-4c01-bdd5-45b7edba19a1",
   "metadata": {},
   "source": [
    "### 代码7.2"
   ]
  },
  {
   "cell_type": "code",
   "execution_count": null,
   "id": "3c756573-70c5-4d1c-afc3-29730fe01df0",
   "metadata": {},
   "outputs": [],
   "source": [
    "import pandas as pd \n",
    "#创建一个示例DataFrame\n",
    "data1 = [0, 1, None, None, 4]\n",
    "data2=[9,12,None,4,None]\n",
    "df = pd.DataFrame({\"A\":data1,\"B\":data2})\n",
    "print(\"处理前的df数据：\",df)\n",
    "#运用dropna()函数来删除缺失值\n",
    "df.dropna(axis=0,how=\"any\",inplace=True)\n",
    "print(\"处理后的df数据：\",df)"
   ]
  },
  {
   "cell_type": "markdown",
   "id": "c723a425-c049-41b3-b53e-e54d43598d06",
   "metadata": {},
   "source": [
    "### 代码7.3"
   ]
  },
  {
   "cell_type": "code",
   "execution_count": null,
   "id": "2b727798-51a0-4174-a02b-ffa094bd7d4b",
   "metadata": {},
   "outputs": [],
   "source": [
    "import pandas as pd \n",
    "#创建一个示例DataFrame\n",
    "data1 = [0, 1, None, None, 4]\n",
    "data2=[9,12,None,4,None]\n",
    "df = pd.DataFrame({\"A\":data1,\"B\":data2})\n",
    "print(\"处理前的df数据：\",df)\n",
    "#运用fillna()函数来填充缺失值\n",
    "df1=df.fillna(value={\"A\":2,\"B\":5})\n",
    "print(\"用指定值来填充缺失值：\",df1)\n",
    "df2=df.fillna(method=\"bfill\")\n",
    "print(\"用后面相邻的值来填充缺失值：\",df2)\n",
    "df3=df.fillna(value=df.mean())\n",
    "print(\"用所在列的平均值来填充缺失值：\",df3)"
   ]
  },
  {
   "cell_type": "markdown",
   "id": "b4c056c9-0599-4cd8-a845-731228becb3f",
   "metadata": {},
   "source": [
    "### 代码8.2"
   ]
  },
  {
   "cell_type": "code",
   "execution_count": null,
   "id": "fa938150-5175-46f3-a7bf-d7e063cb624f",
   "metadata": {},
   "outputs": [],
   "source": [
    "import pandas as pd \n",
    "#创建一个示例DataFrame\n",
    "df = pd.DataFrame({'A': [1, 2, 3, 4, 5,6]})\n",
    "# 计算列'A'中每个元素与其前一个元素的差\n",
    "df['B'] = df['A'].diff()\n",
    "print(df)"
   ]
  },
  {
   "cell_type": "markdown",
   "id": "fd2ba353-a8a4-4b13-a979-35a81f560e64",
   "metadata": {},
   "source": [
    "### 代码8.3"
   ]
  },
  {
   "cell_type": "code",
   "execution_count": null,
   "id": "f498aab2-20c4-4537-a45b-be788f086d49",
   "metadata": {},
   "outputs": [],
   "source": [
    "import pandas as pd \n",
    "#创建一个示例DataFrame\n",
    "data = [0, 1, 2, None, 4]\n",
    "df = pd.DataFrame(data, columns=['A'])\n",
    "df['B'] = df['A'].expanding().sum()\n",
    "print(df)"
   ]
  },
  {
   "cell_type": "markdown",
   "id": "23e16989-100d-4c8e-810f-72ebb96ea5b6",
   "metadata": {},
   "source": [
    "### 代码9.1"
   ]
  },
  {
   "cell_type": "code",
   "execution_count": null,
   "id": "1e5da690-55c0-47af-b124-5d740f907d8a",
   "metadata": {},
   "outputs": [],
   "source": [
    "import pandas as pd\n",
    "import matplotlib.pyplot as plt \n",
    "#创建一个Series实例\n",
    "ser=pd.Series([32,28,44,68,58,49])\n",
    "#直接用ser实例调用plot()方法\n",
    "ser.plot()\n",
    "plt.show()"
   ]
  },
  {
   "cell_type": "markdown",
   "id": "c0e54e3d-47d7-462f-8364-2b88efd26dda",
   "metadata": {},
   "source": [
    "### 代码9.2"
   ]
  },
  {
   "cell_type": "code",
   "execution_count": null,
   "id": "14e00a50-8e73-4b85-a9c2-8abe1a060090",
   "metadata": {},
   "outputs": [],
   "source": [
    "import pandas as pd \n",
    "import matplotlib.pyplot as plt\n",
    "#创建一个DataFrame实例\n",
    "df=pd.DataFrame(data=[[32,28],[44,68],[58,49],[23,33],[68,39],[43,33]],columns=[\"a\",\"b\"])\n",
    "#直接用df实例调用plot()方法\n",
    "df.plot()\n",
    "plt.show()"
   ]
  },
  {
   "cell_type": "markdown",
   "id": "35e050ce-dda7-4b6c-b3d7-3ce6f4eb7bcc",
   "metadata": {},
   "source": [
    "### 代码9.3"
   ]
  },
  {
   "cell_type": "code",
   "execution_count": null,
   "id": "59ea691f-daf2-427d-9446-2ae67a45e1d6",
   "metadata": {},
   "outputs": [],
   "source": [
    "import pandas as pd\n",
    "import matplotlib.pyplot as plt\n",
    "#定义五角星的五个顶点坐标\n",
    "vertices = [(1, 0), (-0.809, 0.588),(0.309, -0.951),(0.309, 0.951), (-0.809, -0.588),(1, 0)]\n",
    "#创建DataFrame\n",
    "df = pd.DataFrame(vertices, columns=['x', 'y'])\n",
    "#绘制五角星\n",
    "df.plot( x='x', y='y',legend=False)\n",
    "plt.gca().set_aspect('equal', adjustable='box')\n",
    "plt.show()"
   ]
  },
  {
   "cell_type": "markdown",
   "id": "3b62b825-c448-4529-9a8b-2a3ca5574fc0",
   "metadata": {},
   "source": [
    "### 代码9.4"
   ]
  },
  {
   "cell_type": "code",
   "execution_count": null,
   "id": "9b9601b2-7b21-400b-abe4-fbbc8c71c4c4",
   "metadata": {},
   "outputs": [],
   "source": [
    "import pandas as pd\n",
    "import matplotlib.pyplot as plt\n",
    "#创建一个DataFrame实例\n",
    "df=pd.DataFrame(data=[[32,28],[44,68],[58,49],[23,33],[68,39],[43,33]],columns=[\"a\",\"b\"])\n",
    "#直接用df实例调用plot()方法\n",
    "df.plot(kind=\"bar\")\n",
    "plt.show()"
   ]
  },
  {
   "cell_type": "markdown",
   "id": "5062f627-ba6e-40c9-b9e4-7007accd4922",
   "metadata": {},
   "source": [
    "### 代码9.5"
   ]
  },
  {
   "cell_type": "code",
   "execution_count": null,
   "id": "6d56e76c-f644-4901-bbee-4bd425527faa",
   "metadata": {},
   "outputs": [],
   "source": [
    "import pandas as pd\n",
    "import matplotlib.pyplot as plt\n",
    "#创建一个DataFrame实例\n",
    "df=pd.DataFrame(data=[[32,28],[44,68],[58,49],[23,33],[68,39],[43,33]],columns=[\"a\",\"b\"])\n",
    "#直接用df实例调用plot()方法\n",
    "df.plot(x=\"a\",y=\"b\",kind=\"scatter\")\n",
    "plt.show()"
   ]
  },
  {
   "cell_type": "markdown",
   "id": "998e08dd-383e-4de8-8948-5d2495d01c5e",
   "metadata": {},
   "source": [
    "### 代码9.6"
   ]
  },
  {
   "cell_type": "code",
   "execution_count": null,
   "id": "b075471a-fa82-4367-ac77-3950e9b6c04d",
   "metadata": {},
   "outputs": [],
   "source": [
    "import pandas as pd\n",
    "import matplotlib.pyplot as plt\n",
    "#创建一个DataFrame实例\n",
    "df=pd.DataFrame(data=[[32,28],[44,68],[58,49],[23,33],[68,39],[43,33]],columns=[\"a\",\"b\"])\n",
    "#直接用df实例调用plot()方法\n",
    "df.plot(subplots=True)\n",
    "plt.show()"
   ]
  },
  {
   "cell_type": "markdown",
   "id": "eebd8dea-459e-4e3c-ae9e-a8c9a61e9dd1",
   "metadata": {},
   "source": [
    "### 代码9.7"
   ]
  },
  {
   "cell_type": "code",
   "execution_count": null,
   "id": "9c841bc9-cbc3-4a47-a463-952527d22dde",
   "metadata": {},
   "outputs": [],
   "source": [
    "import pandas as pd\n",
    "import matplotlib.pyplot as plt\n",
    "#创建一个DataFrame实例\n",
    "df=pd.DataFrame(data=[[32,28],[44,68],[58,49],[23,33],[68,39],[43,33]],columns=[\"a\",\"b\"])\n",
    "#直接用df实例调用plot()方法\n",
    "df.plot(subplots=True,layout=(1,2))\n",
    "plt.show()"
   ]
  },
  {
   "cell_type": "markdown",
   "id": "9f2dfeb2-d5f3-4e6a-b446-cf5a8f5a8b96",
   "metadata": {},
   "source": [
    "### 代码9.8"
   ]
  },
  {
   "cell_type": "code",
   "execution_count": null,
   "id": "d7f072fa-2871-4fd3-b9fd-8ffcdbf2a404",
   "metadata": {},
   "outputs": [],
   "source": [
    "import pandas as pd\n",
    "import numpy as np\n",
    "import matplotlib.pyplot as plt\n",
    "#创建一个DataFrame实例\n",
    "df=pd.DataFrame(data=[[32,28],[44,68],[58,49],[23,33],[68,39],[43,33]],columns=[\"a\",\"b\"])\n",
    "df.plot(kind=\"box\",title=\"box_figure\",grid=True,ylim=[20,75],yticks=np.arange(20,75,5),xlabel=\"groups\",ylabel=\"values\")\n",
    "plt.show()"
   ]
  }
 ],
 "metadata": {
  "kernelspec": {
   "display_name": "Python 3 (ipykernel)",
   "language": "python",
   "name": "python3"
  },
  "language_info": {
   "codemirror_mode": {
    "name": "ipython",
    "version": 3
   },
   "file_extension": ".py",
   "mimetype": "text/x-python",
   "name": "python",
   "nbconvert_exporter": "python",
   "pygments_lexer": "ipython3",
   "version": "3.12.6"
  }
 },
 "nbformat": 4,
 "nbformat_minor": 5
}
